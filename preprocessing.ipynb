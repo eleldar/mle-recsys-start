{
 "cells": [
  {
   "cell_type": "markdown",
   "id": "6c9d506c-9c8c-4707-9613-02510f8b4518",
   "metadata": {},
   "source": [
    "# Описание данных"
   ]
  },
  {
   "cell_type": "markdown",
   "id": "a7c572ed-5df4-4ad3-8a20-d691bafeb261",
   "metadata": {},
   "source": [
    "Данные - специально подготовленная выборка из полного набора, описанного здесь: https://mengtingwan.github.io/data/goodreads#datasets с дополнениями из https://www.kaggle.com/datasets/austinreese/goodreads-books:\n",
    "- books: перечень книг (~44 тыс.) из списка https://www.goodreads.com/list/show/1.Best_Books_Ever (совпадение по book id),\n",
    "- interactions: взаимодействие пользователей с книгами\n",
    "\n",
    "Основной массив данных был собран в конце 2017."
   ]
  },
  {
   "cell_type": "markdown",
   "id": "b3589a9a-ce16-4d2e-b581-d75139fc58b3",
   "metadata": {},
   "source": [
    "# Инициализация"
   ]
  },
  {
   "cell_type": "code",
   "execution_count": 1,
   "id": "c6e28b2f-3822-4e27-b576-9bc42b279b32",
   "metadata": {},
   "outputs": [],
   "source": [
    "import logging\n",
    "\n",
    "import matplotlib.pyplot as plt\n",
    "import numpy as np\n",
    "import pandas as pd"
   ]
  },
  {
   "cell_type": "code",
   "execution_count": 2,
   "id": "4e53bc65-3e32-454b-b353-e9b95489c26c",
   "metadata": {},
   "outputs": [],
   "source": [
    "%matplotlib inline\n",
    "%config InlineBackend.figure_format = 'png'\n",
    "%config InlineBackend.figure_format = 'retina'"
   ]
  },
  {
   "cell_type": "markdown",
   "id": "f8e9a344-d270-4cdb-8f45-5661083c9463",
   "metadata": {},
   "source": [
    "Создаём логгер, который удобен для использования в ноутбуке."
   ]
  },
  {
   "cell_type": "markdown",
   "id": "e8b1d982-8795-45c2-b221-6e5a07eaa150",
   "metadata": {},
   "source": [
    "# Load Data"
   ]
  },
  {
   "cell_type": "markdown",
   "id": "b337b175-a36a-48a6-9d8d-68c0a9acd80f",
   "metadata": {},
   "source": [
    "Загружаем данные как они есть, начинаем на них смотреть: какие в них есть сущности, атрибуты, распределения."
   ]
  },
  {
   "cell_type": "code",
   "execution_count": 3,
   "id": "2765664a-bbab-4dee-baae-ad31c251808a",
   "metadata": {},
   "outputs": [],
   "source": [
    "books = pd.read_parquet(\"./goodsread/books.parquet\")"
   ]
  },
  {
   "cell_type": "code",
   "execution_count": 4,
   "id": "edc94bb6-feda-4ee7-95fb-cece33c79fc9",
   "metadata": {},
   "outputs": [
    {
     "name": "stdout",
     "output_type": "stream",
     "text": [
      "<class 'pandas.core.frame.DataFrame'>\n",
      "Index: 43312 entries, 3 to 2360448\n",
      "Data columns (total 19 columns):\n",
      " #   Column                Non-Null Count  Dtype  \n",
      "---  ------                --------------  -----  \n",
      " 0   book_id               43312 non-null  int64  \n",
      " 1   author                43312 non-null  object \n",
      " 2   title                 43312 non-null  object \n",
      " 3   description           43312 non-null  object \n",
      " 4   genre_and_votes       43312 non-null  object \n",
      " 5   num_pages             37001 non-null  Int64  \n",
      " 6   average_rating        43312 non-null  float64\n",
      " 7   ratings_count         43312 non-null  Int64  \n",
      " 8   text_reviews_count    43312 non-null  int64  \n",
      " 9   publisher             43312 non-null  object \n",
      " 10  publication_year      35891 non-null  Int64  \n",
      " 11  country_code          43312 non-null  object \n",
      " 12  language_code         43312 non-null  object \n",
      " 13  format                43312 non-null  object \n",
      " 14  is_ebook              43312 non-null  bool   \n",
      " 15  isbn                  43312 non-null  object \n",
      " 16  isbn13                43312 non-null  object \n",
      " 17  genre_and_votes_dict  42391 non-null  object \n",
      " 18  genre_and_votes_str   42391 non-null  object \n",
      "dtypes: Int64(3), bool(1), float64(1), int64(2), object(12)\n",
      "memory usage: 6.4+ MB\n"
     ]
    }
   ],
   "source": [
    "books.info()"
   ]
  },
  {
   "cell_type": "markdown",
   "id": "46407f64-2498-4d3d-b887-7ee17f5b6f7b",
   "metadata": {},
   "source": [
    "Пример данных по книгам"
   ]
  },
  {
   "cell_type": "code",
   "execution_count": 5,
   "id": "b97acb5c-49aa-4f93-ab72-ea93c0618567",
   "metadata": {},
   "outputs": [
    {
     "data": {
      "text/html": [
       "<div>\n",
       "<style scoped>\n",
       "    .dataframe tbody tr th:only-of-type {\n",
       "        vertical-align: middle;\n",
       "    }\n",
       "\n",
       "    .dataframe tbody tr th {\n",
       "        vertical-align: top;\n",
       "    }\n",
       "\n",
       "    .dataframe thead th {\n",
       "        text-align: right;\n",
       "    }\n",
       "</style>\n",
       "<table border=\"1\" class=\"dataframe\">\n",
       "  <thead>\n",
       "    <tr style=\"text-align: right;\">\n",
       "      <th></th>\n",
       "      <th>author</th>\n",
       "      <th>title</th>\n",
       "      <th>num_pages</th>\n",
       "      <th>average_rating</th>\n",
       "    </tr>\n",
       "    <tr>\n",
       "      <th>book_id</th>\n",
       "      <th></th>\n",
       "      <th></th>\n",
       "      <th></th>\n",
       "      <th></th>\n",
       "    </tr>\n",
       "  </thead>\n",
       "  <tbody>\n",
       "    <tr>\n",
       "      <th>69882</th>\n",
       "      <td>Heinrich Böll, Patrick Bowles</td>\n",
       "      <td>Billiards at Half-Past Nine</td>\n",
       "      <td>288</td>\n",
       "      <td>3.93</td>\n",
       "    </tr>\n",
       "    <tr>\n",
       "      <th>267533</th>\n",
       "      <td>Robert Cormier</td>\n",
       "      <td>8 Plus 1</td>\n",
       "      <td>173</td>\n",
       "      <td>3.67</td>\n",
       "    </tr>\n",
       "    <tr>\n",
       "      <th>820966</th>\n",
       "      <td>Martin Luther, J.I. Packer, O.R. Johnston</td>\n",
       "      <td>The Bondage of the Will</td>\n",
       "      <td>322</td>\n",
       "      <td>4.17</td>\n",
       "    </tr>\n",
       "    <tr>\n",
       "      <th>4532622</th>\n",
       "      <td>Karen Hancock</td>\n",
       "      <td>The Enclave</td>\n",
       "      <td>492</td>\n",
       "      <td>3.82</td>\n",
       "    </tr>\n",
       "    <tr>\n",
       "      <th>20444381</th>\n",
       "      <td>Diana Gabaldon</td>\n",
       "      <td>Os tambores de outono - 1ª Parte (Outlander #4)</td>\n",
       "      <td>1048</td>\n",
       "      <td>3.99</td>\n",
       "    </tr>\n",
       "  </tbody>\n",
       "</table>\n",
       "</div>"
      ],
      "text/plain": [
       "                                             author  \\\n",
       "book_id                                               \n",
       "69882                 Heinrich Böll, Patrick Bowles   \n",
       "267533                               Robert Cormier   \n",
       "820966    Martin Luther, J.I. Packer, O.R. Johnston   \n",
       "4532622                               Karen Hancock   \n",
       "20444381                             Diana Gabaldon   \n",
       "\n",
       "                                                    title  num_pages  \\\n",
       "book_id                                                                \n",
       "69882                         Billiards at Half-Past Nine        288   \n",
       "267533                                           8 Plus 1        173   \n",
       "820966                            The Bondage of the Will        322   \n",
       "4532622                                       The Enclave        492   \n",
       "20444381  Os tambores de outono - 1ª Parte (Outlander #4)       1048   \n",
       "\n",
       "          average_rating  \n",
       "book_id                   \n",
       "69882               3.93  \n",
       "267533              3.67  \n",
       "820966              4.17  \n",
       "4532622             3.82  \n",
       "20444381            3.99  "
      ]
     },
     "execution_count": 5,
     "metadata": {},
     "output_type": "execute_result"
    }
   ],
   "source": [
    "(\n",
    "    books[[\"book_id\", \"author\", \"title\", \"num_pages\", \"average_rating\"]]\n",
    "    .sample(5, random_state=52)\n",
    "    .sort_values(\"book_id\")\n",
    "    .set_index(\"book_id\")\n",
    ")"
   ]
  },
  {
   "cell_type": "code",
   "execution_count": 6,
   "id": "507063c3-58c2-4d27-b415-4695f05ae0b0",
   "metadata": {},
   "outputs": [],
   "source": [
    "interactions = pd.read_parquet(\"./goodsread/interactions.parquet\")"
   ]
  },
  {
   "cell_type": "markdown",
   "id": "1975129a-283c-4f61-800e-cad9515e6f5f",
   "metadata": {},
   "source": [
    "Можно оценить объём данных о взаимодействиях"
   ]
  },
  {
   "cell_type": "code",
   "execution_count": 7,
   "id": "92d745e7-5dfb-4fff-98a3-acfc422bed50",
   "metadata": {},
   "outputs": [
    {
     "name": "stdout",
     "output_type": "stream",
     "text": [
      "<class 'pandas.core.frame.DataFrame'>\n",
      "Index: 12890434 entries, 0 to 12914458\n",
      "Data columns (total 7 columns):\n",
      " #   Column       Dtype \n",
      "---  ------       ----- \n",
      " 0   user_id      object\n",
      " 1   book_id      int64 \n",
      " 2   started_at   object\n",
      " 3   read_at      object\n",
      " 4   is_read      bool  \n",
      " 5   rating       int64 \n",
      " 6   is_reviewed  bool  \n",
      "dtypes: bool(2), int64(2), object(3)\n",
      "memory usage: 614.7+ MB\n"
     ]
    }
   ],
   "source": [
    "interactions.info()"
   ]
  },
  {
   "cell_type": "markdown",
   "id": "2db1630c-a924-4c4f-9817-5c13591a5e85",
   "metadata": {},
   "source": [
    "Пример данных по взаимодействиям"
   ]
  },
  {
   "cell_type": "code",
   "execution_count": 8,
   "id": "2b1c5dfb-6900-49ad-b996-9b3e615ef9c4",
   "metadata": {},
   "outputs": [
    {
     "data": {
      "text/html": [
       "<div>\n",
       "<style scoped>\n",
       "    .dataframe tbody tr th:only-of-type {\n",
       "        vertical-align: middle;\n",
       "    }\n",
       "\n",
       "    .dataframe tbody tr th {\n",
       "        vertical-align: top;\n",
       "    }\n",
       "\n",
       "    .dataframe thead th {\n",
       "        text-align: right;\n",
       "    }\n",
       "</style>\n",
       "<table border=\"1\" class=\"dataframe\">\n",
       "  <thead>\n",
       "    <tr style=\"text-align: right;\">\n",
       "      <th></th>\n",
       "      <th></th>\n",
       "      <th>started_at</th>\n",
       "      <th>read_at</th>\n",
       "      <th>is_read</th>\n",
       "      <th>rating</th>\n",
       "    </tr>\n",
       "    <tr>\n",
       "      <th>user_id</th>\n",
       "      <th>book_id</th>\n",
       "      <th></th>\n",
       "      <th></th>\n",
       "      <th></th>\n",
       "      <th></th>\n",
       "    </tr>\n",
       "  </thead>\n",
       "  <tbody>\n",
       "    <tr>\n",
       "      <th>0447747f44c0d8d1a08cf329fe253f29</th>\n",
       "      <th>10054335</th>\n",
       "      <td>2016-04-08</td>\n",
       "      <td>2016-04-20</td>\n",
       "      <td>True</td>\n",
       "      <td>3</td>\n",
       "    </tr>\n",
       "    <tr>\n",
       "      <th>14432756ffba6357686f09e4ccc332bb</th>\n",
       "      <th>26252859</th>\n",
       "      <td>2016-05-27</td>\n",
       "      <td>2016-05-30</td>\n",
       "      <td>True</td>\n",
       "      <td>5</td>\n",
       "    </tr>\n",
       "    <tr>\n",
       "      <th>46d6c8cf548d1c86abb671f42ba71b5e</th>\n",
       "      <th>960</th>\n",
       "      <td>2014-08-06</td>\n",
       "      <td>2016-10-29</td>\n",
       "      <td>True</td>\n",
       "      <td>5</td>\n",
       "    </tr>\n",
       "    <tr>\n",
       "      <th>71c2b3714945af1f700f49953904c510</th>\n",
       "      <th>18492859</th>\n",
       "      <td>2014-10-09</td>\n",
       "      <td>2014-10-12</td>\n",
       "      <td>True</td>\n",
       "      <td>5</td>\n",
       "    </tr>\n",
       "    <tr>\n",
       "      <th>7802bafdeac8abff23a72b9dd60b1dd1</th>\n",
       "      <th>18710190</th>\n",
       "      <td>2015-03-01</td>\n",
       "      <td>2015-05-05</td>\n",
       "      <td>True</td>\n",
       "      <td>4</td>\n",
       "    </tr>\n",
       "  </tbody>\n",
       "</table>\n",
       "</div>"
      ],
      "text/plain": [
       "                                           started_at     read_at  is_read  \\\n",
       "user_id                          book_id                                     \n",
       "0447747f44c0d8d1a08cf329fe253f29 10054335  2016-04-08  2016-04-20     True   \n",
       "14432756ffba6357686f09e4ccc332bb 26252859  2016-05-27  2016-05-30     True   \n",
       "46d6c8cf548d1c86abb671f42ba71b5e 960       2014-08-06  2016-10-29     True   \n",
       "71c2b3714945af1f700f49953904c510 18492859  2014-10-09  2014-10-12     True   \n",
       "7802bafdeac8abff23a72b9dd60b1dd1 18710190  2015-03-01  2015-05-05     True   \n",
       "\n",
       "                                           rating  \n",
       "user_id                          book_id           \n",
       "0447747f44c0d8d1a08cf329fe253f29 10054335       3  \n",
       "14432756ffba6357686f09e4ccc332bb 26252859       5  \n",
       "46d6c8cf548d1c86abb671f42ba71b5e 960            5  \n",
       "71c2b3714945af1f700f49953904c510 18492859       5  \n",
       "7802bafdeac8abff23a72b9dd60b1dd1 18710190       4  "
      ]
     },
     "execution_count": 8,
     "metadata": {},
     "output_type": "execute_result"
    }
   ],
   "source": [
    "(\n",
    "    interactions[[\"user_id\", \"book_id\", \"started_at\", \"read_at\", \"is_read\", \"rating\"]]\n",
    "    .sample(5, random_state=52)\n",
    "    .sort_values(\"user_id\")\n",
    "    .set_index([\"user_id\", \"book_id\"])\n",
    ")"
   ]
  },
  {
   "cell_type": "markdown",
   "id": "d9655337-3089-485e-8045-aed3c0466956",
   "metadata": {},
   "source": [
    "# Факультативное задание"
   ]
  },
  {
   "cell_type": "markdown",
   "id": "d1ff9e07-7b45-4f66-b051-c4e942fe79b5",
   "metadata": {},
   "source": [
    "- количество пользователей,\n",
    "- среднее количество прочитанных книг на пользователя,\n",
    "- долю прочитанных книг, у которых нет рейтинга,\n",
    "- распределение рейтинга,\n",
    "- распределение популярности (долю пользователей, приходящуюся на одну книгу),\n",
    "- распределение количества взаимодействий во времени,\n",
    "- есть ли какие-то логические нестыковки и странности в данных."
   ]
  },
  {
   "cell_type": "code",
   "execution_count": 9,
   "id": "52a7fd67-ae7d-4c1a-aa20-cc5521363c28",
   "metadata": {},
   "outputs": [
    {
     "data": {
      "text/plain": [
       "542657"
      ]
     },
     "execution_count": 9,
     "metadata": {},
     "output_type": "execute_result"
    }
   ],
   "source": [
    "# количество пользователей\n",
    "interactions.user_id.nunique()"
   ]
  },
  {
   "cell_type": "code",
   "execution_count": 10,
   "id": "a36a1b0e-ca49-40c5-a5e0-49bdfa6da7fb",
   "metadata": {},
   "outputs": [
    {
     "data": {
      "text/plain": [
       "(12890434, 7)"
      ]
     },
     "execution_count": 10,
     "metadata": {},
     "output_type": "execute_result"
    }
   ],
   "source": [
    "interactions.shape"
   ]
  },
  {
   "cell_type": "code",
   "execution_count": 11,
   "id": "8f3472da-6bc4-4e47-9f89-02d4bf60e873",
   "metadata": {},
   "outputs": [
    {
     "data": {
      "text/plain": [
       "23.7542941489744"
      ]
     },
     "execution_count": 11,
     "metadata": {},
     "output_type": "execute_result"
    }
   ],
   "source": [
    "# среднее количество прочитанных книг на пользователя\n",
    "interactions.groupby(by='user_id')['book_id'].count().mean()"
   ]
  },
  {
   "cell_type": "code",
   "execution_count": 12,
   "id": "f7d05c46-a0cb-4834-b154-20f3d8c80b8b",
   "metadata": {},
   "outputs": [
    {
     "data": {
      "text/plain": [
       "count    23.754294\n",
       "dtype: float64"
      ]
     },
     "execution_count": 12,
     "metadata": {},
     "output_type": "execute_result"
    }
   ],
   "source": [
    "interactions.groupby(by='user_id').agg(count=(\"book_id\", \"count\")).mean()"
   ]
  },
  {
   "cell_type": "code",
   "execution_count": 13,
   "id": "8942e2e1-a2ca-422f-849b-78a332702e05",
   "metadata": {},
   "outputs": [
    {
     "name": "stdout",
     "output_type": "stream",
     "text": [
      "0.08\n"
     ]
    }
   ],
   "source": [
    "# долю прочитанных книг, у которых нет рейтинга\n",
    "print(\n",
    "    round(interactions.query('rating == 0').shape[0] / interactions.shape[0], 2)\n",
    ")"
   ]
  },
  {
   "cell_type": "code",
   "execution_count": 14,
   "id": "e46d8020-7bf3-479a-8e9c-432e857064ec",
   "metadata": {},
   "outputs": [
    {
     "data": {
      "image/png": "[encoded data removed]",
      "text/plain": [
       "<Figure size 640x480 with 1 Axes>"
      ]
     },
     "metadata": {
      "image/png": {
       "height": 434,
       "width": 534
      }
     },
     "output_type": "display_data"
    }
   ],
   "source": [
    "# распределение рейтинга\n",
    "interactions.hist('rating', bins=5);"
   ]
  },
  {
   "cell_type": "code",
   "execution_count": 15,
   "id": "f616148b-462c-40fb-a541-d039bfe116b9",
   "metadata": {},
   "outputs": [
    {
     "data": {
      "image/png": "[encoded data removed]",
      "text/plain": [
       "<Figure size 640x480 with 1 Axes>"
      ]
     },
     "metadata": {
      "image/png": {
       "height": 413,
       "width": 550
      }
     },
     "output_type": "display_data"
    }
   ],
   "source": [
    "# распределение популярности (долю пользователей, приходящуюся на одну книгу)\n",
    "interactions.groupby(by='book_id')['user_id'].count().hist(bins=100, log=True);"
   ]
  },
  {
   "cell_type": "code",
   "execution_count": 16,
   "id": "c8a30134-4ed9-45a5-8dea-7d80a15ddddf",
   "metadata": {},
   "outputs": [
    {
     "data": {
      "image/png": "[encoded data removed]",
      "text/plain": [
       "<Figure size 640x480 with 1 Axes>"
      ]
     },
     "metadata": {
      "image/png": {
       "height": 413,
       "width": 578
      }
     },
     "output_type": "display_data"
    }
   ],
   "source": [
    "# распределение количества взаимодействий во времени\n",
    "interactions['started_at'] = pd.to_datetime(interactions.started_at)\n",
    "interactions['read_at'] = pd.to_datetime(interactions.read_at)\n",
    "interactions['started_at'].hist(bins=100);"
   ]
  },
  {
   "cell_type": "markdown",
   "id": "c4050b3d-c198-43be-a989-e99204b1725b",
   "metadata": {},
   "source": [
    "# EDA"
   ]
  },
  {
   "cell_type": "markdown",
   "id": "704ff053-4357-4b72-88fb-33d5edef8203",
   "metadata": {},
   "source": [
    "Посмотрим на данные о книгах, какие поля есть."
   ]
  },
  {
   "cell_type": "code",
   "execution_count": 17,
   "id": "ffba02f2-e81d-4c53-9e7e-f631a706849c",
   "metadata": {},
   "outputs": [
    {
     "data": {
      "text/html": [
       "<div>\n",
       "<style scoped>\n",
       "    .dataframe tbody tr th:only-of-type {\n",
       "        vertical-align: middle;\n",
       "    }\n",
       "\n",
       "    .dataframe tbody tr th {\n",
       "        vertical-align: top;\n",
       "    }\n",
       "\n",
       "    .dataframe thead th {\n",
       "        text-align: right;\n",
       "    }\n",
       "</style>\n",
       "<table border=\"1\" class=\"dataframe\">\n",
       "  <thead>\n",
       "    <tr style=\"text-align: right;\">\n",
       "      <th></th>\n",
       "      <th>66344</th>\n",
       "      <th>433902</th>\n",
       "      <th>275904</th>\n",
       "    </tr>\n",
       "  </thead>\n",
       "  <tbody>\n",
       "    <tr>\n",
       "      <th>book_id</th>\n",
       "      <td>2635498</td>\n",
       "      <td>10793020</td>\n",
       "      <td>36233827</td>\n",
       "    </tr>\n",
       "    <tr>\n",
       "      <th>author</th>\n",
       "      <td>Michael Dante DiMartino, Bryan Konietzko</td>\n",
       "      <td>M.J. Hearle</td>\n",
       "      <td>Jodi Ellen Malpas</td>\n",
       "    </tr>\n",
       "    <tr>\n",
       "      <th>title</th>\n",
       "      <td>Avatar Volume 2: The Last Airbender (Avatar #2)</td>\n",
       "      <td>Winter's Shadow (Winter Saga, #1)</td>\n",
       "      <td>With This Man (This Man, #4)</td>\n",
       "    </tr>\n",
       "    <tr>\n",
       "      <th>description</th>\n",
       "      <td>Aang must face his destiny as he fights for th...</td>\n",
       "      <td>Blake Duchamp...\\nHe's all that Winter Adams c...</td>\n",
       "      <td>Jesse Ward is back in the newest novel in the ...</td>\n",
       "    </tr>\n",
       "    <tr>\n",
       "      <th>genre_and_votes</th>\n",
       "      <td>{'Sequential Art-Graphic Novels': 22, 'Sequent...</td>\n",
       "      <td>{'Fantasy-Paranormal': 75, 'Young Adult': 71, ...</td>\n",
       "      <td>{'Romance': 104, 'Romance-Contemporary Romance...</td>\n",
       "    </tr>\n",
       "    <tr>\n",
       "      <th>num_pages</th>\n",
       "      <td>&lt;NA&gt;</td>\n",
       "      <td>424</td>\n",
       "      <td>&lt;NA&gt;</td>\n",
       "    </tr>\n",
       "    <tr>\n",
       "      <th>average_rating</th>\n",
       "      <td>4.48</td>\n",
       "      <td>3.68</td>\n",
       "      <td>4.88</td>\n",
       "    </tr>\n",
       "    <tr>\n",
       "      <th>ratings_count</th>\n",
       "      <td>607</td>\n",
       "      <td>1549</td>\n",
       "      <td>37</td>\n",
       "    </tr>\n",
       "    <tr>\n",
       "      <th>text_reviews_count</th>\n",
       "      <td>13</td>\n",
       "      <td>192</td>\n",
       "      <td>33</td>\n",
       "    </tr>\n",
       "    <tr>\n",
       "      <th>publisher</th>\n",
       "      <td></td>\n",
       "      <td>Pan Macmillan Australia</td>\n",
       "      <td></td>\n",
       "    </tr>\n",
       "    <tr>\n",
       "      <th>publication_year</th>\n",
       "      <td>&lt;NA&gt;</td>\n",
       "      <td>2011</td>\n",
       "      <td>2018</td>\n",
       "    </tr>\n",
       "    <tr>\n",
       "      <th>country_code</th>\n",
       "      <td>US</td>\n",
       "      <td>US</td>\n",
       "      <td>US</td>\n",
       "    </tr>\n",
       "    <tr>\n",
       "      <th>language_code</th>\n",
       "      <td></td>\n",
       "      <td>eng</td>\n",
       "      <td></td>\n",
       "    </tr>\n",
       "    <tr>\n",
       "      <th>format</th>\n",
       "      <td>Graphic Novels</td>\n",
       "      <td>Paperback</td>\n",
       "      <td></td>\n",
       "    </tr>\n",
       "    <tr>\n",
       "      <th>is_ebook</th>\n",
       "      <td>False</td>\n",
       "      <td>False</td>\n",
       "      <td>True</td>\n",
       "    </tr>\n",
       "    <tr>\n",
       "      <th>isbn</th>\n",
       "      <td>1598169181</td>\n",
       "      <td>0330404474</td>\n",
       "      <td></td>\n",
       "    </tr>\n",
       "    <tr>\n",
       "      <th>isbn13</th>\n",
       "      <td>9781598169188</td>\n",
       "      <td>9780330404471</td>\n",
       "      <td></td>\n",
       "    </tr>\n",
       "    <tr>\n",
       "      <th>genre_and_votes_dict</th>\n",
       "      <td>{'Academic': None, 'Academic-Academia': None, ...</td>\n",
       "      <td>{'Academic': None, 'Academic-Academia': None, ...</td>\n",
       "      <td>{'Academic': None, 'Academic-Academia': None, ...</td>\n",
       "    </tr>\n",
       "    <tr>\n",
       "      <th>genre_and_votes_str</th>\n",
       "      <td>Sequential Art-Graphic Novels 22, Sequential A...</td>\n",
       "      <td>Fantasy-Paranormal 75, Young Adult 71, Fantasy...</td>\n",
       "      <td>Romance 104, Romance-Contemporary Romance 43, ...</td>\n",
       "    </tr>\n",
       "  </tbody>\n",
       "</table>\n",
       "</div>"
      ],
      "text/plain": [
       "                                                                 66344   \\\n",
       "book_id                                                         2635498   \n",
       "author                         Michael Dante DiMartino, Bryan Konietzko   \n",
       "title                   Avatar Volume 2: The Last Airbender (Avatar #2)   \n",
       "description           Aang must face his destiny as he fights for th...   \n",
       "genre_and_votes       {'Sequential Art-Graphic Novels': 22, 'Sequent...   \n",
       "num_pages                                                          <NA>   \n",
       "average_rating                                                     4.48   \n",
       "ratings_count                                                       607   \n",
       "text_reviews_count                                                   13   \n",
       "publisher                                                                 \n",
       "publication_year                                                   <NA>   \n",
       "country_code                                                         US   \n",
       "language_code                                                             \n",
       "format                                                   Graphic Novels   \n",
       "is_ebook                                                          False   \n",
       "isbn                                                         1598169181   \n",
       "isbn13                                                    9781598169188   \n",
       "genre_and_votes_dict  {'Academic': None, 'Academic-Academia': None, ...   \n",
       "genre_and_votes_str   Sequential Art-Graphic Novels 22, Sequential A...   \n",
       "\n",
       "                                                                 433902  \\\n",
       "book_id                                                        10793020   \n",
       "author                                                      M.J. Hearle   \n",
       "title                                 Winter's Shadow (Winter Saga, #1)   \n",
       "description           Blake Duchamp...\\nHe's all that Winter Adams c...   \n",
       "genre_and_votes       {'Fantasy-Paranormal': 75, 'Young Adult': 71, ...   \n",
       "num_pages                                                           424   \n",
       "average_rating                                                     3.68   \n",
       "ratings_count                                                      1549   \n",
       "text_reviews_count                                                  192   \n",
       "publisher                                       Pan Macmillan Australia   \n",
       "publication_year                                                   2011   \n",
       "country_code                                                         US   \n",
       "language_code                                                       eng   \n",
       "format                                                        Paperback   \n",
       "is_ebook                                                          False   \n",
       "isbn                                                         0330404474   \n",
       "isbn13                                                    9780330404471   \n",
       "genre_and_votes_dict  {'Academic': None, 'Academic-Academia': None, ...   \n",
       "genre_and_votes_str   Fantasy-Paranormal 75, Young Adult 71, Fantasy...   \n",
       "\n",
       "                                                                 275904  \n",
       "book_id                                                        36233827  \n",
       "author                                                Jodi Ellen Malpas  \n",
       "title                                      With This Man (This Man, #4)  \n",
       "description           Jesse Ward is back in the newest novel in the ...  \n",
       "genre_and_votes       {'Romance': 104, 'Romance-Contemporary Romance...  \n",
       "num_pages                                                          <NA>  \n",
       "average_rating                                                     4.88  \n",
       "ratings_count                                                        37  \n",
       "text_reviews_count                                                   33  \n",
       "publisher                                                                \n",
       "publication_year                                                   2018  \n",
       "country_code                                                         US  \n",
       "language_code                                                            \n",
       "format                                                                   \n",
       "is_ebook                                                           True  \n",
       "isbn                                                                     \n",
       "isbn13                                                                   \n",
       "genre_and_votes_dict  {'Academic': None, 'Academic-Academia': None, ...  \n",
       "genre_and_votes_str   Romance 104, Romance-Contemporary Romance 43, ...  "
      ]
     },
     "execution_count": 17,
     "metadata": {},
     "output_type": "execute_result"
    }
   ],
   "source": [
    "books.sample(3).T"
   ]
  },
  {
   "cell_type": "markdown",
   "id": "31195f60-57e2-48f6-9f2d-6c485a79b75a",
   "metadata": {},
   "source": [
    "Посмотрим на данные о взаимодействиях пользователей с книгами."
   ]
  },
  {
   "cell_type": "code",
   "execution_count": 18,
   "id": "2f06d310-9a2d-4c56-89b7-926e8105b851",
   "metadata": {},
   "outputs": [
    {
     "data": {
      "text/plain": [
       "43312"
      ]
     },
     "execution_count": 18,
     "metadata": {},
     "output_type": "execute_result"
    }
   ],
   "source": [
    "books[\"book_id\"].nunique()"
   ]
  },
  {
   "cell_type": "code",
   "execution_count": 19,
   "id": "3289d3a3-28f3-49b2-badd-66f2d8f7c0a0",
   "metadata": {},
   "outputs": [
    {
     "data": {
      "image/png": "[encoded data removed]",
      "text/plain": [
       "<Figure size 1200x600 with 2 Axes>"
      ]
     },
     "metadata": {
      "image/png": {
       "height": 590,
       "width": 1189
      }
     },
     "output_type": "display_data"
    }
   ],
   "source": [
    "# распределение книг по годам публикации\n",
    "\n",
    "fig, axs = plt.subplots(2, 1, figsize=(12, 6))\n",
    "\n",
    "ax = axs[0]\n",
    "books[\"publication_year\"].value_counts().sort_index().plot(kind=\"bar\", ax=ax)\n",
    "ax.tick_params(axis='x', labelsize=8)\n",
    "\n",
    "ax = axs[1]\n",
    "books.query(\"publication_year >= 1900 and publication_year <= 2025\")[\"publication_year\"].value_counts().sort_index().plot(kind=\"bar\", ax=ax)\n",
    "ax.tick_params(axis='x', labelsize=8)\n",
    "\n",
    "fig.tight_layout()"
   ]
  },
  {
   "cell_type": "markdown",
   "id": "bd4c285c-dc85-430e-965e-bfae06468cb3",
   "metadata": {},
   "source": [
    "# События по месяцам"
   ]
  },
  {
   "cell_type": "code",
   "execution_count": 20,
   "id": "a64f6bb4-ddf9-4573-a78f-a8616d32c89b",
   "metadata": {},
   "outputs": [],
   "source": [
    "from pandas.tseries.offsets import MonthEnd\n",
    "\n",
    "interactions[\"started_at_month\"] = (\n",
    "    pd.to_datetime(interactions[\"started_at\"])\n",
    "    .dt.to_period('M')\n",
    "    .dt.to_timestamp()\n",
    "    .dt.date\n",
    ")"
   ]
  },
  {
   "cell_type": "code",
   "execution_count": 21,
   "id": "7d24e57d-0d39-4691-bdc2-c7f152bbb86d",
   "metadata": {},
   "outputs": [],
   "source": [
    "interactions_by_month = (\n",
    "    interactions\n",
    "    .groupby(\"started_at_month\")\n",
    "    .agg(events=(\"started_at\", \"count\"), users=(\"user_id\", \"nunique\"))\n",
    "    .reset_index()\n",
    ")"
   ]
  },
  {
   "cell_type": "code",
   "execution_count": 22,
   "id": "290b4924-cdb4-45f8-83bb-34c9feef6ab3",
   "metadata": {},
   "outputs": [
    {
     "data": {
      "text/html": [
       "<div>\n",
       "<style scoped>\n",
       "    .dataframe tbody tr th:only-of-type {\n",
       "        vertical-align: middle;\n",
       "    }\n",
       "\n",
       "    .dataframe tbody tr th {\n",
       "        vertical-align: top;\n",
       "    }\n",
       "\n",
       "    .dataframe thead th {\n",
       "        text-align: right;\n",
       "    }\n",
       "</style>\n",
       "<table border=\"1\" class=\"dataframe\">\n",
       "  <thead>\n",
       "    <tr style=\"text-align: right;\">\n",
       "      <th></th>\n",
       "      <th>started_at_month</th>\n",
       "      <th>events</th>\n",
       "      <th>users</th>\n",
       "    </tr>\n",
       "  </thead>\n",
       "  <tbody>\n",
       "    <tr>\n",
       "      <th>0</th>\n",
       "      <td>2007-01-01</td>\n",
       "      <td>1993</td>\n",
       "      <td>1071</td>\n",
       "    </tr>\n",
       "    <tr>\n",
       "      <th>1</th>\n",
       "      <td>2007-02-01</td>\n",
       "      <td>201</td>\n",
       "      <td>135</td>\n",
       "    </tr>\n",
       "    <tr>\n",
       "      <th>2</th>\n",
       "      <td>2007-03-01</td>\n",
       "      <td>222</td>\n",
       "      <td>152</td>\n",
       "    </tr>\n",
       "    <tr>\n",
       "      <th>3</th>\n",
       "      <td>2007-04-01</td>\n",
       "      <td>201</td>\n",
       "      <td>135</td>\n",
       "    </tr>\n",
       "    <tr>\n",
       "      <th>4</th>\n",
       "      <td>2007-05-01</td>\n",
       "      <td>204</td>\n",
       "      <td>138</td>\n",
       "    </tr>\n",
       "    <tr>\n",
       "      <th>...</th>\n",
       "      <td>...</td>\n",
       "      <td>...</td>\n",
       "      <td>...</td>\n",
       "    </tr>\n",
       "    <tr>\n",
       "      <th>127</th>\n",
       "      <td>2017-08-01</td>\n",
       "      <td>202129</td>\n",
       "      <td>93040</td>\n",
       "    </tr>\n",
       "    <tr>\n",
       "      <th>128</th>\n",
       "      <td>2017-09-01</td>\n",
       "      <td>172187</td>\n",
       "      <td>82694</td>\n",
       "    </tr>\n",
       "    <tr>\n",
       "      <th>129</th>\n",
       "      <td>2017-10-01</td>\n",
       "      <td>108107</td>\n",
       "      <td>58076</td>\n",
       "    </tr>\n",
       "    <tr>\n",
       "      <th>130</th>\n",
       "      <td>2017-11-01</td>\n",
       "      <td>565</td>\n",
       "      <td>475</td>\n",
       "    </tr>\n",
       "    <tr>\n",
       "      <th>131</th>\n",
       "      <td>2017-12-01</td>\n",
       "      <td>34</td>\n",
       "      <td>34</td>\n",
       "    </tr>\n",
       "  </tbody>\n",
       "</table>\n",
       "<p>132 rows × 3 columns</p>\n",
       "</div>"
      ],
      "text/plain": [
       "    started_at_month  events  users\n",
       "0         2007-01-01    1993   1071\n",
       "1         2007-02-01     201    135\n",
       "2         2007-03-01     222    152\n",
       "3         2007-04-01     201    135\n",
       "4         2007-05-01     204    138\n",
       "..               ...     ...    ...\n",
       "127       2017-08-01  202129  93040\n",
       "128       2017-09-01  172187  82694\n",
       "129       2017-10-01  108107  58076\n",
       "130       2017-11-01     565    475\n",
       "131       2017-12-01      34     34\n",
       "\n",
       "[132 rows x 3 columns]"
      ]
     },
     "execution_count": 22,
     "metadata": {},
     "output_type": "execute_result"
    }
   ],
   "source": [
    "interactions_by_month"
   ]
  },
  {
   "cell_type": "code",
   "execution_count": 23,
   "id": "b0523dde-3788-426a-ae32-08d557d65124",
   "metadata": {},
   "outputs": [
    {
     "data": {
      "image/png": "[encoded data removed]",
      "text/plain": [
       "<Figure size 1200x600 with 2 Axes>"
      ]
     },
     "metadata": {
      "image/png": {
       "height": 589,
       "width": 1190
      }
     },
     "output_type": "display_data"
    }
   ],
   "source": [
    "# распределение взаимодействий по годам\n",
    "\n",
    "fig, axs = plt.subplots(2, 1, figsize=(12, 6))\n",
    "\n",
    "ax = axs[0]\n",
    "ax.plot(interactions_by_month[\"started_at_month\"], interactions_by_month[\"events\"])\n",
    "# ax.tick_params(axis='x', labelsize=8)\n",
    "ax.set_title(\"#events by months\")\n",
    "\n",
    "ax = axs[1]\n",
    "ax.plot(interactions_by_month[\"started_at_month\"], interactions_by_month[\"users\"])\n",
    "# ax.tick_params(axis='x', labelsize=8)\n",
    "ax.set_title(\"#users by months\")\n",
    "\n",
    "fig.tight_layout()"
   ]
  },
  {
   "cell_type": "markdown",
   "id": "5007ba55-80ce-4e9a-a72a-3586d0328bb8",
   "metadata": {},
   "source": [
    "# Преобработка"
   ]
  },
  {
   "cell_type": "markdown",
   "id": "74dd91e9-6298-4dfb-8e93-41d8d6f0af6c",
   "metadata": {},
   "source": [
    "Примем новые именования:\n",
    "- books -> items (более обобщённое название)\n",
    "- interactions -> events (несколько короче, удобнее в коде)"
   ]
  },
  {
   "cell_type": "code",
   "execution_count": 24,
   "id": "a97795e4-652c-4d87-a2c8-01d7756ee9af",
   "metadata": {},
   "outputs": [],
   "source": [
    "items = books.rename(columns={'book_id': 'item_id'}).copy()\n",
    "events = interactions.rename(columns={'book_id': 'item_id'}).copy()"
   ]
  },
  {
   "cell_type": "code",
   "execution_count": 25,
   "id": "d44de218-ed47-4b12-aef8-c0161f356002",
   "metadata": {},
   "outputs": [],
   "source": [
    "del books\n",
    "del interactions"
   ]
  },
  {
   "cell_type": "code",
   "execution_count": 26,
   "id": "2802d95e-314e-4802-851d-bb5d04e5c84b",
   "metadata": {},
   "outputs": [],
   "source": [
    "# оставим события только до ноября 2017\n",
    "\n",
    "event_cutoff_date = pd.to_datetime(\"2017-11-01\").date()\n",
    "events = events.query(\"started_at < @event_cutoff_date and read_at < @event_cutoff_date\").copy()"
   ]
  },
  {
   "cell_type": "markdown",
   "id": "9fb82342-c874-495f-8c0f-e2c6c1b68e2d",
   "metadata": {},
   "source": [
    "# Ваш код здесь"
   ]
  },
  {
   "cell_type": "markdown",
   "id": "7a029818-e594-4c83-bbba-3d295eea74c9",
   "metadata": {},
   "source": [
    "## Задание 1 из 6"
   ]
  },
  {
   "cell_type": "code",
   "execution_count": 27,
   "id": "c5230fc1-b82d-4e68-a6bf-82841b63eb99",
   "metadata": {},
   "outputs": [],
   "source": [
    "# удалите события, для которых нет рейтинга\n",
    "events = events.query('rating > 0')"
   ]
  },
  {
   "cell_type": "code",
   "execution_count": 28,
   "id": "86a94b86-522f-40c0-a3c4-d422a7ede54a",
   "metadata": {},
   "outputs": [],
   "source": [
    "# оставьте события только c признаком is_read=True\n",
    "events = events.query('is_read == True')"
   ]
  },
  {
   "cell_type": "code",
   "execution_count": 29,
   "id": "e5b9f55d-3059-4352-9a10-abc1add04364",
   "metadata": {},
   "outputs": [],
   "source": [
    "# оставьте только тех пользователей, у которых две прочитанные книги и более.\n",
    "users = events.groupby(\"user_id\").agg(count=(\"is_read\", \"sum\"))\n",
    "users = list(users[users['count'] >= 2].index)\n",
    "events = events.query('user_id in @users')"
   ]
  },
  {
   "cell_type": "markdown",
   "id": "9c2db386-27fd-41cf-baa1-d332712b1cc5",
   "metadata": {},
   "source": [
    "перекодируйте идентификаторы пользователей из символьного вида (92f960b6da4be49c7955794c6331d759) в числовой. Все оставшиеся после обработки данных идентификаторы нужно отсортировать по возрастанию и последовательно пронумеровать, начиная с 1 000 000. Эти значения и будут новыми идентификаторами пользователей."
   ]
  },
  {
   "cell_type": "code",
   "execution_count": 30,
   "id": "e4d7ea06-13b5-404c-b807-5d2861545f2e",
   "metadata": {},
   "outputs": [],
   "source": [
    "events['user_id'] = events['user_id'].apply(lambda x: int(x, 16))"
   ]
  },
  {
   "cell_type": "code",
   "execution_count": 31,
   "id": "18da050f-fa84-4953-9097-b2bbb462a364",
   "metadata": {
    "scrolled": true
   },
   "outputs": [],
   "source": [
    "new_user_id = {\n",
    "    old_id: int(1e6 + new_id) for new_id, old_id\n",
    "    in enumerate(np.sort(events.user_id.unique()))\n",
    "}"
   ]
  },
  {
   "cell_type": "code",
   "execution_count": 32,
   "id": "f3ba26ce-b353-4a66-8b2c-129da8c7f99b",
   "metadata": {},
   "outputs": [],
   "source": [
    "events['user_id'] = events['user_id'].map(new_user_id)"
   ]
  },
  {
   "cell_type": "code",
   "execution_count": 33,
   "id": "4e465d92-e2c9-4b29-9fa6-de97ec1052ac",
   "metadata": {},
   "outputs": [
    {
     "data": {
      "text/plain": [
       "0.9116129061286843"
      ]
     },
     "execution_count": 33,
     "metadata": {},
     "output_type": "execute_result"
    }
   ],
   "source": [
    "# Какая доля событий осталась после обработки данных?\n",
    "events.shape[0] / 12890434"
   ]
  },
  {
   "cell_type": "markdown",
   "id": "b707df95-b815-4002-814f-77c90b848688",
   "metadata": {},
   "source": [
    "# Сохранение результатов"
   ]
  },
  {
   "cell_type": "code",
   "execution_count": 34,
   "id": "5281284b-2574-43ca-8ddc-e8f1b2e4cac6",
   "metadata": {},
   "outputs": [],
   "source": [
    "items.to_parquet(\"items.par\")"
   ]
  },
  {
   "cell_type": "code",
   "execution_count": 35,
   "id": "b6579a5d-c7b7-4785-abd8-69f63f48151d",
   "metadata": {},
   "outputs": [],
   "source": [
    "events.to_parquet(\"events.par\")"
   ]
  },
  {
   "cell_type": "code",
   "execution_count": 36,
   "id": "15fa321c-a44c-4e1d-869d-270afba261d0",
   "metadata": {},
   "outputs": [
    {
     "name": "stdout",
     "output_type": "stream",
     "text": [
      "als_recommendations.parquet  items.par\t\t  README.md\n",
      "events.par\t\t     main_offline.ipynb   requirements.txt\n",
      "goodsread\t\t     preprocessing.ipynb  venv\n"
     ]
    }
   ],
   "source": [
    "!ls"
   ]
  },
  {
   "cell_type": "code",
   "execution_count": 37,
   "id": "f10ec676-493e-41f2-a128-e513bd798e03",
   "metadata": {},
   "outputs": [
    {
     "data": {
      "text/plain": [
       "190495380988723104963665945089533954819"
      ]
     },
     "execution_count": 37,
     "metadata": {},
     "output_type": "execute_result"
    }
   ],
   "source": [
    "# Какой новый идентификатор у пользователя с изначальным идентификатором\n",
    "# 8f50136afeb65c55cec7b3d306c24b03?\n",
    "int('8f50136afeb65c55cec7b3d306c24b03', 16)"
   ]
  },
  {
   "cell_type": "code",
   "execution_count": 38,
   "id": "4b9aad29-6080-426d-ada2-d41c7cb12637",
   "metadata": {},
   "outputs": [
    {
     "data": {
      "text/plain": [
       "1241243"
      ]
     },
     "execution_count": 38,
     "metadata": {},
     "output_type": "execute_result"
    }
   ],
   "source": [
    "new_user_id.get(190495380988723104963665945089533954819)"
   ]
  },
  {
   "cell_type": "markdown",
   "id": "8007e28b-4bc3-43c9-a31d-747f7a36a831",
   "metadata": {},
   "source": [
    "## Задание 2 из 6"
   ]
  },
  {
   "cell_type": "code",
   "execution_count": 39,
   "id": "06c087c7-373a-45ce-900a-241686c4c74d",
   "metadata": {},
   "outputs": [],
   "source": [
    "# Завершите код для разбиения всех событий.\n",
    "# В качестве точки разбиения используйте 2017-08-01,\n",
    "# то есть отнесите в тестовую часть три последних месяца."
   ]
  },
  {
   "cell_type": "code",
   "execution_count": 40,
   "id": "09e6a35a-9af7-4a83-b938-2f1931561013",
   "metadata": {},
   "outputs": [
    {
     "name": "stdout",
     "output_type": "stream",
     "text": [
      "428220 123223 120858\n"
     ]
    }
   ],
   "source": [
    "# зададим точку разбиения\n",
    "train_test_global_time_split_date = pd.to_datetime(\"2017-08-01\")\n",
    "\n",
    "events['started_at'] = pd.to_datetime(events.started_at)\n",
    "events['read_at'] = pd.to_datetime(events.read_at)\n",
    "\n",
    "train_test_global_time_split_idx = events[\"started_at\"] < train_test_global_time_split_date\n",
    "events_train = events[train_test_global_time_split_idx] # ваш код здесь #\n",
    "events_test = events[~train_test_global_time_split_idx]\n",
    "\n",
    "# количество пользователей в train и test\n",
    "users_train = events_train[\"user_id\"].drop_duplicates()\n",
    "users_test = events_test[\"user_id\"].drop_duplicates() # ваш код здесь #\n",
    "# количество пользователей, которые есть и в train, и в test\n",
    "common_users = set(users_train) & set(users_test)  # ваш код здесь #\n",
    "\n",
    "print(len(users_train), len(users_test), len(common_users)) "
   ]
  },
  {
   "cell_type": "markdown",
   "id": "dc4e89fc-5cb4-4ce7-a18d-0792f39d9403",
   "metadata": {},
   "source": [
    "## Задание 3 из 6"
   ]
  },
  {
   "cell_type": "code",
   "execution_count": 41,
   "id": "4268d5c6-83b9-440a-8c8f-24628268a111",
   "metadata": {},
   "outputs": [
    {
     "name": "stdout",
     "output_type": "stream",
     "text": [
      "2365\n"
     ]
    }
   ],
   "source": [
    "# Идентифицируйте холодных пользователей и оцените их количество.\n",
    "cold_users = set(users_test) - set(users_train) # ваш код здесь #\n",
    "\n",
    "print(len(cold_users)) "
   ]
  },
  {
   "cell_type": "markdown",
   "id": "7d2ae213-8222-45f1-be67-7120ee44e12d",
   "metadata": {},
   "source": [
    "### Задание 4 из 6"
   ]
  },
  {
   "cell_type": "markdown",
   "id": "2060da8a-d0eb-4986-8a97-c46f346fca96",
   "metadata": {},
   "source": [
    "Найдите топ-100 наиболее популярных книг (учитывая и их среднюю оценку) за последние несколько лет. Например, с 2015 года и со средней оценкой не меньше 4. Их вы и будете рекомендовать «холодным» пользователям."
   ]
  },
  {
   "cell_type": "code",
   "execution_count": 42,
   "id": "31cd898e-a8b1-4802-87d5-4341bc52e49d",
   "metadata": {},
   "outputs": [
    {
     "data": {
      "text/html": [
       "<div>\n",
       "<style scoped>\n",
       "    .dataframe tbody tr th:only-of-type {\n",
       "        vertical-align: middle;\n",
       "    }\n",
       "\n",
       "    .dataframe tbody tr th {\n",
       "        vertical-align: top;\n",
       "    }\n",
       "\n",
       "    .dataframe thead th {\n",
       "        text-align: right;\n",
       "    }\n",
       "</style>\n",
       "<table border=\"1\" class=\"dataframe\">\n",
       "  <thead>\n",
       "    <tr style=\"text-align: right;\">\n",
       "      <th></th>\n",
       "      <th>user_id</th>\n",
       "      <th>item_id</th>\n",
       "      <th>started_at</th>\n",
       "      <th>read_at</th>\n",
       "      <th>is_read</th>\n",
       "      <th>rating</th>\n",
       "      <th>is_reviewed</th>\n",
       "      <th>started_at_month</th>\n",
       "    </tr>\n",
       "  </thead>\n",
       "  <tbody>\n",
       "    <tr>\n",
       "      <th>0</th>\n",
       "      <td>1229132</td>\n",
       "      <td>22034</td>\n",
       "      <td>2015-07-12</td>\n",
       "      <td>2015-07-17</td>\n",
       "      <td>True</td>\n",
       "      <td>5</td>\n",
       "      <td>False</td>\n",
       "      <td>2015-07-01</td>\n",
       "    </tr>\n",
       "    <tr>\n",
       "      <th>1</th>\n",
       "      <td>1229132</td>\n",
       "      <td>22318578</td>\n",
       "      <td>2015-06-07</td>\n",
       "      <td>2015-08-09</td>\n",
       "      <td>True</td>\n",
       "      <td>5</td>\n",
       "      <td>True</td>\n",
       "      <td>2015-06-01</td>\n",
       "    </tr>\n",
       "    <tr>\n",
       "      <th>2</th>\n",
       "      <td>1229132</td>\n",
       "      <td>22551730</td>\n",
       "      <td>2015-06-24</td>\n",
       "      <td>2015-07-11</td>\n",
       "      <td>True</td>\n",
       "      <td>4</td>\n",
       "      <td>True</td>\n",
       "      <td>2015-06-01</td>\n",
       "    </tr>\n",
       "    <tr>\n",
       "      <th>3</th>\n",
       "      <td>1229132</td>\n",
       "      <td>22816087</td>\n",
       "      <td>2015-09-27</td>\n",
       "      <td>2015-11-04</td>\n",
       "      <td>True</td>\n",
       "      <td>5</td>\n",
       "      <td>True</td>\n",
       "      <td>2015-09-01</td>\n",
       "    </tr>\n",
       "    <tr>\n",
       "      <th>5</th>\n",
       "      <td>1229132</td>\n",
       "      <td>17910054</td>\n",
       "      <td>2015-03-04</td>\n",
       "      <td>2015-07-28</td>\n",
       "      <td>True</td>\n",
       "      <td>3</td>\n",
       "      <td>False</td>\n",
       "      <td>2015-03-01</td>\n",
       "    </tr>\n",
       "    <tr>\n",
       "      <th>...</th>\n",
       "      <td>...</td>\n",
       "      <td>...</td>\n",
       "      <td>...</td>\n",
       "      <td>...</td>\n",
       "      <td>...</td>\n",
       "      <td>...</td>\n",
       "      <td>...</td>\n",
       "      <td>...</td>\n",
       "    </tr>\n",
       "    <tr>\n",
       "      <th>12914452</th>\n",
       "      <td>1364473</td>\n",
       "      <td>5297</td>\n",
       "      <td>2017-02-07</td>\n",
       "      <td>2017-02-26</td>\n",
       "      <td>True</td>\n",
       "      <td>5</td>\n",
       "      <td>False</td>\n",
       "      <td>2017-02-01</td>\n",
       "    </tr>\n",
       "    <tr>\n",
       "      <th>12914453</th>\n",
       "      <td>1364473</td>\n",
       "      <td>4900</td>\n",
       "      <td>2016-12-22</td>\n",
       "      <td>2016-12-29</td>\n",
       "      <td>True</td>\n",
       "      <td>2</td>\n",
       "      <td>False</td>\n",
       "      <td>2016-12-01</td>\n",
       "    </tr>\n",
       "    <tr>\n",
       "      <th>12914454</th>\n",
       "      <td>1364473</td>\n",
       "      <td>14836</td>\n",
       "      <td>2016-11-29</td>\n",
       "      <td>2017-01-15</td>\n",
       "      <td>True</td>\n",
       "      <td>3</td>\n",
       "      <td>False</td>\n",
       "      <td>2016-11-01</td>\n",
       "    </tr>\n",
       "    <tr>\n",
       "      <th>12914456</th>\n",
       "      <td>1297020</td>\n",
       "      <td>10210</td>\n",
       "      <td>2012-06-05</td>\n",
       "      <td>2013-01-17</td>\n",
       "      <td>True</td>\n",
       "      <td>5</td>\n",
       "      <td>False</td>\n",
       "      <td>2012-06-01</td>\n",
       "    </tr>\n",
       "    <tr>\n",
       "      <th>12914457</th>\n",
       "      <td>1297020</td>\n",
       "      <td>99561</td>\n",
       "      <td>2012-07-21</td>\n",
       "      <td>2012-07-22</td>\n",
       "      <td>True</td>\n",
       "      <td>4</td>\n",
       "      <td>False</td>\n",
       "      <td>2012-07-01</td>\n",
       "    </tr>\n",
       "  </tbody>\n",
       "</table>\n",
       "<p>11326124 rows × 8 columns</p>\n",
       "</div>"
      ],
      "text/plain": [
       "          user_id   item_id started_at    read_at  is_read  rating  \\\n",
       "0         1229132     22034 2015-07-12 2015-07-17     True       5   \n",
       "1         1229132  22318578 2015-06-07 2015-08-09     True       5   \n",
       "2         1229132  22551730 2015-06-24 2015-07-11     True       4   \n",
       "3         1229132  22816087 2015-09-27 2015-11-04     True       5   \n",
       "5         1229132  17910054 2015-03-04 2015-07-28     True       3   \n",
       "...           ...       ...        ...        ...      ...     ...   \n",
       "12914452  1364473      5297 2017-02-07 2017-02-26     True       5   \n",
       "12914453  1364473      4900 2016-12-22 2016-12-29     True       2   \n",
       "12914454  1364473     14836 2016-11-29 2017-01-15     True       3   \n",
       "12914456  1297020     10210 2012-06-05 2013-01-17     True       5   \n",
       "12914457  1297020     99561 2012-07-21 2012-07-22     True       4   \n",
       "\n",
       "          is_reviewed started_at_month  \n",
       "0               False       2015-07-01  \n",
       "1                True       2015-06-01  \n",
       "2                True       2015-06-01  \n",
       "3                True       2015-09-01  \n",
       "5               False       2015-03-01  \n",
       "...               ...              ...  \n",
       "12914452        False       2017-02-01  \n",
       "12914453        False       2016-12-01  \n",
       "12914454        False       2016-11-01  \n",
       "12914456        False       2012-06-01  \n",
       "12914457        False       2012-07-01  \n",
       "\n",
       "[11326124 rows x 8 columns]"
      ]
     },
     "execution_count": 42,
     "metadata": {},
     "output_type": "execute_result"
    }
   ],
   "source": [
    "events_train"
   ]
  },
  {
   "cell_type": "code",
   "execution_count": 43,
   "id": "29f20286-2fec-4c6b-a507-0a6cc131c4ad",
   "metadata": {},
   "outputs": [
    {
     "data": {
      "text/html": [
       "<div>\n",
       "<style scoped>\n",
       "    .dataframe tbody tr th:only-of-type {\n",
       "        vertical-align: middle;\n",
       "    }\n",
       "\n",
       "    .dataframe tbody tr th {\n",
       "        vertical-align: top;\n",
       "    }\n",
       "\n",
       "    .dataframe thead th {\n",
       "        text-align: right;\n",
       "    }\n",
       "</style>\n",
       "<table border=\"1\" class=\"dataframe\">\n",
       "  <thead>\n",
       "    <tr style=\"text-align: right;\">\n",
       "      <th></th>\n",
       "      <th>item_id</th>\n",
       "      <th>users</th>\n",
       "      <th>avg_rating</th>\n",
       "      <th>popularity_weighted</th>\n",
       "    </tr>\n",
       "  </thead>\n",
       "  <tbody>\n",
       "    <tr>\n",
       "      <th>32387</th>\n",
       "      <td>18007564</td>\n",
       "      <td>20207</td>\n",
       "      <td>4.321275</td>\n",
       "      <td>87320.0</td>\n",
       "    </tr>\n",
       "    <tr>\n",
       "      <th>32623</th>\n",
       "      <td>18143977</td>\n",
       "      <td>19462</td>\n",
       "      <td>4.290669</td>\n",
       "      <td>83505.0</td>\n",
       "    </tr>\n",
       "    <tr>\n",
       "      <th>30695</th>\n",
       "      <td>16096824</td>\n",
       "      <td>16770</td>\n",
       "      <td>4.301014</td>\n",
       "      <td>72128.0</td>\n",
       "    </tr>\n",
       "    <tr>\n",
       "      <th>2</th>\n",
       "      <td>3</td>\n",
       "      <td>15139</td>\n",
       "      <td>4.706057</td>\n",
       "      <td>71245.0</td>\n",
       "    </tr>\n",
       "    <tr>\n",
       "      <th>3718</th>\n",
       "      <td>38447</td>\n",
       "      <td>14611</td>\n",
       "      <td>4.232770</td>\n",
       "      <td>61845.0</td>\n",
       "    </tr>\n",
       "    <tr>\n",
       "      <th>...</th>\n",
       "      <td>...</td>\n",
       "      <td>...</td>\n",
       "      <td>...</td>\n",
       "      <td>...</td>\n",
       "    </tr>\n",
       "    <tr>\n",
       "      <th>19596</th>\n",
       "      <td>2767052</td>\n",
       "      <td>4361</td>\n",
       "      <td>4.413437</td>\n",
       "      <td>19247.0</td>\n",
       "    </tr>\n",
       "    <tr>\n",
       "      <th>32835</th>\n",
       "      <td>18293427</td>\n",
       "      <td>4674</td>\n",
       "      <td>4.092640</td>\n",
       "      <td>19129.0</td>\n",
       "    </tr>\n",
       "    <tr>\n",
       "      <th>378</th>\n",
       "      <td>3636</td>\n",
       "      <td>4667</td>\n",
       "      <td>4.098564</td>\n",
       "      <td>19128.0</td>\n",
       "    </tr>\n",
       "    <tr>\n",
       "      <th>33611</th>\n",
       "      <td>18966819</td>\n",
       "      <td>4361</td>\n",
       "      <td>4.374914</td>\n",
       "      <td>19079.0</td>\n",
       "    </tr>\n",
       "    <tr>\n",
       "      <th>37118</th>\n",
       "      <td>26252859</td>\n",
       "      <td>4371</td>\n",
       "      <td>4.293068</td>\n",
       "      <td>18765.0</td>\n",
       "    </tr>\n",
       "  </tbody>\n",
       "</table>\n",
       "<p>100 rows × 4 columns</p>\n",
       "</div>"
      ],
      "text/plain": [
       "        item_id  users  avg_rating  popularity_weighted\n",
       "32387  18007564  20207    4.321275              87320.0\n",
       "32623  18143977  19462    4.290669              83505.0\n",
       "30695  16096824  16770    4.301014              72128.0\n",
       "2             3  15139    4.706057              71245.0\n",
       "3718      38447  14611    4.232770              61845.0\n",
       "...         ...    ...         ...                  ...\n",
       "19596   2767052   4361    4.413437              19247.0\n",
       "32835  18293427   4674    4.092640              19129.0\n",
       "378        3636   4667    4.098564              19128.0\n",
       "33611  18966819   4361    4.374914              19079.0\n",
       "37118  26252859   4371    4.293068              18765.0\n",
       "\n",
       "[100 rows x 4 columns]"
      ]
     },
     "execution_count": 43,
     "metadata": {},
     "output_type": "execute_result"
    }
   ],
   "source": [
    "top_pop_start_date = pd.to_datetime(\"2015-01-01\").date()\n",
    "\n",
    "item_popularity = (\n",
    "    events_train\n",
    "    .query(\"started_at >= @top_pop_start_date\")\n",
    "    .groupby([\"item_id\"])\n",
    "    .agg(users=(\"user_id\", \"nunique\"), avg_rating=(\"rating\", \"mean\"))\n",
    "    .reset_index()\n",
    ")\n",
    "item_popularity[\"popularity_weighted\"] = item_popularity[\"users\"] * item_popularity[\"avg_rating\"]\n",
    "\n",
    "# сортируем по убыванию взвешенной популярности\n",
    "item_popularity = item_popularity.sort_values('popularity_weighted', ascending=False) # ваш код здесь #\n",
    "\n",
    "# выбираем первые 100 айтемов со средней оценкой avg_rating не меньше 4\n",
    "top_k_pop_items = ( # ваш код здесь #\n",
    "    item_popularity\n",
    "    .query('avg_rating >= 4')\n",
    "    [:100]\n",
    ")\n",
    "\n",
    "top_k_pop_items"
   ]
  },
  {
   "cell_type": "markdown",
   "id": "8e627934-4b43-4bc0-bee9-dfe455eca665",
   "metadata": {},
   "source": [
    "### Задание 5 из 6"
   ]
  },
  {
   "cell_type": "markdown",
   "id": "91f4c395-ad66-4975-a5d2-e9cf9f2087cd",
   "metadata": {},
   "source": [
    "Завершите предлагаемый код, чтобы в `cold_users_events_with_recs` для каждого события получить столбец `avg_rating`.\n",
    "В нём при совпадении по `item_id` будет значение из одноимённого столбца из `top_k_pop_items`, иначе — пропуск.\n",
    "\n",
    "В `cold_users_events_with_recs` после выполнения завершённого кода должно быть столько же строк, сколько было до его выполнения."
   ]
  },
  {
   "cell_type": "code",
   "execution_count": 44,
   "id": "365b13f4-b25c-4a8c-b56e-f23f868c4a2a",
   "metadata": {},
   "outputs": [],
   "source": [
    "cold_users_events_with_recs = (\n",
    "    events_test[events_test[\"user_id\"].isin(cold_users)]\n",
    "    .merge(top_k_pop_items, on=\"item_id\", how=\"left\")\n",
    ")\n",
    "    \n",
    "cold_user_items_no_avg_rating_idx = (\n",
    "    cold_users_events_with_recs[\"avg_rating\"]\n",
    "    .isna()\n",
    ")\n",
    "\n",
    "cold_user_recs = (\n",
    "    cold_users_events_with_recs[~cold_user_items_no_avg_rating_idx]\n",
    "    [[\"user_id\", \"item_id\", \"rating\", \"avg_rating\"]]\n",
    ")"
   ]
  },
  {
   "cell_type": "code",
   "execution_count": 45,
   "id": "3ccb464e-e8eb-4e97-8a09-18ccb256ab44",
   "metadata": {},
   "outputs": [
    {
     "data": {
      "text/plain": [
       "0.8023159636062862"
      ]
     },
     "execution_count": 45,
     "metadata": {},
     "output_type": "execute_result"
    }
   ],
   "source": [
    "cold_user_items_no_avg_rating_idx.sum() / len(cold_user_items_no_avg_rating_idx)"
   ]
  },
  {
   "cell_type": "code",
   "execution_count": 46,
   "id": "1b520f54-aa85-4d00-8324-42f90c6247f6",
   "metadata": {},
   "outputs": [
    {
     "data": {
      "text/html": [
       "<div>\n",
       "<style scoped>\n",
       "    .dataframe tbody tr th:only-of-type {\n",
       "        vertical-align: middle;\n",
       "    }\n",
       "\n",
       "    .dataframe tbody tr th {\n",
       "        vertical-align: top;\n",
       "    }\n",
       "\n",
       "    .dataframe thead th {\n",
       "        text-align: right;\n",
       "    }\n",
       "</style>\n",
       "<table border=\"1\" class=\"dataframe\">\n",
       "  <thead>\n",
       "    <tr style=\"text-align: right;\">\n",
       "      <th></th>\n",
       "      <th>user_id</th>\n",
       "      <th>item_id</th>\n",
       "      <th>started_at</th>\n",
       "      <th>read_at</th>\n",
       "      <th>is_read</th>\n",
       "      <th>rating</th>\n",
       "      <th>is_reviewed</th>\n",
       "      <th>started_at_month</th>\n",
       "      <th>users</th>\n",
       "      <th>avg_rating</th>\n",
       "      <th>popularity_weighted</th>\n",
       "    </tr>\n",
       "  </thead>\n",
       "  <tbody>\n",
       "    <tr>\n",
       "      <th>0</th>\n",
       "      <td>1361610</td>\n",
       "      <td>6900</td>\n",
       "      <td>2017-10-09</td>\n",
       "      <td>2017-10-13</td>\n",
       "      <td>True</td>\n",
       "      <td>4</td>\n",
       "      <td>False</td>\n",
       "      <td>2017-10-01</td>\n",
       "      <td>NaN</td>\n",
       "      <td>NaN</td>\n",
       "      <td>NaN</td>\n",
       "    </tr>\n",
       "    <tr>\n",
       "      <th>1</th>\n",
       "      <td>1361610</td>\n",
       "      <td>12555</td>\n",
       "      <td>2017-09-21</td>\n",
       "      <td>2017-10-11</td>\n",
       "      <td>True</td>\n",
       "      <td>3</td>\n",
       "      <td>False</td>\n",
       "      <td>2017-09-01</td>\n",
       "      <td>NaN</td>\n",
       "      <td>NaN</td>\n",
       "      <td>NaN</td>\n",
       "    </tr>\n",
       "    <tr>\n",
       "      <th>2</th>\n",
       "      <td>1361610</td>\n",
       "      <td>25899336</td>\n",
       "      <td>2017-09-12</td>\n",
       "      <td>2017-09-17</td>\n",
       "      <td>True</td>\n",
       "      <td>4</td>\n",
       "      <td>True</td>\n",
       "      <td>2017-09-01</td>\n",
       "      <td>4798.0</td>\n",
       "      <td>4.427261</td>\n",
       "      <td>21242.0</td>\n",
       "    </tr>\n",
       "  </tbody>\n",
       "</table>\n",
       "</div>"
      ],
      "text/plain": [
       "   user_id   item_id started_at    read_at  is_read  rating  is_reviewed  \\\n",
       "0  1361610      6900 2017-10-09 2017-10-13     True       4        False   \n",
       "1  1361610     12555 2017-09-21 2017-10-11     True       3        False   \n",
       "2  1361610  25899336 2017-09-12 2017-09-17     True       4         True   \n",
       "\n",
       "  started_at_month   users  avg_rating  popularity_weighted  \n",
       "0       2017-10-01     NaN         NaN                  NaN  \n",
       "1       2017-09-01     NaN         NaN                  NaN  \n",
       "2       2017-09-01  4798.0    4.427261              21242.0  "
      ]
     },
     "execution_count": 46,
     "metadata": {},
     "output_type": "execute_result"
    }
   ],
   "source": [
    "cold_users_events_with_recs.head(3)"
   ]
  },
  {
   "cell_type": "code",
   "execution_count": 47,
   "id": "f558a4ee-34ca-4681-9096-e854b87cbf10",
   "metadata": {},
   "outputs": [
    {
     "data": {
      "text/html": [
       "<div>\n",
       "<style scoped>\n",
       "    .dataframe tbody tr th:only-of-type {\n",
       "        vertical-align: middle;\n",
       "    }\n",
       "\n",
       "    .dataframe tbody tr th {\n",
       "        vertical-align: top;\n",
       "    }\n",
       "\n",
       "    .dataframe thead th {\n",
       "        text-align: right;\n",
       "    }\n",
       "</style>\n",
       "<table border=\"1\" class=\"dataframe\">\n",
       "  <thead>\n",
       "    <tr style=\"text-align: right;\">\n",
       "      <th></th>\n",
       "      <th>user_id</th>\n",
       "      <th>item_id</th>\n",
       "      <th>rating</th>\n",
       "      <th>avg_rating</th>\n",
       "    </tr>\n",
       "  </thead>\n",
       "  <tbody>\n",
       "    <tr>\n",
       "      <th>2</th>\n",
       "      <td>1361610</td>\n",
       "      <td>25899336</td>\n",
       "      <td>4</td>\n",
       "      <td>4.427261</td>\n",
       "    </tr>\n",
       "    <tr>\n",
       "      <th>5</th>\n",
       "      <td>1338996</td>\n",
       "      <td>16096824</td>\n",
       "      <td>5</td>\n",
       "      <td>4.301014</td>\n",
       "    </tr>\n",
       "    <tr>\n",
       "      <th>8</th>\n",
       "      <td>1338996</td>\n",
       "      <td>18692431</td>\n",
       "      <td>5</td>\n",
       "      <td>4.071454</td>\n",
       "    </tr>\n",
       "  </tbody>\n",
       "</table>\n",
       "</div>"
      ],
      "text/plain": [
       "   user_id   item_id  rating  avg_rating\n",
       "2  1361610  25899336       4    4.427261\n",
       "5  1338996  16096824       5    4.301014\n",
       "8  1338996  18692431       5    4.071454"
      ]
     },
     "execution_count": 47,
     "metadata": {},
     "output_type": "execute_result"
    }
   ],
   "source": [
    "cold_user_recs.head(3)"
   ]
  },
  {
   "cell_type": "markdown",
   "id": "a4dc66db-bd7d-4c67-b0bd-813a9f052099",
   "metadata": {},
   "source": [
    "### Задание 6"
   ]
  },
  {
   "cell_type": "markdown",
   "id": "d7894737-f832-4e82-88c3-1c482f8ac0ed",
   "metadata": {},
   "source": [
    "Посчитайте метрики rmse и mae для полученных рекомендаций."
   ]
  },
  {
   "cell_type": "code",
   "execution_count": 48,
   "id": "dc9dfe77-ba6a-497c-af25-16cf7976e3d1",
   "metadata": {},
   "outputs": [
    {
     "name": "stdout",
     "output_type": "stream",
     "text": [
      "0.78 0.625\n"
     ]
    }
   ],
   "source": [
    "# посчитаем метрики рекомендаций\n",
    "from sklearn.metrics import mean_squared_error, mean_absolute_error\n",
    "\n",
    "rmse = mean_squared_error(\n",
    "    cold_user_recs[\"rating\"], cold_user_recs[\"avg_rating\"], squared=False\n",
    ")\n",
    "mae = mean_absolute_error(\n",
    "    cold_user_recs[\"rating\"], cold_user_recs[\"avg_rating\"]\n",
    ")\n",
    "print(round(rmse, 2), round(mae, 3))"
   ]
  },
  {
   "cell_type": "code",
   "execution_count": 49,
   "id": "72e8eb57-07c8-4c6d-b973-526a3bdfcb6b",
   "metadata": {},
   "outputs": [
    {
     "name": "stdout",
     "output_type": "stream",
     "text": [
      "Доля пользователей без релевантных рекомендаций: 0.59\n",
      "Среднее покрытие пользователей: 0.44\n"
     ]
    }
   ],
   "source": [
    "# посчитаем покрытие холодных пользователей рекомендациями\n",
    "\n",
    "cold_users_hit_ratio = (\n",
    "    cold_users_events_with_recs\n",
    "    .groupby(\"user_id\")\n",
    "    .agg(\n",
    "        hits=(\"avg_rating\", lambda x: (~x.isna()).mean())\n",
    "    )\n",
    ")\n",
    "\n",
    "print(\n",
    "    f\"Доля пользователей без релевантных рекомендаций: {(cold_users_hit_ratio == 0).mean().iat[0]:.2f}\"\n",
    ")\n",
    "print(\n",
    "    f\"Среднее покрытие пользователей: {cold_users_hit_ratio[cold_users_hit_ratio != 0].mean().iat[0]:.2f}\"\n",
    ") "
   ]
  },
  {
   "cell_type": "code",
   "execution_count": 50,
   "id": "048103ef-ec81-4467-b36a-d93356358dcc",
   "metadata": {},
   "outputs": [
    {
     "data": {
      "text/html": [
       "<div>\n",
       "<style scoped>\n",
       "    .dataframe tbody tr th:only-of-type {\n",
       "        vertical-align: middle;\n",
       "    }\n",
       "\n",
       "    .dataframe tbody tr th {\n",
       "        vertical-align: top;\n",
       "    }\n",
       "\n",
       "    .dataframe thead th {\n",
       "        text-align: right;\n",
       "    }\n",
       "</style>\n",
       "<table border=\"1\" class=\"dataframe\">\n",
       "  <thead>\n",
       "    <tr style=\"text-align: right;\">\n",
       "      <th></th>\n",
       "      <th>hits</th>\n",
       "    </tr>\n",
       "    <tr>\n",
       "      <th>user_id</th>\n",
       "      <th></th>\n",
       "    </tr>\n",
       "  </thead>\n",
       "  <tbody>\n",
       "    <tr>\n",
       "      <th>1000153</th>\n",
       "      <td>0.000000</td>\n",
       "    </tr>\n",
       "    <tr>\n",
       "      <th>1000325</th>\n",
       "      <td>0.000000</td>\n",
       "    </tr>\n",
       "    <tr>\n",
       "      <th>1000504</th>\n",
       "      <td>0.333333</td>\n",
       "    </tr>\n",
       "    <tr>\n",
       "      <th>1000712</th>\n",
       "      <td>0.333333</td>\n",
       "    </tr>\n",
       "    <tr>\n",
       "      <th>1000806</th>\n",
       "      <td>0.000000</td>\n",
       "    </tr>\n",
       "    <tr>\n",
       "      <th>...</th>\n",
       "      <td>...</td>\n",
       "    </tr>\n",
       "    <tr>\n",
       "      <th>1429834</th>\n",
       "      <td>0.142857</td>\n",
       "    </tr>\n",
       "    <tr>\n",
       "      <th>1429875</th>\n",
       "      <td>0.000000</td>\n",
       "    </tr>\n",
       "    <tr>\n",
       "      <th>1430053</th>\n",
       "      <td>0.000000</td>\n",
       "    </tr>\n",
       "    <tr>\n",
       "      <th>1430311</th>\n",
       "      <td>0.000000</td>\n",
       "    </tr>\n",
       "    <tr>\n",
       "      <th>1430500</th>\n",
       "      <td>0.000000</td>\n",
       "    </tr>\n",
       "  </tbody>\n",
       "</table>\n",
       "<p>2365 rows × 1 columns</p>\n",
       "</div>"
      ],
      "text/plain": [
       "             hits\n",
       "user_id          \n",
       "1000153  0.000000\n",
       "1000325  0.000000\n",
       "1000504  0.333333\n",
       "1000712  0.333333\n",
       "1000806  0.000000\n",
       "...           ...\n",
       "1429834  0.142857\n",
       "1429875  0.000000\n",
       "1430053  0.000000\n",
       "1430311  0.000000\n",
       "1430500  0.000000\n",
       "\n",
       "[2365 rows x 1 columns]"
      ]
     },
     "execution_count": 50,
     "metadata": {},
     "output_type": "execute_result"
    }
   ],
   "source": [
    "(\n",
    "    cold_users_events_with_recs\n",
    "    .groupby(\"user_id\")\n",
    "    .agg(\n",
    "        hits=(\"avg_rating\", lambda x: (~x.isna()).mean())\n",
    "    )\n",
    ")"
   ]
  },
  {
   "cell_type": "markdown",
   "id": "4c77c04c-a9fd-45c9-bc90-4617f9c3fb0c",
   "metadata": {},
   "source": [
    "Оцените степень разреженности U-I-матрицы, построенной на основе events. Используйте формулу выше и данные `events[['user_id', 'book_id', 'rating']]`. Какое значение корректно описывает результат?"
   ]
  },
  {
   "cell_type": "code",
   "execution_count": 51,
   "id": "136019bc-7076-4d1f-984c-2250d30a1a98",
   "metadata": {},
   "outputs": [
    {
     "data": {
      "text/html": [
       "<div>\n",
       "<style scoped>\n",
       "    .dataframe tbody tr th:only-of-type {\n",
       "        vertical-align: middle;\n",
       "    }\n",
       "\n",
       "    .dataframe tbody tr th {\n",
       "        vertical-align: top;\n",
       "    }\n",
       "\n",
       "    .dataframe thead th {\n",
       "        text-align: right;\n",
       "    }\n",
       "</style>\n",
       "<table border=\"1\" class=\"dataframe\">\n",
       "  <thead>\n",
       "    <tr style=\"text-align: right;\">\n",
       "      <th></th>\n",
       "      <th>user_id</th>\n",
       "      <th>item_id</th>\n",
       "      <th>rating</th>\n",
       "    </tr>\n",
       "  </thead>\n",
       "  <tbody>\n",
       "    <tr>\n",
       "      <th>0</th>\n",
       "      <td>1229132</td>\n",
       "      <td>22034</td>\n",
       "      <td>5</td>\n",
       "    </tr>\n",
       "    <tr>\n",
       "      <th>1</th>\n",
       "      <td>1229132</td>\n",
       "      <td>22318578</td>\n",
       "      <td>5</td>\n",
       "    </tr>\n",
       "    <tr>\n",
       "      <th>2</th>\n",
       "      <td>1229132</td>\n",
       "      <td>22551730</td>\n",
       "      <td>4</td>\n",
       "    </tr>\n",
       "    <tr>\n",
       "      <th>3</th>\n",
       "      <td>1229132</td>\n",
       "      <td>22816087</td>\n",
       "      <td>5</td>\n",
       "    </tr>\n",
       "    <tr>\n",
       "      <th>5</th>\n",
       "      <td>1229132</td>\n",
       "      <td>17910054</td>\n",
       "      <td>3</td>\n",
       "    </tr>\n",
       "    <tr>\n",
       "      <th>...</th>\n",
       "      <td>...</td>\n",
       "      <td>...</td>\n",
       "      <td>...</td>\n",
       "    </tr>\n",
       "    <tr>\n",
       "      <th>12914452</th>\n",
       "      <td>1364473</td>\n",
       "      <td>5297</td>\n",
       "      <td>5</td>\n",
       "    </tr>\n",
       "    <tr>\n",
       "      <th>12914453</th>\n",
       "      <td>1364473</td>\n",
       "      <td>4900</td>\n",
       "      <td>2</td>\n",
       "    </tr>\n",
       "    <tr>\n",
       "      <th>12914454</th>\n",
       "      <td>1364473</td>\n",
       "      <td>14836</td>\n",
       "      <td>3</td>\n",
       "    </tr>\n",
       "    <tr>\n",
       "      <th>12914456</th>\n",
       "      <td>1297020</td>\n",
       "      <td>10210</td>\n",
       "      <td>5</td>\n",
       "    </tr>\n",
       "    <tr>\n",
       "      <th>12914457</th>\n",
       "      <td>1297020</td>\n",
       "      <td>99561</td>\n",
       "      <td>4</td>\n",
       "    </tr>\n",
       "  </tbody>\n",
       "</table>\n",
       "<p>11751086 rows × 3 columns</p>\n",
       "</div>"
      ],
      "text/plain": [
       "          user_id   item_id  rating\n",
       "0         1229132     22034       5\n",
       "1         1229132  22318578       5\n",
       "2         1229132  22551730       4\n",
       "3         1229132  22816087       5\n",
       "5         1229132  17910054       3\n",
       "...           ...       ...     ...\n",
       "12914452  1364473      5297       5\n",
       "12914453  1364473      4900       2\n",
       "12914454  1364473     14836       3\n",
       "12914456  1297020     10210       5\n",
       "12914457  1297020     99561       4\n",
       "\n",
       "[11751086 rows x 3 columns]"
      ]
     },
     "execution_count": 51,
     "metadata": {},
     "output_type": "execute_result"
    }
   ],
   "source": [
    "events[['user_id', 'item_id', 'rating']]"
   ]
  },
  {
   "cell_type": "code",
   "execution_count": 52,
   "id": "3cb71519-8ed3-4475-a208-acd57316b841",
   "metadata": {},
   "outputs": [
    {
     "data": {
      "text/plain": [
       "99.93451160571009"
      ]
     },
     "execution_count": 52,
     "metadata": {},
     "output_type": "execute_result"
    }
   ],
   "source": [
    "(\n",
    "    1 - events.shape[0] / \n",
    "    (events['user_id'].nunique() * events['item_id'].nunique())\n",
    ") * 100"
   ]
  },
  {
   "cell_type": "markdown",
   "id": "8431fc5d-8d10-444b-bc8e-b4d9dada15e3",
   "metadata": {},
   "source": [
    "# Реализация SVD-алгоритма"
   ]
  },
  {
   "cell_type": "markdown",
   "id": "d3570e83-099b-4922-910f-5b5e329d914b",
   "metadata": {},
   "source": [
    "Воспользуемся готовой реализацией SVD-алгоритма из библиотеки surprise. В качестве разбиения данных на train и test возьмём разбиение из предыдущего урока: events_train, events_test."
   ]
  },
  {
   "cell_type": "code",
   "execution_count": 53,
   "id": "168c4214-d7ae-4185-9dbd-adaec4a1e711",
   "metadata": {},
   "outputs": [
    {
     "data": {
      "text/plain": [
       "<surprise.prediction_algorithms.matrix_factorization.SVD at 0x7f9d277edbd0>"
      ]
     },
     "execution_count": 53,
     "metadata": {},
     "output_type": "execute_result"
    }
   ],
   "source": [
    "from surprise import Dataset, Reader\n",
    "from surprise import SVD\n",
    "\n",
    "# используем Reader из библиотеки surprise для преобразования событий (events)\n",
    "# в формат, необходимый surprise\n",
    "reader = Reader(rating_scale=(1, 5))\n",
    "surprise_train_set = Dataset.load_from_df(events_train[['user_id', 'item_id', 'rating']], reader)\n",
    "surprise_train_set = surprise_train_set.build_full_trainset()\n",
    "\n",
    "# инициализируем модель\n",
    "svd_model = SVD(n_factors=100, random_state=0)\n",
    "\n",
    "# обучаем модель\n",
    "svd_model.fit(surprise_train_set)"
   ]
  },
  {
   "cell_type": "markdown",
   "id": "410190c0-73a0-4944-90da-38b81be6d59c",
   "metadata": {},
   "source": [
    "Используя обученную модель, получим рекомендации для тестовой выборки:"
   ]
  },
  {
   "cell_type": "code",
   "execution_count": 54,
   "id": "f249b99e-c0e5-43db-b5be-acea7113c3b9",
   "metadata": {},
   "outputs": [],
   "source": [
    "surprise_test_set = list(events_test[['user_id', 'item_id', 'rating']].itertuples(index=False))\n",
    "\n",
    "# получаем рекомендации для тестовой выборки\n",
    "svd_predictions = svd_model.test(surprise_test_set)"
   ]
  },
  {
   "cell_type": "markdown",
   "id": "2d966fde-a579-4864-bf3c-97e0b6671a31",
   "metadata": {},
   "source": [
    "Оценка рекомендаций\n",
    "\n",
    "Полученные рекомендации можно оценить, используя встроенный модуль accuracy из библиотеки surprise:"
   ]
  },
  {
   "cell_type": "code",
   "execution_count": 55,
   "id": "c87d2d32-cbb8-44ee-8d1e-731bb0a83f5f",
   "metadata": {},
   "outputs": [
    {
     "name": "stdout",
     "output_type": "stream",
     "text": [
      "RMSE: 0.8289\n",
      "MAE:  0.6474\n",
      "0.8288711689059135 0.647437483750257\n"
     ]
    }
   ],
   "source": [
    "from surprise import accuracy\n",
    "\n",
    "rmse = accuracy.rmse(svd_predictions)\n",
    "mae = accuracy.mae(svd_predictions)\n",
    "                     \n",
    "print(rmse, mae)"
   ]
  },
  {
   "cell_type": "markdown",
   "id": "bf9eb4dc-cda2-43fb-91be-1ecef70b1e3c",
   "metadata": {},
   "source": [
    "# Проверка метрик на адекватность"
   ]
  },
  {
   "cell_type": "markdown",
   "id": "483119ae-f86d-49cf-b123-c5c12edc6a91",
   "metadata": {},
   "source": [
    "Понять, хороши или плохи полученные значения метрик, поможет проверка на адекватность (англ. sanity check). Например, сравним качество рекомендаций со случайными по тем же метрикам. \n",
    "Для генерации случайных рекомендаций библиотека surprise предлагает класс NormalPredictor, который выдаёт случайные рейтинги из нормального распределения. Вызывается он так:"
   ]
  },
  {
   "cell_type": "code",
   "execution_count": 56,
   "id": "249cb310-164f-425c-a8fd-ff9328ea4c6c",
   "metadata": {},
   "outputs": [],
   "source": [
    "from surprise import NormalPredictor\n",
    "\n",
    "# инициализируем состояние генератора, это необходимо для получения\n",
    "# одной и той же последовательности случайных чисел, только в учебных целях\n",
    "np.random.seed(0)\n",
    "\n",
    "random_model = NormalPredictor()\n",
    "\n",
    "random_model.fit(surprise_train_set)\n",
    "random_predictions = random_model.test(surprise_test_set)"
   ]
  },
  {
   "cell_type": "code",
   "execution_count": 57,
   "id": "c6059106-d093-4d70-9c26-12fd34b5dc55",
   "metadata": {
    "scrolled": true
   },
   "outputs": [
    {
     "data": {
      "text/plain": [
       "<Axes: >"
      ]
     },
     "execution_count": 57,
     "metadata": {},
     "output_type": "execute_result"
    },
    {
     "data": {
      "image/png": "[encoded data removed]",
      "text/plain": [
       "<Figure size 640x480 with 1 Axes>"
      ]
     },
     "metadata": {
      "image/png": {
       "height": 413,
       "width": 578
      }
     },
     "output_type": "display_data"
    }
   ],
   "source": [
    "pd.Series([i.r_ui for i in random_predictions]).hist()"
   ]
  },
  {
   "cell_type": "markdown",
   "id": "cf511a19-3417-463a-8c8f-e7b41d0f0413",
   "metadata": {},
   "source": [
    "Рассчитайте значение MAE для random_predictions. Округлите его до сотых. \n",
    "На сколько процентов MAE для случайных рекомендаций от NormalPredictor выше значения MAE от SVD? Ответ округлите до десятых."
   ]
  },
  {
   "cell_type": "code",
   "execution_count": 58,
   "id": "57c42d21-b848-4107-8c11-4b9e93fb9377",
   "metadata": {},
   "outputs": [
    {
     "name": "stdout",
     "output_type": "stream",
     "text": [
      "MAE:  1.0018\n"
     ]
    }
   ],
   "source": [
    "from surprise import accuracy\n",
    "\n",
    "mae = accuracy.mae(random_predictions)"
   ]
  },
  {
   "cell_type": "code",
   "execution_count": 59,
   "id": "65fea42a-aefe-44eb-b5e9-f9836d91e9d6",
   "metadata": {},
   "outputs": [
    {
     "data": {
      "text/plain": [
       "0.567182861234463"
      ]
     },
     "execution_count": 59,
     "metadata": {},
     "output_type": "execute_result"
    }
   ],
   "source": [
    "(1.014652928254169 - 0.647437483750257) / 0.647437483750257"
   ]
  },
  {
   "cell_type": "code",
   "execution_count": 60,
   "id": "a0f3e045-4f60-4c0a-8e4e-a4d3e8755779",
   "metadata": {},
   "outputs": [
    {
     "data": {
      "text/plain": [
       "1.0017726877569562"
      ]
     },
     "execution_count": 60,
     "metadata": {},
     "output_type": "execute_result"
    }
   ],
   "source": [
    "mae"
   ]
  },
  {
   "cell_type": "markdown",
   "id": "3d0321de-7027-48f6-894e-fa02ba0972bb",
   "metadata": {},
   "source": [
    "# Факультативное задание"
   ]
  },
  {
   "cell_type": "markdown",
   "id": "a38f664b-bf4c-44e9-9bdc-99e338db7ba9",
   "metadata": {},
   "source": [
    "Удалите из events события для редких айтемов — таких, с которыми взаимодействовало менее N пользователей. Возьмите небольшое N, например 2–3 пользователя. Получите рекомендации, посчитайте метрики, оцените, как они изменились. Подумайте, с чем могут быть связаны такие изменения."
   ]
  },
  {
   "cell_type": "code",
   "execution_count": 61,
   "id": "be79aad2-dec4-4cae-8a21-90c5e816d05c",
   "metadata": {},
   "outputs": [],
   "source": [
    "N = 3"
   ]
  },
  {
   "cell_type": "code",
   "execution_count": 62,
   "id": "5f612d66-9f21-4137-8024-7a45f9add4a5",
   "metadata": {},
   "outputs": [],
   "source": [
    "small_items = list(\n",
    "    events.groupby('item_id').agg({'user_id': 'count'}).query('user_id < @N').index\n",
    ")"
   ]
  },
  {
   "cell_type": "code",
   "execution_count": 63,
   "id": "933f440b-9329-4241-9913-744c7abb8084",
   "metadata": {},
   "outputs": [],
   "source": [
    "small_events_test = events_test.query('item_id in @small_items')\n",
    "small_surprise_test_set = list(small_events_test[['user_id', 'item_id', 'rating']].itertuples(index=False))\n",
    "\n",
    "# получаем рекомендации для тестовой выборки\n",
    "small_svd_predictions = svd_model.test(small_surprise_test_set)"
   ]
  },
  {
   "cell_type": "code",
   "execution_count": 64,
   "id": "3cab0d4f-7eb0-4f0d-8d81-722e6d8aeafe",
   "metadata": {},
   "outputs": [
    {
     "name": "stdout",
     "output_type": "stream",
     "text": [
      "RMSE: 0.9307\n",
      "MAE:  0.7457\n",
      "0.9307258087912385 0.7456741373891175\n"
     ]
    }
   ],
   "source": [
    "from surprise import accuracy\n",
    "\n",
    "rmse = accuracy.rmse(small_svd_predictions)\n",
    "mae = accuracy.mae(small_svd_predictions)\n",
    "                     \n",
    "print(rmse, mae)"
   ]
  },
  {
   "cell_type": "code",
   "execution_count": 65,
   "id": "9f48a684-7754-4dba-b060-edd8d85af8de",
   "metadata": {},
   "outputs": [
    {
     "data": {
      "text/plain": [
       "(0.10185463988532495, 0.09823665363886047)"
      ]
     },
     "execution_count": 65,
     "metadata": {},
     "output_type": "execute_result"
    }
   ],
   "source": [
    "# Разница\n",
    "0.9307258087912385 - 0.8288711689059135, 0.7456741373891175 - 0.647437483750257"
   ]
  },
  {
   "cell_type": "code",
   "execution_count": 66,
   "id": "1a573b86-d282-4f3b-be9d-87f54b1e812f",
   "metadata": {},
   "outputs": [
    {
     "data": {
      "text/plain": [
       "2365"
      ]
     },
     "execution_count": 66,
     "metadata": {},
     "output_type": "execute_result"
    }
   ],
   "source": [
    "# Эксперимент с холодными пользователями\n",
    "cold_users = set(events_test['user_id'].unique()) - set(events_train['user_id'].unique())\n",
    "len(cold_users)"
   ]
  },
  {
   "cell_type": "code",
   "execution_count": 67,
   "id": "2894c1dc-8f7e-44a4-a266-09e2809d88a7",
   "metadata": {},
   "outputs": [],
   "source": [
    "cold_events_test = events_test.query('user_id in @cold_users')\n",
    "cold_surprise_test_set = list(\n",
    "    cold_events_test[['user_id', 'item_id', 'rating']].itertuples(index=False)\n",
    ")\n",
    "\n",
    "# получаем рекомендации для тестовой выборки\n",
    "cold_svd_predictions = svd_model.test(cold_surprise_test_set)"
   ]
  },
  {
   "cell_type": "code",
   "execution_count": 68,
   "id": "2f13619a-318c-40a3-83be-16304c1d6552",
   "metadata": {},
   "outputs": [
    {
     "name": "stdout",
     "output_type": "stream",
     "text": [
      "RMSE: 0.8941\n",
      "MAE:  0.7178\n",
      "0.8940976810617918 0.7178012838767979\n"
     ]
    }
   ],
   "source": [
    "from surprise import accuracy\n",
    "\n",
    "rmse = accuracy.rmse(cold_svd_predictions)\n",
    "mae = accuracy.mae(cold_svd_predictions)\n",
    "                     \n",
    "print(rmse, mae)"
   ]
  },
  {
   "cell_type": "code",
   "execution_count": 69,
   "id": "a512da33-49ad-4432-90fc-9bfd286e3c2e",
   "metadata": {},
   "outputs": [
    {
     "data": {
      "text/plain": [
       "(0.06522651215587827, 0.07036380012654087)"
      ]
     },
     "execution_count": 69,
     "metadata": {},
     "output_type": "execute_result"
    }
   ],
   "source": [
    "# Разница\n",
    "0.8940976810617918 - 0.8288711689059135, 0.7178012838767979 - 0.647437483750257"
   ]
  },
  {
   "cell_type": "markdown",
   "id": "6a170416-bba1-4b8f-b64c-49298d7cf528",
   "metadata": {},
   "source": [
    "# Получение рекомендаций"
   ]
  },
  {
   "cell_type": "code",
   "execution_count": 70,
   "id": "52496a2f-1676-4bfa-aada-7141acc24ab2",
   "metadata": {},
   "outputs": [
    {
     "data": {
      "text/plain": [
       "Prediction(uid=1296647, iid=18467802, r_ui=None, est=3.775084479578892, details={'was_impossible': False})"
      ]
     },
     "execution_count": 70,
     "metadata": {},
     "output_type": "execute_result"
    }
   ],
   "source": [
    "svd_model.predict(1296647, 18467802)"
   ]
  },
  {
   "cell_type": "code",
   "execution_count": 71,
   "id": "e92a93ba-f6c3-4b2c-88a0-b51d78d1cb76",
   "metadata": {},
   "outputs": [
    {
     "data": {
      "text/html": [
       "<div>\n",
       "<style scoped>\n",
       "    .dataframe tbody tr th:only-of-type {\n",
       "        vertical-align: middle;\n",
       "    }\n",
       "\n",
       "    .dataframe tbody tr th {\n",
       "        vertical-align: top;\n",
       "    }\n",
       "\n",
       "    .dataframe thead th {\n",
       "        text-align: right;\n",
       "    }\n",
       "</style>\n",
       "<table border=\"1\" class=\"dataframe\">\n",
       "  <thead>\n",
       "    <tr style=\"text-align: right;\">\n",
       "      <th></th>\n",
       "      <th>user_id</th>\n",
       "      <th>item_id</th>\n",
       "      <th>started_at</th>\n",
       "      <th>read_at</th>\n",
       "      <th>is_read</th>\n",
       "      <th>rating</th>\n",
       "      <th>is_reviewed</th>\n",
       "      <th>started_at_month</th>\n",
       "    </tr>\n",
       "  </thead>\n",
       "  <tbody>\n",
       "    <tr>\n",
       "      <th>84</th>\n",
       "      <td>1196635</td>\n",
       "      <td>18467802</td>\n",
       "      <td>2017-09-01</td>\n",
       "      <td>2017-09-22</td>\n",
       "      <td>True</td>\n",
       "      <td>1</td>\n",
       "      <td>False</td>\n",
       "      <td>2017-09-01</td>\n",
       "    </tr>\n",
       "    <tr>\n",
       "      <th>257</th>\n",
       "      <td>1188739</td>\n",
       "      <td>10799</td>\n",
       "      <td>2017-08-06</td>\n",
       "      <td>2017-10-14</td>\n",
       "      <td>True</td>\n",
       "      <td>3</td>\n",
       "      <td>False</td>\n",
       "      <td>2017-08-01</td>\n",
       "    </tr>\n",
       "    <tr>\n",
       "      <th>270</th>\n",
       "      <td>1001879</td>\n",
       "      <td>13206828</td>\n",
       "      <td>2017-09-24</td>\n",
       "      <td>2017-09-28</td>\n",
       "      <td>True</td>\n",
       "      <td>5</td>\n",
       "      <td>True</td>\n",
       "      <td>2017-09-01</td>\n",
       "    </tr>\n",
       "    <tr>\n",
       "      <th>271</th>\n",
       "      <td>1001879</td>\n",
       "      <td>13206900</td>\n",
       "      <td>2017-09-28</td>\n",
       "      <td>2017-10-07</td>\n",
       "      <td>True</td>\n",
       "      <td>4</td>\n",
       "      <td>True</td>\n",
       "      <td>2017-09-01</td>\n",
       "    </tr>\n",
       "    <tr>\n",
       "      <th>272</th>\n",
       "      <td>1001879</td>\n",
       "      <td>13206760</td>\n",
       "      <td>2017-09-21</td>\n",
       "      <td>2017-09-24</td>\n",
       "      <td>True</td>\n",
       "      <td>5</td>\n",
       "      <td>True</td>\n",
       "      <td>2017-09-01</td>\n",
       "    </tr>\n",
       "    <tr>\n",
       "      <th>...</th>\n",
       "      <td>...</td>\n",
       "      <td>...</td>\n",
       "      <td>...</td>\n",
       "      <td>...</td>\n",
       "      <td>...</td>\n",
       "      <td>...</td>\n",
       "      <td>...</td>\n",
       "      <td>...</td>\n",
       "    </tr>\n",
       "    <tr>\n",
       "      <th>12913921</th>\n",
       "      <td>1145655</td>\n",
       "      <td>25781157</td>\n",
       "      <td>2017-08-04</td>\n",
       "      <td>2017-08-14</td>\n",
       "      <td>True</td>\n",
       "      <td>3</td>\n",
       "      <td>False</td>\n",
       "      <td>2017-08-01</td>\n",
       "    </tr>\n",
       "    <tr>\n",
       "      <th>12914084</th>\n",
       "      <td>1166047</td>\n",
       "      <td>92057</td>\n",
       "      <td>2017-08-20</td>\n",
       "      <td>2017-09-17</td>\n",
       "      <td>True</td>\n",
       "      <td>5</td>\n",
       "      <td>False</td>\n",
       "      <td>2017-08-01</td>\n",
       "    </tr>\n",
       "    <tr>\n",
       "      <th>12914085</th>\n",
       "      <td>1166047</td>\n",
       "      <td>168668</td>\n",
       "      <td>2017-08-03</td>\n",
       "      <td>2017-08-19</td>\n",
       "      <td>True</td>\n",
       "      <td>2</td>\n",
       "      <td>False</td>\n",
       "      <td>2017-08-01</td>\n",
       "    </tr>\n",
       "    <tr>\n",
       "      <th>12914150</th>\n",
       "      <td>1155073</td>\n",
       "      <td>25300956</td>\n",
       "      <td>2017-08-12</td>\n",
       "      <td>2017-10-14</td>\n",
       "      <td>True</td>\n",
       "      <td>5</td>\n",
       "      <td>False</td>\n",
       "      <td>2017-08-01</td>\n",
       "    </tr>\n",
       "    <tr>\n",
       "      <th>12914350</th>\n",
       "      <td>1387130</td>\n",
       "      <td>16143347</td>\n",
       "      <td>2017-09-14</td>\n",
       "      <td>2017-09-16</td>\n",
       "      <td>True</td>\n",
       "      <td>5</td>\n",
       "      <td>False</td>\n",
       "      <td>2017-09-01</td>\n",
       "    </tr>\n",
       "  </tbody>\n",
       "</table>\n",
       "<p>424962 rows × 8 columns</p>\n",
       "</div>"
      ],
      "text/plain": [
       "          user_id   item_id started_at    read_at  is_read  rating  \\\n",
       "84        1196635  18467802 2017-09-01 2017-09-22     True       1   \n",
       "257       1188739     10799 2017-08-06 2017-10-14     True       3   \n",
       "270       1001879  13206828 2017-09-24 2017-09-28     True       5   \n",
       "271       1001879  13206900 2017-09-28 2017-10-07     True       4   \n",
       "272       1001879  13206760 2017-09-21 2017-09-24     True       5   \n",
       "...           ...       ...        ...        ...      ...     ...   \n",
       "12913921  1145655  25781157 2017-08-04 2017-08-14     True       3   \n",
       "12914084  1166047     92057 2017-08-20 2017-09-17     True       5   \n",
       "12914085  1166047    168668 2017-08-03 2017-08-19     True       2   \n",
       "12914150  1155073  25300956 2017-08-12 2017-10-14     True       5   \n",
       "12914350  1387130  16143347 2017-09-14 2017-09-16     True       5   \n",
       "\n",
       "          is_reviewed started_at_month  \n",
       "84              False       2017-09-01  \n",
       "257             False       2017-08-01  \n",
       "270              True       2017-09-01  \n",
       "271              True       2017-09-01  \n",
       "272              True       2017-09-01  \n",
       "...               ...              ...  \n",
       "12913921        False       2017-08-01  \n",
       "12914084        False       2017-08-01  \n",
       "12914085        False       2017-08-01  \n",
       "12914150        False       2017-08-01  \n",
       "12914350        False       2017-09-01  \n",
       "\n",
       "[424962 rows x 8 columns]"
      ]
     },
     "execution_count": 71,
     "metadata": {},
     "output_type": "execute_result"
    }
   ],
   "source": [
    "events_test"
   ]
  },
  {
   "cell_type": "markdown",
   "id": "621357da-c359-4a44-b1d7-eb038ad9124c",
   "metadata": {},
   "source": [
    "Создайте функцию, которая позволит получить рекомендации для конкретного пользователя, используя описанный подход. Дополните прекод."
   ]
  },
  {
   "cell_type": "code",
   "execution_count": 72,
   "id": "1b717792-0aa4-4765-abec-dd4c6248b2ce",
   "metadata": {},
   "outputs": [],
   "source": [
    "def get_recommendations_svd(user_id, all_items, events, model, include_seen=True, n=5):\n",
    "\n",
    "    \"\"\" возвращает n рекомендаций для user_id \"\"\"\n",
    "    \n",
    "    # получим список идентификаторов всех книг\n",
    "    all_items = set(all_items['item_id'].unique())\n",
    "        \n",
    "    # учитываем флаг, стоит ли уже прочитанные книги включать в рекомендации\n",
    "    if include_seen:\n",
    "        items_to_predict = list(all_items)\n",
    "    else:\n",
    "        # получим список книг, которые пользователь уже прочитал (\"видел\")\n",
    "        seen_items = set(events[events['user_id'] == user_id]['item_id'].unique())\n",
    "        \n",
    "        # книги, которые пользователь ещё не читал\n",
    "        # только их и будем включать в рекомендации\n",
    "        items_to_predict = list(all_items - seen_items)\n",
    "    \n",
    "    # получаем скоры для списка книг, т. е. рекомендации\n",
    "    predictions = [model.predict(user_id, item_id) for item_id in items_to_predict]\n",
    "    \n",
    "    # сортируем рекомендации по убыванию скора и берём только n первых\n",
    "    recommendations = sorted(predictions, key=lambda x: x.est, reverse=True)[:n]\n",
    "    \n",
    "    return pd.DataFrame(\n",
    "        [(pred.iid, pred.est) for pred in recommendations],\n",
    "        columns=[\"item_id\", \"score\"]\n",
    "    )"
   ]
  },
  {
   "cell_type": "code",
   "execution_count": 73,
   "id": "2fb1bb93-18bc-4336-9d25-af99bf081337",
   "metadata": {},
   "outputs": [
    {
     "data": {
      "text/html": [
       "<div>\n",
       "<style scoped>\n",
       "    .dataframe tbody tr th:only-of-type {\n",
       "        vertical-align: middle;\n",
       "    }\n",
       "\n",
       "    .dataframe tbody tr th {\n",
       "        vertical-align: top;\n",
       "    }\n",
       "\n",
       "    .dataframe thead th {\n",
       "        text-align: right;\n",
       "    }\n",
       "</style>\n",
       "<table border=\"1\" class=\"dataframe\">\n",
       "  <thead>\n",
       "    <tr style=\"text-align: right;\">\n",
       "      <th></th>\n",
       "      <th>item_id</th>\n",
       "      <th>score</th>\n",
       "    </tr>\n",
       "  </thead>\n",
       "  <tbody>\n",
       "    <tr>\n",
       "      <th>0</th>\n",
       "      <td>24812</td>\n",
       "      <td>5.000000</td>\n",
       "    </tr>\n",
       "    <tr>\n",
       "      <th>1</th>\n",
       "      <td>7864312</td>\n",
       "      <td>4.981188</td>\n",
       "    </tr>\n",
       "    <tr>\n",
       "      <th>2</th>\n",
       "      <td>25793186</td>\n",
       "      <td>4.912001</td>\n",
       "    </tr>\n",
       "    <tr>\n",
       "      <th>3</th>\n",
       "      <td>12174312</td>\n",
       "      <td>4.898052</td>\n",
       "    </tr>\n",
       "    <tr>\n",
       "      <th>4</th>\n",
       "      <td>13208</td>\n",
       "      <td>4.894869</td>\n",
       "    </tr>\n",
       "  </tbody>\n",
       "</table>\n",
       "</div>"
      ],
      "text/plain": [
       "    item_id     score\n",
       "0     24812  5.000000\n",
       "1   7864312  4.981188\n",
       "2  25793186  4.912001\n",
       "3  12174312  4.898052\n",
       "4     13208  4.894869"
      ]
     },
     "execution_count": 73,
     "metadata": {},
     "output_type": "execute_result"
    }
   ],
   "source": [
    "get_recommendations_svd(1296647, items, events_train, svd_model, include_seen=False) "
   ]
  },
  {
   "cell_type": "markdown",
   "id": "068b09e9-6e75-4308-9b9d-4b0768f44165",
   "metadata": {},
   "source": [
    "# Дополнительная проверка качества рекомендаций"
   ]
  },
  {
   "cell_type": "markdown",
   "id": "1139e049-0b32-44bf-ad97-99f1eb4f01e5",
   "metadata": {},
   "source": [
    "Некоторые проблемы рекомендаций отследить с помощью метрик сложно. Например, с помощью метрик сложно выявить рекомендации с низким разнообразием — когда пользователю, который прочитал книгу одного автора, рекомендуются книги преимущественно того же автора. Такие проблемы проще отследить «глазами». \n",
    "Для этого нужно вывести последние события для случайного пользователя и рекомендации для него. Это можно сделать с помощью функции get_recommendations_svd:"
   ]
  },
  {
   "cell_type": "code",
   "execution_count": 74,
   "id": "dfd2c97d-2750-413e-ba40-692b932e8e61",
   "metadata": {
    "scrolled": true
   },
   "outputs": [
    {
     "name": "stdout",
     "output_type": "stream",
     "text": [
      "user_id: 1169023\n",
      "История (последние события, recent)\n"
     ]
    },
    {
     "data": {
      "text/html": [
       "<div>\n",
       "<style scoped>\n",
       "    .dataframe tbody tr th:only-of-type {\n",
       "        vertical-align: middle;\n",
       "    }\n",
       "\n",
       "    .dataframe tbody tr th {\n",
       "        vertical-align: top;\n",
       "    }\n",
       "\n",
       "    .dataframe thead th {\n",
       "        text-align: right;\n",
       "    }\n",
       "</style>\n",
       "<table border=\"1\" class=\"dataframe\">\n",
       "  <thead>\n",
       "    <tr style=\"text-align: right;\">\n",
       "      <th></th>\n",
       "      <th>author</th>\n",
       "      <th>title</th>\n",
       "      <th>started_at</th>\n",
       "      <th>read_at</th>\n",
       "      <th>rating</th>\n",
       "      <th>genre_and_votes</th>\n",
       "    </tr>\n",
       "  </thead>\n",
       "  <tbody>\n",
       "    <tr>\n",
       "      <th>0</th>\n",
       "      <td>Naomi Alderman</td>\n",
       "      <td>The Power</td>\n",
       "      <td>2017-07-24</td>\n",
       "      <td>2017-08-01</td>\n",
       "      <td>5</td>\n",
       "      <td>{'Fiction': 3007, 'Science Fiction': 1576, 'Fe...</td>\n",
       "    </tr>\n",
       "    <tr>\n",
       "      <th>1</th>\n",
       "      <td>George Orwell, Erich Fromm</td>\n",
       "      <td>1984</td>\n",
       "      <td>2017-02-17</td>\n",
       "      <td>2017-08-25</td>\n",
       "      <td>3</td>\n",
       "      <td>{'Classics': 33441, 'Fiction': 21086, 'Science...</td>\n",
       "    </tr>\n",
       "    <tr>\n",
       "      <th>2</th>\n",
       "      <td>Robert Dugoni</td>\n",
       "      <td>The Trapped Girl (Tracy Crosswhite #4)</td>\n",
       "      <td>2017-01-30</td>\n",
       "      <td>2017-02-13</td>\n",
       "      <td>4</td>\n",
       "      <td>{'Mystery': 222, 'Fiction': 104, 'Thriller': 7...</td>\n",
       "    </tr>\n",
       "    <tr>\n",
       "      <th>3</th>\n",
       "      <td>Kerry Lonsdale</td>\n",
       "      <td>Everything We Keep (Everything We Keep, #1)</td>\n",
       "      <td>2017-01-26</td>\n",
       "      <td>2017-01-30</td>\n",
       "      <td>3</td>\n",
       "      <td>{'Fiction': 314, 'Mystery': 215, 'Romance': 18...</td>\n",
       "    </tr>\n",
       "    <tr>\n",
       "      <th>4</th>\n",
       "      <td>Brian Freeman</td>\n",
       "      <td>The Night Bird (Frost Easton, #1)</td>\n",
       "      <td>2017-01-10</td>\n",
       "      <td>2017-01-16</td>\n",
       "      <td>2</td>\n",
       "      <td>{'Mystery': 254, 'Thriller': 156, 'Fiction': 1...</td>\n",
       "    </tr>\n",
       "    <tr>\n",
       "      <th>...</th>\n",
       "      <td>...</td>\n",
       "      <td>...</td>\n",
       "      <td>...</td>\n",
       "      <td>...</td>\n",
       "      <td>...</td>\n",
       "      <td>...</td>\n",
       "    </tr>\n",
       "    <tr>\n",
       "      <th>73</th>\n",
       "      <td>Gillian Flynn</td>\n",
       "      <td>Dark Places</td>\n",
       "      <td>2014-05-17</td>\n",
       "      <td>2014-05-22</td>\n",
       "      <td>4</td>\n",
       "      <td>{'Mystery': 4534, 'Fiction': 4055, 'Thriller':...</td>\n",
       "    </tr>\n",
       "    <tr>\n",
       "      <th>74</th>\n",
       "      <td>Audrey Niffenegger</td>\n",
       "      <td>Her Fearful Symmetry</td>\n",
       "      <td>2014-05-05</td>\n",
       "      <td>2014-05-08</td>\n",
       "      <td>2</td>\n",
       "      <td>{'Fiction': 1984, 'Fantasy': 674, 'Fantasy-Par...</td>\n",
       "    </tr>\n",
       "    <tr>\n",
       "      <th>75</th>\n",
       "      <td>Kathy Reichs</td>\n",
       "      <td>Déjà Dead (Temperance Brennan, #1)</td>\n",
       "      <td>2014-05-13</td>\n",
       "      <td>2014-05-17</td>\n",
       "      <td>4</td>\n",
       "      <td>{'Mystery': 2141, 'Fiction': 904, 'Mystery-Cri...</td>\n",
       "    </tr>\n",
       "    <tr>\n",
       "      <th>76</th>\n",
       "      <td>Carolyn Parkhurst</td>\n",
       "      <td>The Dogs of Babel</td>\n",
       "      <td>2014-05-09</td>\n",
       "      <td>2014-05-10</td>\n",
       "      <td>5</td>\n",
       "      <td>{'Fiction': 522, 'Mystery': 102, 'Animals': 77...</td>\n",
       "    </tr>\n",
       "    <tr>\n",
       "      <th>77</th>\n",
       "      <td>George R.R. Martin</td>\n",
       "      <td>A Dance with Dragons (A Song of Ice and Fire, #5)</td>\n",
       "      <td>2014-05-04</td>\n",
       "      <td>2014-05-04</td>\n",
       "      <td>5</td>\n",
       "      <td>{'Fantasy': 22247, 'Fiction': 4512, 'Fantasy-E...</td>\n",
       "    </tr>\n",
       "  </tbody>\n",
       "</table>\n",
       "<p>78 rows × 6 columns</p>\n",
       "</div>"
      ],
      "text/plain": [
       "                        author  \\\n",
       "0               Naomi Alderman   \n",
       "1   George Orwell, Erich Fromm   \n",
       "2                Robert Dugoni   \n",
       "3               Kerry Lonsdale   \n",
       "4                Brian Freeman   \n",
       "..                         ...   \n",
       "73               Gillian Flynn   \n",
       "74          Audrey Niffenegger   \n",
       "75                Kathy Reichs   \n",
       "76           Carolyn Parkhurst   \n",
       "77          George R.R. Martin   \n",
       "\n",
       "                                                title started_at    read_at  \\\n",
       "0                                           The Power 2017-07-24 2017-08-01   \n",
       "1                                                1984 2017-02-17 2017-08-25   \n",
       "2              The Trapped Girl (Tracy Crosswhite #4) 2017-01-30 2017-02-13   \n",
       "3         Everything We Keep (Everything We Keep, #1) 2017-01-26 2017-01-30   \n",
       "4                   The Night Bird (Frost Easton, #1) 2017-01-10 2017-01-16   \n",
       "..                                                ...        ...        ...   \n",
       "73                                        Dark Places 2014-05-17 2014-05-22   \n",
       "74                               Her Fearful Symmetry 2014-05-05 2014-05-08   \n",
       "75                 Déjà Dead (Temperance Brennan, #1) 2014-05-13 2014-05-17   \n",
       "76                                  The Dogs of Babel 2014-05-09 2014-05-10   \n",
       "77  A Dance with Dragons (A Song of Ice and Fire, #5) 2014-05-04 2014-05-04   \n",
       "\n",
       "    rating                                    genre_and_votes  \n",
       "0        5  {'Fiction': 3007, 'Science Fiction': 1576, 'Fe...  \n",
       "1        3  {'Classics': 33441, 'Fiction': 21086, 'Science...  \n",
       "2        4  {'Mystery': 222, 'Fiction': 104, 'Thriller': 7...  \n",
       "3        3  {'Fiction': 314, 'Mystery': 215, 'Romance': 18...  \n",
       "4        2  {'Mystery': 254, 'Thriller': 156, 'Fiction': 1...  \n",
       "..     ...                                                ...  \n",
       "73       4  {'Mystery': 4534, 'Fiction': 4055, 'Thriller':...  \n",
       "74       2  {'Fiction': 1984, 'Fantasy': 674, 'Fantasy-Par...  \n",
       "75       4  {'Mystery': 2141, 'Fiction': 904, 'Mystery-Cri...  \n",
       "76       5  {'Fiction': 522, 'Mystery': 102, 'Animals': 77...  \n",
       "77       5  {'Fantasy': 22247, 'Fiction': 4512, 'Fantasy-E...  \n",
       "\n",
       "[78 rows x 6 columns]"
      ]
     },
     "metadata": {},
     "output_type": "display_data"
    },
    {
     "name": "stdout",
     "output_type": "stream",
     "text": [
      "Рекомендации\n"
     ]
    },
    {
     "data": {
      "text/html": [
       "<div>\n",
       "<style scoped>\n",
       "    .dataframe tbody tr th:only-of-type {\n",
       "        vertical-align: middle;\n",
       "    }\n",
       "\n",
       "    .dataframe tbody tr th {\n",
       "        vertical-align: top;\n",
       "    }\n",
       "\n",
       "    .dataframe thead th {\n",
       "        text-align: right;\n",
       "    }\n",
       "</style>\n",
       "<table border=\"1\" class=\"dataframe\">\n",
       "  <thead>\n",
       "    <tr style=\"text-align: right;\">\n",
       "      <th></th>\n",
       "      <th>item_id</th>\n",
       "      <th>score</th>\n",
       "      <th>author</th>\n",
       "      <th>title</th>\n",
       "      <th>genre_and_votes</th>\n",
       "    </tr>\n",
       "  </thead>\n",
       "  <tbody>\n",
       "    <tr>\n",
       "      <th>0</th>\n",
       "      <td>2199</td>\n",
       "      <td>5</td>\n",
       "      <td>Doris Kearns Goodwin</td>\n",
       "      <td>Team of Rivals: The Political Genius of Abraha...</td>\n",
       "      <td>{'History': 4174, 'Nonfiction': 2127, 'Biograp...</td>\n",
       "    </tr>\n",
       "    <tr>\n",
       "      <th>1</th>\n",
       "      <td>16255632</td>\n",
       "      <td>5</td>\n",
       "      <td>David Gaider, Ben Gelinas, Mike Laidlaw, Dave ...</td>\n",
       "      <td>Dragon Age: The World of Thedas Volume 1</td>\n",
       "      <td>{'Fantasy': 134, 'Games-Video Games': 28, 'Art...</td>\n",
       "    </tr>\n",
       "    <tr>\n",
       "      <th>2</th>\n",
       "      <td>2363958</td>\n",
       "      <td>5</td>\n",
       "      <td>João Guimarães Rosa</td>\n",
       "      <td>Grande Sertão: Veredas</td>\n",
       "      <td>{'Fiction': 85, 'Classics': 69, 'Cultural-Braz...</td>\n",
       "    </tr>\n",
       "    <tr>\n",
       "      <th>3</th>\n",
       "      <td>22552026</td>\n",
       "      <td>5</td>\n",
       "      <td>Jason Reynolds</td>\n",
       "      <td>Long Way Down</td>\n",
       "      <td>{'Young Adult': 1871, 'Poetry': 1737, 'Contemp...</td>\n",
       "    </tr>\n",
       "    <tr>\n",
       "      <th>4</th>\n",
       "      <td>29237211</td>\n",
       "      <td>5</td>\n",
       "      <td>Brian K. Vaughan, Fiona Staples</td>\n",
       "      <td>Saga, Vol. 7 (Saga, #7)</td>\n",
       "      <td>{'Sequential Art-Graphic Novels': 2539, 'Seque...</td>\n",
       "    </tr>\n",
       "  </tbody>\n",
       "</table>\n",
       "</div>"
      ],
      "text/plain": [
       "    item_id  score                                             author  \\\n",
       "0      2199      5                               Doris Kearns Goodwin   \n",
       "1  16255632      5  David Gaider, Ben Gelinas, Mike Laidlaw, Dave ...   \n",
       "2   2363958      5                                João Guimarães Rosa   \n",
       "3  22552026      5                                     Jason Reynolds   \n",
       "4  29237211      5                    Brian K. Vaughan, Fiona Staples   \n",
       "\n",
       "                                               title  \\\n",
       "0  Team of Rivals: The Political Genius of Abraha...   \n",
       "1           Dragon Age: The World of Thedas Volume 1   \n",
       "2                             Grande Sertão: Veredas   \n",
       "3                                      Long Way Down   \n",
       "4                            Saga, Vol. 7 (Saga, #7)   \n",
       "\n",
       "                                     genre_and_votes  \n",
       "0  {'History': 4174, 'Nonfiction': 2127, 'Biograp...  \n",
       "1  {'Fantasy': 134, 'Games-Video Games': 28, 'Art...  \n",
       "2  {'Fiction': 85, 'Classics': 69, 'Cultural-Braz...  \n",
       "3  {'Young Adult': 1871, 'Poetry': 1737, 'Contemp...  \n",
       "4  {'Sequential Art-Graphic Novels': 2539, 'Seque...  "
      ]
     },
     "metadata": {},
     "output_type": "display_data"
    }
   ],
   "source": [
    "# выберем произвольного пользователя из тренировочной выборки (\"прошлого\")\n",
    "user_id = events_train['user_id'].sample().iat[0]\n",
    "\n",
    "print(f\"user_id: {user_id}\")\n",
    "\n",
    "print(\"История (последние события, recent)\")\n",
    "user_history = (\n",
    "    events_train\n",
    "    .query(\"user_id == @user_id\")\n",
    "    .merge(items.set_index(\"item_id\")[[\"author\", \"title\", \"genre_and_votes\"]], on=\"item_id\")\n",
    ")\n",
    "user_history_to_print = user_history[\n",
    "    [\"author\", \"title\", \"started_at\", \"read_at\", \"rating\", \"genre_and_votes\"]\n",
    "]#.sample(10)\n",
    "display(user_history_to_print)\n",
    "\n",
    "print(\"Рекомендации\")\n",
    "user_recommendations = get_recommendations_svd(user_id, items, events_train, svd_model)\n",
    "user_recommendations = user_recommendations.merge(\n",
    "    items[[\"item_id\", \"author\", \"title\", \"genre_and_votes\"]],\n",
    "    on=\"item_id\"\n",
    ")\n",
    "display(user_recommendations)"
   ]
  },
  {
   "cell_type": "markdown",
   "id": "f4047f09-bfa9-4e7c-aaf1-22b5f2d97ae1",
   "metadata": {},
   "source": [
    "# Факультативное задание"
   ]
  },
  {
   "cell_type": "markdown",
   "id": "c6366c4d-66cb-47ba-ac3f-b3d1d61e2018",
   "metadata": {},
   "source": [
    "Добавьте в events события для нового пользователя, как если бы он прочитал те книги, которые нравятся вам. Получите рекомендации для этого пользователя. Оцените, насколько они релевантны вашим интересам."
   ]
  },
  {
   "cell_type": "code",
   "execution_count": 75,
   "id": "8eb9fcac-bfc3-4380-9abc-5f6d4c7508f4",
   "metadata": {},
   "outputs": [
    {
     "data": {
      "text/plain": [
       "1430584"
      ]
     },
     "execution_count": 75,
     "metadata": {},
     "output_type": "execute_result"
    }
   ],
   "source": [
    "events.user_id.max()"
   ]
  },
  {
   "cell_type": "code",
   "execution_count": 76,
   "id": "7ae4fc2d-5c38-4082-ad6c-383dc6f028e0",
   "metadata": {},
   "outputs": [
    {
     "data": {
      "text/html": [
       "<div>\n",
       "<style scoped>\n",
       "    .dataframe tbody tr th:only-of-type {\n",
       "        vertical-align: middle;\n",
       "    }\n",
       "\n",
       "    .dataframe tbody tr th {\n",
       "        vertical-align: top;\n",
       "    }\n",
       "\n",
       "    .dataframe thead th {\n",
       "        text-align: right;\n",
       "    }\n",
       "</style>\n",
       "<table border=\"1\" class=\"dataframe\">\n",
       "  <thead>\n",
       "    <tr style=\"text-align: right;\">\n",
       "      <th></th>\n",
       "      <th>user_id</th>\n",
       "      <th>item_id</th>\n",
       "      <th>started_at</th>\n",
       "      <th>read_at</th>\n",
       "      <th>is_read</th>\n",
       "      <th>rating</th>\n",
       "      <th>is_reviewed</th>\n",
       "      <th>started_at_month</th>\n",
       "    </tr>\n",
       "  </thead>\n",
       "  <tbody>\n",
       "    <tr>\n",
       "      <th>0</th>\n",
       "      <td>1229132</td>\n",
       "      <td>22034</td>\n",
       "      <td>2015-07-12</td>\n",
       "      <td>2015-07-17</td>\n",
       "      <td>True</td>\n",
       "      <td>5</td>\n",
       "      <td>False</td>\n",
       "      <td>2015-07-01</td>\n",
       "    </tr>\n",
       "    <tr>\n",
       "      <th>1</th>\n",
       "      <td>1229132</td>\n",
       "      <td>22318578</td>\n",
       "      <td>2015-06-07</td>\n",
       "      <td>2015-08-09</td>\n",
       "      <td>True</td>\n",
       "      <td>5</td>\n",
       "      <td>True</td>\n",
       "      <td>2015-06-01</td>\n",
       "    </tr>\n",
       "    <tr>\n",
       "      <th>2</th>\n",
       "      <td>1229132</td>\n",
       "      <td>22551730</td>\n",
       "      <td>2015-06-24</td>\n",
       "      <td>2015-07-11</td>\n",
       "      <td>True</td>\n",
       "      <td>4</td>\n",
       "      <td>True</td>\n",
       "      <td>2015-06-01</td>\n",
       "    </tr>\n",
       "    <tr>\n",
       "      <th>3</th>\n",
       "      <td>1229132</td>\n",
       "      <td>22816087</td>\n",
       "      <td>2015-09-27</td>\n",
       "      <td>2015-11-04</td>\n",
       "      <td>True</td>\n",
       "      <td>5</td>\n",
       "      <td>True</td>\n",
       "      <td>2015-09-01</td>\n",
       "    </tr>\n",
       "    <tr>\n",
       "      <th>5</th>\n",
       "      <td>1229132</td>\n",
       "      <td>17910054</td>\n",
       "      <td>2015-03-04</td>\n",
       "      <td>2015-07-28</td>\n",
       "      <td>True</td>\n",
       "      <td>3</td>\n",
       "      <td>False</td>\n",
       "      <td>2015-03-01</td>\n",
       "    </tr>\n",
       "    <tr>\n",
       "      <th>...</th>\n",
       "      <td>...</td>\n",
       "      <td>...</td>\n",
       "      <td>...</td>\n",
       "      <td>...</td>\n",
       "      <td>...</td>\n",
       "      <td>...</td>\n",
       "      <td>...</td>\n",
       "      <td>...</td>\n",
       "    </tr>\n",
       "    <tr>\n",
       "      <th>12914452</th>\n",
       "      <td>1364473</td>\n",
       "      <td>5297</td>\n",
       "      <td>2017-02-07</td>\n",
       "      <td>2017-02-26</td>\n",
       "      <td>True</td>\n",
       "      <td>5</td>\n",
       "      <td>False</td>\n",
       "      <td>2017-02-01</td>\n",
       "    </tr>\n",
       "    <tr>\n",
       "      <th>12914453</th>\n",
       "      <td>1364473</td>\n",
       "      <td>4900</td>\n",
       "      <td>2016-12-22</td>\n",
       "      <td>2016-12-29</td>\n",
       "      <td>True</td>\n",
       "      <td>2</td>\n",
       "      <td>False</td>\n",
       "      <td>2016-12-01</td>\n",
       "    </tr>\n",
       "    <tr>\n",
       "      <th>12914454</th>\n",
       "      <td>1364473</td>\n",
       "      <td>14836</td>\n",
       "      <td>2016-11-29</td>\n",
       "      <td>2017-01-15</td>\n",
       "      <td>True</td>\n",
       "      <td>3</td>\n",
       "      <td>False</td>\n",
       "      <td>2016-11-01</td>\n",
       "    </tr>\n",
       "    <tr>\n",
       "      <th>12914456</th>\n",
       "      <td>1297020</td>\n",
       "      <td>10210</td>\n",
       "      <td>2012-06-05</td>\n",
       "      <td>2013-01-17</td>\n",
       "      <td>True</td>\n",
       "      <td>5</td>\n",
       "      <td>False</td>\n",
       "      <td>2012-06-01</td>\n",
       "    </tr>\n",
       "    <tr>\n",
       "      <th>12914457</th>\n",
       "      <td>1297020</td>\n",
       "      <td>99561</td>\n",
       "      <td>2012-07-21</td>\n",
       "      <td>2012-07-22</td>\n",
       "      <td>True</td>\n",
       "      <td>4</td>\n",
       "      <td>False</td>\n",
       "      <td>2012-07-01</td>\n",
       "    </tr>\n",
       "  </tbody>\n",
       "</table>\n",
       "<p>11751086 rows × 8 columns</p>\n",
       "</div>"
      ],
      "text/plain": [
       "          user_id   item_id started_at    read_at  is_read  rating  \\\n",
       "0         1229132     22034 2015-07-12 2015-07-17     True       5   \n",
       "1         1229132  22318578 2015-06-07 2015-08-09     True       5   \n",
       "2         1229132  22551730 2015-06-24 2015-07-11     True       4   \n",
       "3         1229132  22816087 2015-09-27 2015-11-04     True       5   \n",
       "5         1229132  17910054 2015-03-04 2015-07-28     True       3   \n",
       "...           ...       ...        ...        ...      ...     ...   \n",
       "12914452  1364473      5297 2017-02-07 2017-02-26     True       5   \n",
       "12914453  1364473      4900 2016-12-22 2016-12-29     True       2   \n",
       "12914454  1364473     14836 2016-11-29 2017-01-15     True       3   \n",
       "12914456  1297020     10210 2012-06-05 2013-01-17     True       5   \n",
       "12914457  1297020     99561 2012-07-21 2012-07-22     True       4   \n",
       "\n",
       "          is_reviewed started_at_month  \n",
       "0               False       2015-07-01  \n",
       "1                True       2015-06-01  \n",
       "2                True       2015-06-01  \n",
       "3                True       2015-09-01  \n",
       "5               False       2015-03-01  \n",
       "...               ...              ...  \n",
       "12914452        False       2017-02-01  \n",
       "12914453        False       2016-12-01  \n",
       "12914454        False       2016-11-01  \n",
       "12914456        False       2012-06-01  \n",
       "12914457        False       2012-07-01  \n",
       "\n",
       "[11751086 rows x 8 columns]"
      ]
     },
     "execution_count": 76,
     "metadata": {},
     "output_type": "execute_result"
    }
   ],
   "source": [
    "events"
   ]
  },
  {
   "cell_type": "code",
   "execution_count": 77,
   "id": "2e356ee5-ca6d-457e-99cb-8a62ead44bf7",
   "metadata": {},
   "outputs": [
    {
     "data": {
      "text/html": [
       "<div>\n",
       "<style scoped>\n",
       "    .dataframe tbody tr th:only-of-type {\n",
       "        vertical-align: middle;\n",
       "    }\n",
       "\n",
       "    .dataframe tbody tr th {\n",
       "        vertical-align: top;\n",
       "    }\n",
       "\n",
       "    .dataframe thead th {\n",
       "        text-align: right;\n",
       "    }\n",
       "</style>\n",
       "<table border=\"1\" class=\"dataframe\">\n",
       "  <thead>\n",
       "    <tr style=\"text-align: right;\">\n",
       "      <th></th>\n",
       "      <th>item_id</th>\n",
       "    </tr>\n",
       "    <tr>\n",
       "      <th>user_id</th>\n",
       "      <th></th>\n",
       "    </tr>\n",
       "  </thead>\n",
       "  <tbody>\n",
       "    <tr>\n",
       "      <th>1218605</th>\n",
       "      <td>1</td>\n",
       "    </tr>\n",
       "    <tr>\n",
       "      <th>1218467</th>\n",
       "      <td>1</td>\n",
       "    </tr>\n",
       "    <tr>\n",
       "      <th>1218471</th>\n",
       "      <td>1</td>\n",
       "    </tr>\n",
       "    <tr>\n",
       "      <th>1218488</th>\n",
       "      <td>1</td>\n",
       "    </tr>\n",
       "    <tr>\n",
       "      <th>1218499</th>\n",
       "      <td>1</td>\n",
       "    </tr>\n",
       "    <tr>\n",
       "      <th>...</th>\n",
       "      <td>...</td>\n",
       "    </tr>\n",
       "    <tr>\n",
       "      <th>1390859</th>\n",
       "      <td>90</td>\n",
       "    </tr>\n",
       "    <tr>\n",
       "      <th>1068880</th>\n",
       "      <td>92</td>\n",
       "    </tr>\n",
       "    <tr>\n",
       "      <th>1169483</th>\n",
       "      <td>116</td>\n",
       "    </tr>\n",
       "    <tr>\n",
       "      <th>1336078</th>\n",
       "      <td>123</td>\n",
       "    </tr>\n",
       "    <tr>\n",
       "      <th>1038215</th>\n",
       "      <td>141</td>\n",
       "    </tr>\n",
       "  </tbody>\n",
       "</table>\n",
       "<p>123223 rows × 1 columns</p>\n",
       "</div>"
      ],
      "text/plain": [
       "         item_id\n",
       "user_id         \n",
       "1218605        1\n",
       "1218467        1\n",
       "1218471        1\n",
       "1218488        1\n",
       "1218499        1\n",
       "...          ...\n",
       "1390859       90\n",
       "1068880       92\n",
       "1169483      116\n",
       "1336078      123\n",
       "1038215      141\n",
       "\n",
       "[123223 rows x 1 columns]"
      ]
     },
     "execution_count": 77,
     "metadata": {},
     "output_type": "execute_result"
    }
   ],
   "source": [
    "events_test.groupby('user_id').agg({'item_id': 'count'}).sort_values('item_id')"
   ]
  },
  {
   "cell_type": "code",
   "execution_count": 78,
   "id": "80cf5462-a174-4e31-b2e0-9c3c79c6acd8",
   "metadata": {},
   "outputs": [
    {
     "data": {
      "text/plain": [
       "(141, 8)"
      ]
     },
     "execution_count": 78,
     "metadata": {},
     "output_type": "execute_result"
    }
   ],
   "source": [
    "new_events = events_test.query(\"user_id == 1038215\")\n",
    "new_events.shape"
   ]
  },
  {
   "cell_type": "code",
   "execution_count": 79,
   "id": "dcc238d4-2083-4d6a-bf66-a2f1a33a6019",
   "metadata": {},
   "outputs": [
    {
     "name": "stdout",
     "output_type": "stream",
     "text": [
      "user_id: 1038215\n",
      "История (последние события, recent)\n"
     ]
    },
    {
     "data": {
      "text/html": [
       "<div>\n",
       "<style scoped>\n",
       "    .dataframe tbody tr th:only-of-type {\n",
       "        vertical-align: middle;\n",
       "    }\n",
       "\n",
       "    .dataframe tbody tr th {\n",
       "        vertical-align: top;\n",
       "    }\n",
       "\n",
       "    .dataframe thead th {\n",
       "        text-align: right;\n",
       "    }\n",
       "</style>\n",
       "<table border=\"1\" class=\"dataframe\">\n",
       "  <thead>\n",
       "    <tr style=\"text-align: right;\">\n",
       "      <th></th>\n",
       "      <th>author</th>\n",
       "      <th>title</th>\n",
       "      <th>started_at</th>\n",
       "      <th>read_at</th>\n",
       "      <th>rating</th>\n",
       "      <th>genre_and_votes</th>\n",
       "    </tr>\n",
       "  </thead>\n",
       "  <tbody>\n",
       "    <tr>\n",
       "      <th>0</th>\n",
       "      <td>Lisa Jackson</td>\n",
       "      <td>Cold Blooded (New Orleans #2)</td>\n",
       "      <td>2017-07-31</td>\n",
       "      <td>2017-08-04</td>\n",
       "      <td>4</td>\n",
       "      <td>{'Mystery': 90, 'Romance-Romantic Suspense': 6...</td>\n",
       "    </tr>\n",
       "    <tr>\n",
       "      <th>1</th>\n",
       "      <td>Alanea Alder</td>\n",
       "      <td>My Commander (Bewitched and Bewildered, #1)</td>\n",
       "      <td>2017-07-31</td>\n",
       "      <td>2017-09-20</td>\n",
       "      <td>4</td>\n",
       "      <td>{'Romance-Paranormal Romance': 167, 'Paranorma...</td>\n",
       "    </tr>\n",
       "    <tr>\n",
       "      <th>2</th>\n",
       "      <td>Edith Wharton</td>\n",
       "      <td>Ethan Frome</td>\n",
       "      <td>2017-07-18</td>\n",
       "      <td>2017-09-07</td>\n",
       "      <td>3</td>\n",
       "      <td>{'Classics': 3825, 'Fiction': 1909, 'Literatur...</td>\n",
       "    </tr>\n",
       "    <tr>\n",
       "      <th>3</th>\n",
       "      <td>Karina Halle</td>\n",
       "      <td>Dead Sky Morning (Experiment in Terror, #3)</td>\n",
       "      <td>2017-07-13</td>\n",
       "      <td>2017-07-18</td>\n",
       "      <td>4</td>\n",
       "      <td>{'Fantasy-Paranormal': 278, 'Horror': 226, 'Pa...</td>\n",
       "    </tr>\n",
       "    <tr>\n",
       "      <th>4</th>\n",
       "      <td>Sarah Brianne</td>\n",
       "      <td>Nero (Made Men, #1)</td>\n",
       "      <td>2017-07-15</td>\n",
       "      <td>2017-08-29</td>\n",
       "      <td>4</td>\n",
       "      <td>{'Romance': 311, 'New Adult': 291, 'Sociology-...</td>\n",
       "    </tr>\n",
       "    <tr>\n",
       "      <th>...</th>\n",
       "      <td>...</td>\n",
       "      <td>...</td>\n",
       "      <td>...</td>\n",
       "      <td>...</td>\n",
       "      <td>...</td>\n",
       "      <td>...</td>\n",
       "    </tr>\n",
       "    <tr>\n",
       "      <th>3135</th>\n",
       "      <td>Trevor Shane</td>\n",
       "      <td>Children of Paranoia (Children of Paranoia, #1)</td>\n",
       "      <td>2017-10-02</td>\n",
       "      <td>2017-10-07</td>\n",
       "      <td>3</td>\n",
       "      <td>{'Thriller': 27, 'Fiction': 23, 'Science Ficti...</td>\n",
       "    </tr>\n",
       "    <tr>\n",
       "      <th>3136</th>\n",
       "      <td>Sherwood Smith</td>\n",
       "      <td>Crown Duel (Crown &amp; Court, #1)</td>\n",
       "      <td>2017-10-17</td>\n",
       "      <td>2017-10-19</td>\n",
       "      <td>3</td>\n",
       "      <td>{'Fantasy': 706, 'Young Adult': 275, 'Romance'...</td>\n",
       "    </tr>\n",
       "    <tr>\n",
       "      <th>3137</th>\n",
       "      <td>Denise Hunter</td>\n",
       "      <td>Surrender Bay (Nantucket, #1)</td>\n",
       "      <td>2017-08-11</td>\n",
       "      <td>2017-08-13</td>\n",
       "      <td>3</td>\n",
       "      <td>{'Christian Fiction': 77, 'Romance': 71, 'Chri...</td>\n",
       "    </tr>\n",
       "    <tr>\n",
       "      <th>3138</th>\n",
       "      <td>Candice Millard</td>\n",
       "      <td>Destiny of the Republic: A Tale of Madness, Me...</td>\n",
       "      <td>2017-09-06</td>\n",
       "      <td>2017-09-07</td>\n",
       "      <td>3</td>\n",
       "      <td>{'History': 2171, 'Nonfiction': 1374, 'Biograp...</td>\n",
       "    </tr>\n",
       "    <tr>\n",
       "      <th>3139</th>\n",
       "      <td>Linda Howard, Abby Crayden</td>\n",
       "      <td>Prey</td>\n",
       "      <td>2017-08-09</td>\n",
       "      <td>2017-08-11</td>\n",
       "      <td>3</td>\n",
       "      <td>{'Romance': 193, 'Romance-Romantic Suspense': ...</td>\n",
       "    </tr>\n",
       "  </tbody>\n",
       "</table>\n",
       "<p>3140 rows × 6 columns</p>\n",
       "</div>"
      ],
      "text/plain": [
       "                          author  \\\n",
       "0                   Lisa Jackson   \n",
       "1                   Alanea Alder   \n",
       "2                  Edith Wharton   \n",
       "3                   Karina Halle   \n",
       "4                  Sarah Brianne   \n",
       "...                          ...   \n",
       "3135                Trevor Shane   \n",
       "3136              Sherwood Smith   \n",
       "3137               Denise Hunter   \n",
       "3138             Candice Millard   \n",
       "3139  Linda Howard, Abby Crayden   \n",
       "\n",
       "                                                  title started_at    read_at  \\\n",
       "0                         Cold Blooded (New Orleans #2) 2017-07-31 2017-08-04   \n",
       "1           My Commander (Bewitched and Bewildered, #1) 2017-07-31 2017-09-20   \n",
       "2                                           Ethan Frome 2017-07-18 2017-09-07   \n",
       "3           Dead Sky Morning (Experiment in Terror, #3) 2017-07-13 2017-07-18   \n",
       "4                                   Nero (Made Men, #1) 2017-07-15 2017-08-29   \n",
       "...                                                 ...        ...        ...   \n",
       "3135    Children of Paranoia (Children of Paranoia, #1) 2017-10-02 2017-10-07   \n",
       "3136                     Crown Duel (Crown & Court, #1) 2017-10-17 2017-10-19   \n",
       "3137                      Surrender Bay (Nantucket, #1) 2017-08-11 2017-08-13   \n",
       "3138  Destiny of the Republic: A Tale of Madness, Me... 2017-09-06 2017-09-07   \n",
       "3139                                               Prey 2017-08-09 2017-08-11   \n",
       "\n",
       "      rating                                    genre_and_votes  \n",
       "0          4  {'Mystery': 90, 'Romance-Romantic Suspense': 6...  \n",
       "1          4  {'Romance-Paranormal Romance': 167, 'Paranorma...  \n",
       "2          3  {'Classics': 3825, 'Fiction': 1909, 'Literatur...  \n",
       "3          4  {'Fantasy-Paranormal': 278, 'Horror': 226, 'Pa...  \n",
       "4          4  {'Romance': 311, 'New Adult': 291, 'Sociology-...  \n",
       "...      ...                                                ...  \n",
       "3135       3  {'Thriller': 27, 'Fiction': 23, 'Science Ficti...  \n",
       "3136       3  {'Fantasy': 706, 'Young Adult': 275, 'Romance'...  \n",
       "3137       3  {'Christian Fiction': 77, 'Romance': 71, 'Chri...  \n",
       "3138       3  {'History': 2171, 'Nonfiction': 1374, 'Biograp...  \n",
       "3139       3  {'Romance': 193, 'Romance-Romantic Suspense': ...  \n",
       "\n",
       "[3140 rows x 6 columns]"
      ]
     },
     "metadata": {},
     "output_type": "display_data"
    },
    {
     "name": "stdout",
     "output_type": "stream",
     "text": [
      "Рекомендации\n"
     ]
    },
    {
     "data": {
      "text/html": [
       "<div>\n",
       "<style scoped>\n",
       "    .dataframe tbody tr th:only-of-type {\n",
       "        vertical-align: middle;\n",
       "    }\n",
       "\n",
       "    .dataframe tbody tr th {\n",
       "        vertical-align: top;\n",
       "    }\n",
       "\n",
       "    .dataframe thead th {\n",
       "        text-align: right;\n",
       "    }\n",
       "</style>\n",
       "<table border=\"1\" class=\"dataframe\">\n",
       "  <thead>\n",
       "    <tr style=\"text-align: right;\">\n",
       "      <th></th>\n",
       "      <th>item_id</th>\n",
       "      <th>score</th>\n",
       "      <th>author</th>\n",
       "      <th>title</th>\n",
       "      <th>genre_and_votes</th>\n",
       "    </tr>\n",
       "  </thead>\n",
       "  <tbody>\n",
       "    <tr>\n",
       "      <th>0</th>\n",
       "      <td>24812</td>\n",
       "      <td>4.696844</td>\n",
       "      <td>Bill Watterson</td>\n",
       "      <td>The Complete Calvin and Hobbes</td>\n",
       "      <td>{'Sequential Art-Comics': 867, 'Humor': 378, '...</td>\n",
       "    </tr>\n",
       "    <tr>\n",
       "      <th>1</th>\n",
       "      <td>33353628</td>\n",
       "      <td>4.650112</td>\n",
       "      <td>Pénélope Bagieu</td>\n",
       "      <td>Culottées #2 (Culottées, #2)</td>\n",
       "      <td>{'Sequential Art-Bande DessinÃ©e': 108, 'Femin...</td>\n",
       "    </tr>\n",
       "    <tr>\n",
       "      <th>2</th>\n",
       "      <td>11221285</td>\n",
       "      <td>4.622302</td>\n",
       "      <td>Brandon Sanderson</td>\n",
       "      <td>The Way of Kings, Part 2 (The Stormlight Archi...</td>\n",
       "      <td>{'Fantasy': 641, 'Fiction': 46, 'Fantasy-Epic ...</td>\n",
       "    </tr>\n",
       "    <tr>\n",
       "      <th>3</th>\n",
       "      <td>22037424</td>\n",
       "      <td>4.608802</td>\n",
       "      <td>J.K. Rowling, Jonny Duddle, Tomislav Tomić</td>\n",
       "      <td>Harry Potter and the Prisoner of Azkaban (Harr...</td>\n",
       "      <td>{'Fantasy': 49994, 'Young Adult': 15433, 'Fict...</td>\n",
       "    </tr>\n",
       "    <tr>\n",
       "      <th>4</th>\n",
       "      <td>77730</td>\n",
       "      <td>4.606669</td>\n",
       "      <td>Bill Watterson</td>\n",
       "      <td>Weirdos from Another Planet!: A Calvin and Hob...</td>\n",
       "      <td>{'Sequential Art-Comics': 656, 'Humor': 300, '...</td>\n",
       "    </tr>\n",
       "  </tbody>\n",
       "</table>\n",
       "</div>"
      ],
      "text/plain": [
       "    item_id     score                                      author  \\\n",
       "0     24812  4.696844                              Bill Watterson   \n",
       "1  33353628  4.650112                             Pénélope Bagieu   \n",
       "2  11221285  4.622302                           Brandon Sanderson   \n",
       "3  22037424  4.608802  J.K. Rowling, Jonny Duddle, Tomislav Tomić   \n",
       "4     77730  4.606669                              Bill Watterson   \n",
       "\n",
       "                                               title  \\\n",
       "0                     The Complete Calvin and Hobbes   \n",
       "1                       Culottées #2 (Culottées, #2)   \n",
       "2  The Way of Kings, Part 2 (The Stormlight Archi...   \n",
       "3  Harry Potter and the Prisoner of Azkaban (Harr...   \n",
       "4  Weirdos from Another Planet!: A Calvin and Hob...   \n",
       "\n",
       "                                     genre_and_votes  \n",
       "0  {'Sequential Art-Comics': 867, 'Humor': 378, '...  \n",
       "1  {'Sequential Art-Bande DessinÃ©e': 108, 'Femin...  \n",
       "2  {'Fantasy': 641, 'Fiction': 46, 'Fantasy-Epic ...  \n",
       "3  {'Fantasy': 49994, 'Young Adult': 15433, 'Fict...  \n",
       "4  {'Sequential Art-Comics': 656, 'Humor': 300, '...  "
      ]
     },
     "metadata": {},
     "output_type": "display_data"
    }
   ],
   "source": [
    "# выберем произвольного пользователя из тренировочной выборки (\"прошлого\")\n",
    "user_id = 1038215\n",
    "\n",
    "print(f\"user_id: {user_id}\")\n",
    "\n",
    "print(\"История (последние события, recent)\")\n",
    "user_history = (\n",
    "    pd.concat([events_train, new_events])\n",
    "    .query(\"user_id == @user_id\")\n",
    "    .merge(\n",
    "        items.set_index(\"item_id\")[[\"author\", \"title\", \"genre_and_votes\"]],\n",
    "        on=\"item_id\"\n",
    "    )\n",
    ")\n",
    "user_history_to_print = user_history[\n",
    "    [\"author\", \"title\", \"started_at\", \"read_at\", \"rating\", \"genre_and_votes\"]\n",
    "]#.sample(10)\n",
    "display(user_history_to_print)\n",
    "\n",
    "print(\"Рекомендации\")\n",
    "user_recommendations = get_recommendations_svd(user_id, items, pd.concat([events_train, new_events]), svd_model)\n",
    "user_recommendations = user_recommendations.merge(\n",
    "    items[[\"item_id\", \"author\", \"title\", \"genre_and_votes\"]],\n",
    "    on=\"item_id\"\n",
    ")\n",
    "display(user_recommendations)"
   ]
  },
  {
   "cell_type": "markdown",
   "id": "8d2c66e3-e67c-4730-9d92-de4812a15e00",
   "metadata": {},
   "source": [
    "# Коллаборативная фильтрация: ALS"
   ]
  },
  {
   "cell_type": "markdown",
   "id": "b67a618f-275e-4658-8e4f-7beebce79c3b",
   "metadata": {},
   "source": [
    "Ниже приведён код для перекодировки идентификаторов. Дополните его для перекодировки идентификаторов объектов, а затем выполните."
   ]
  },
  {
   "cell_type": "code",
   "execution_count": 80,
   "id": "0079f83c-1106-4b3a-930f-f0acf3ef2051",
   "metadata": {
    "scrolled": true
   },
   "outputs": [
    {
     "name": "stderr",
     "output_type": "stream",
     "text": [
      "/tmp/ipykernel_1494/2133160758.py:8: SettingWithCopyWarning: \n",
      "A value is trying to be set on a copy of a slice from a DataFrame.\n",
      "Try using .loc[row_indexer,col_indexer] = value instead\n",
      "\n",
      "See the caveats in the documentation: https://pandas.pydata.org/pandas-docs/stable/user_guide/indexing.html#returning-a-view-versus-a-copy\n",
      "  events_train[\"user_id_enc\"] = user_encoder.transform(events_train[\"user_id\"])\n",
      "/tmp/ipykernel_1494/2133160758.py:9: SettingWithCopyWarning: \n",
      "A value is trying to be set on a copy of a slice from a DataFrame.\n",
      "Try using .loc[row_indexer,col_indexer] = value instead\n",
      "\n",
      "See the caveats in the documentation: https://pandas.pydata.org/pandas-docs/stable/user_guide/indexing.html#returning-a-view-versus-a-copy\n",
      "  events_test[\"user_id_enc\"] =  user_encoder.transform(events_test[\"user_id\"])\n",
      "/tmp/ipykernel_1494/2133160758.py:16: SettingWithCopyWarning: \n",
      "A value is trying to be set on a copy of a slice from a DataFrame.\n",
      "Try using .loc[row_indexer,col_indexer] = value instead\n",
      "\n",
      "See the caveats in the documentation: https://pandas.pydata.org/pandas-docs/stable/user_guide/indexing.html#returning-a-view-versus-a-copy\n",
      "  events_train[\"item_id_enc\"] = item_encoder.transform(events_train[\"item_id\"]) # ваш код здесь #\n",
      "/tmp/ipykernel_1494/2133160758.py:17: SettingWithCopyWarning: \n",
      "A value is trying to be set on a copy of a slice from a DataFrame.\n",
      "Try using .loc[row_indexer,col_indexer] = value instead\n",
      "\n",
      "See the caveats in the documentation: https://pandas.pydata.org/pandas-docs/stable/user_guide/indexing.html#returning-a-view-versus-a-copy\n",
      "  events_test[\"item_id_enc\"] =  item_encoder.transform(events_test[\"item_id\"]) # ваш код здесь #\n"
     ]
    }
   ],
   "source": [
    "import scipy\n",
    "import sklearn.preprocessing\n",
    "\n",
    "# перекодируем идентификаторы пользователей: \n",
    "# из имеющихся в последовательность 0, 1, 2, ...\n",
    "user_encoder = sklearn.preprocessing.LabelEncoder()\n",
    "user_encoder.fit(events[\"user_id\"])\n",
    "events_train[\"user_id_enc\"] = user_encoder.transform(events_train[\"user_id\"])\n",
    "events_test[\"user_id_enc\"] =  user_encoder.transform(events_test[\"user_id\"])\n",
    "\n",
    "# перекодируем идентификаторы объектов: \n",
    "# из имеющихся в последовательность 0, 1, 2, ...\n",
    "item_encoder = sklearn.preprocessing.LabelEncoder()\n",
    "item_encoder.fit(items[\"item_id\"])\n",
    "items[\"item_id_enc\"] =        item_encoder.transform(items[\"item_id\"])\n",
    "events_train[\"item_id_enc\"] = item_encoder.transform(events_train[\"item_id\"]) # ваш код здесь #\n",
    "events_test[\"item_id_enc\"] =  item_encoder.transform(events_test[\"item_id\"]) # ваш код здесь #"
   ]
  },
  {
   "cell_type": "code",
   "execution_count": 81,
   "id": "faa7b0e1-4bc3-4c1f-b1d2-a50f05217760",
   "metadata": {},
   "outputs": [
    {
     "data": {
      "text/plain": [
       "43304"
      ]
     },
     "execution_count": 81,
     "metadata": {},
     "output_type": "execute_result"
    }
   ],
   "source": [
    "events_train['item_id_enc'].max()"
   ]
  },
  {
   "cell_type": "markdown",
   "id": "c7874a4d-1ac8-464c-87da-682033f11d0e",
   "metadata": {},
   "source": [
    "Вычислите размер матрицы user_item_matrix_train, как если бы она хранила все свои элементы, включая пропуски, и для каждого элемента использовался бы один байт. Ответ приведите в виде целого числа гигабайтов, отбросив дробную часть."
   ]
  },
  {
   "cell_type": "code",
   "execution_count": 82,
   "id": "e79cd61c-2f9e-46d6-b6ae-3d1b6a1dbdc3",
   "metadata": {},
   "outputs": [
    {
     "data": {
      "text/plain": [
       "17"
      ]
     },
     "execution_count": 82,
     "metadata": {},
     "output_type": "execute_result"
    }
   ],
   "source": [
    "round(\n",
    "    (events_train.user_id.nunique() * events_train.item_id.nunique()) /\n",
    "    (1024 ** 3)\n",
    ")"
   ]
  },
  {
   "cell_type": "markdown",
   "id": "4e53448b-850d-4e26-bac2-c944b3ffd0a1",
   "metadata": {},
   "source": [
    "Матрица взаимодействий — сильно разреженная, и можно хранить её эффективнее. Рассматриваемая реализация ALS работает с numpy-матрицами, поэтому её можно создать с помощью методов numpy. Мы создадим sparse-матрицу в формате CSR. Такая матрица хранит только имеющиеся значения и не резервирует память под пропуски. Это помогает значительно сэкономить оперативную память при работе с разреженными матрицами.\n",
    "\n",
    "Выполните код ниже."
   ]
  },
  {
   "cell_type": "code",
   "execution_count": 83,
   "id": "bbe07351-fa21-4c58-aec9-97c93841aa04",
   "metadata": {},
   "outputs": [],
   "source": [
    "# создаём sparse-матрицу формата CSR \n",
    "user_item_matrix_train = scipy.sparse.csr_matrix((\n",
    "    events_train[\"rating\"],\n",
    "    (events_train['user_id_enc'], events_train['item_id_enc'])),\n",
    "    dtype=np.int8)"
   ]
  },
  {
   "cell_type": "code",
   "execution_count": 84,
   "id": "78069831-3ebe-4612-8588-8318377bf96e",
   "metadata": {},
   "outputs": [
    {
     "data": {
      "text/plain": [
       "<430585x43305 sparse matrix of type '<class 'numpy.int8'>'\n",
       "\twith 11326124 stored elements in Compressed Sparse Row format>"
      ]
     },
     "execution_count": 84,
     "metadata": {},
     "output_type": "execute_result"
    }
   ],
   "source": [
    "user_item_matrix_train"
   ]
  },
  {
   "cell_type": "markdown",
   "id": "6d3cc232-1d52-4292-8398-201958123a1d",
   "metadata": {},
   "source": [
    "sparse-формат numpy-матриц позволяет сильно уменьшить требование к размеру памяти. Можно самостоятельно посчитать и сравнить, используя код ниже:"
   ]
  },
  {
   "cell_type": "code",
   "execution_count": 85,
   "id": "5d4f7f38-2d8f-41e1-976c-5c5477abe7ac",
   "metadata": {},
   "outputs": [
    {
     "data": {
      "text/plain": [
       "0.26370687410235405"
      ]
     },
     "execution_count": 85,
     "metadata": {},
     "output_type": "execute_result"
    }
   ],
   "source": [
    "import sys\n",
    "\n",
    "sum([sys.getsizeof(i) for i in user_item_matrix_train.data]) / 1024**3 "
   ]
  },
  {
   "cell_type": "markdown",
   "id": "db2af67a-e35f-40bb-bf98-6ec68c6a7674",
   "metadata": {},
   "source": [
    "Имея подготовленную матрицу взаимодействий, перейдём к третьему шагу — создадим ALS-модель. Для примера возьмём количество латентных факторов для матриц $P, Q$, равным 50. \n",
    "\n",
    "Выполните код для создания и тренировки модели."
   ]
  },
  {
   "cell_type": "code",
   "execution_count": 86,
   "id": "7cf17a9a-1043-41ff-bd2e-63fa05b6dbbf",
   "metadata": {},
   "outputs": [
    {
     "name": "stderr",
     "output_type": "stream",
     "text": [
      "/home/mle-user/mle_projects/mle-recsys-start/venv/lib/python3.10/site-packages/implicit/cpu/als.py:95: RuntimeWarning: OpenBLAS is configured to use 4 threads. It is highly recommended to disable its internal threadpool by setting the environment variable 'OPENBLAS_NUM_THREADS=1' or by calling 'threadpoolctl.threadpool_limits(1, \"blas\")'. Having OpenBLAS use a threadpool can lead to severe performance issues here.\n",
      "  check_blas_config()\n"
     ]
    },
    {
     "data": {
      "application/vnd.jupyter.widget-view+json": {
       "model_id": "1d9a37e34dae4bd2a66a5ff52ebe8e42",
       "version_major": 2,
       "version_minor": 0
      },
      "text/plain": [
       "  0%|          | 0/50 [00:00<?, ?it/s]"
      ]
     },
     "metadata": {},
     "output_type": "display_data"
    }
   ],
   "source": [
    "from implicit.als import AlternatingLeastSquares\n",
    "\n",
    "als_model = AlternatingLeastSquares(\n",
    "    factors=50, iterations=50,\n",
    "    regularization=0.05, random_state=0\n",
    ")\n",
    "als_model.fit(user_item_matrix_train)"
   ]
  },
  {
   "cell_type": "markdown",
   "id": "1c1bc9a2-decc-450b-9a83-5928abd4deb9",
   "metadata": {},
   "source": [
    "Чтобы получить рекомендации для пользователя с помощью модели ALS, используем такую функцию:"
   ]
  },
  {
   "cell_type": "code",
   "execution_count": 87,
   "id": "dac4b53e-0c54-4fca-90e8-addd2b9efae9",
   "metadata": {},
   "outputs": [],
   "source": [
    "def get_recommendations_als(\n",
    "    user_item_matrix,\n",
    "    model,\n",
    "    user_id,\n",
    "    user_encoder,\n",
    "    item_encoder,\n",
    "    include_seen=True,\n",
    "    n=5\n",
    "):\n",
    "    \"\"\"\n",
    "    Возвращает отранжированные рекомендации для заданного пользователя\n",
    "    \"\"\"\n",
    "    user_id_enc = user_encoder.transform([user_id])[0]\n",
    "    recommendations = model.recommend(\n",
    "         user_id_enc, \n",
    "         user_item_matrix[user_id_enc], \n",
    "         filter_already_liked_items=not include_seen,\n",
    "         N=n)\n",
    "    recommendations = pd.DataFrame(\n",
    "        {\"item_id_enc\": recommendations[0], \"score\": recommendations[1]}\n",
    "    )\n",
    "    recommendations[\"item_id\"] = item_encoder.inverse_transform(\n",
    "        recommendations[\"item_id_enc\"])\n",
    "    \n",
    "    return recommendations"
   ]
  },
  {
   "cell_type": "code",
   "execution_count": 88,
   "id": "e934cb60-ba81-4072-8939-b7fe262a7697",
   "metadata": {},
   "outputs": [],
   "source": [
    "user_id = 1038215\n",
    "res = get_recommendations_als(\n",
    "    user_item_matrix_train,\n",
    "    als_model,\n",
    "    user_id,\n",
    "    user_encoder,\n",
    "    item_encoder,\n",
    "    include_seen=False,\n",
    "    n=10000000\n",
    ")"
   ]
  },
  {
   "cell_type": "code",
   "execution_count": 89,
   "id": "5c9d0c25-d28f-4667-9650-f66baf398db6",
   "metadata": {},
   "outputs": [
    {
     "data": {
      "text/html": [
       "<div>\n",
       "<style scoped>\n",
       "    .dataframe tbody tr th:only-of-type {\n",
       "        vertical-align: middle;\n",
       "    }\n",
       "\n",
       "    .dataframe tbody tr th {\n",
       "        vertical-align: top;\n",
       "    }\n",
       "\n",
       "    .dataframe thead th {\n",
       "        text-align: right;\n",
       "    }\n",
       "</style>\n",
       "<table border=\"1\" class=\"dataframe\">\n",
       "  <thead>\n",
       "    <tr style=\"text-align: right;\">\n",
       "      <th></th>\n",
       "      <th>user_id</th>\n",
       "      <th>item_id</th>\n",
       "      <th>started_at</th>\n",
       "      <th>read_at</th>\n",
       "      <th>is_read</th>\n",
       "      <th>rating</th>\n",
       "      <th>is_reviewed</th>\n",
       "      <th>started_at_month</th>\n",
       "      <th>user_id_enc</th>\n",
       "      <th>item_id_enc</th>\n",
       "    </tr>\n",
       "  </thead>\n",
       "  <tbody>\n",
       "    <tr>\n",
       "      <th>9912475</th>\n",
       "      <td>1038215</td>\n",
       "      <td>228117</td>\n",
       "      <td>2017-07-31</td>\n",
       "      <td>2017-08-04</td>\n",
       "      <td>True</td>\n",
       "      <td>4</td>\n",
       "      <td>False</td>\n",
       "      <td>2017-07-01</td>\n",
       "      <td>38215</td>\n",
       "      <td>10318</td>\n",
       "    </tr>\n",
       "    <tr>\n",
       "      <th>9912476</th>\n",
       "      <td>1038215</td>\n",
       "      <td>22873996</td>\n",
       "      <td>2017-07-31</td>\n",
       "      <td>2017-09-20</td>\n",
       "      <td>True</td>\n",
       "      <td>4</td>\n",
       "      <td>False</td>\n",
       "      <td>2017-07-01</td>\n",
       "      <td>38215</td>\n",
       "      <td>39182</td>\n",
       "    </tr>\n",
       "    <tr>\n",
       "      <th>9912477</th>\n",
       "      <td>1038215</td>\n",
       "      <td>5246</td>\n",
       "      <td>2017-07-18</td>\n",
       "      <td>2017-09-07</td>\n",
       "      <td>True</td>\n",
       "      <td>3</td>\n",
       "      <td>False</td>\n",
       "      <td>2017-07-01</td>\n",
       "      <td>38215</td>\n",
       "      <td>593</td>\n",
       "    </tr>\n",
       "    <tr>\n",
       "      <th>9912478</th>\n",
       "      <td>1038215</td>\n",
       "      <td>12322385</td>\n",
       "      <td>2017-07-13</td>\n",
       "      <td>2017-07-18</td>\n",
       "      <td>True</td>\n",
       "      <td>4</td>\n",
       "      <td>False</td>\n",
       "      <td>2017-07-01</td>\n",
       "      <td>38215</td>\n",
       "      <td>30278</td>\n",
       "    </tr>\n",
       "    <tr>\n",
       "      <th>9912479</th>\n",
       "      <td>1038215</td>\n",
       "      <td>22494969</td>\n",
       "      <td>2017-07-15</td>\n",
       "      <td>2017-08-29</td>\n",
       "      <td>True</td>\n",
       "      <td>4</td>\n",
       "      <td>False</td>\n",
       "      <td>2017-07-01</td>\n",
       "      <td>38215</td>\n",
       "      <td>38812</td>\n",
       "    </tr>\n",
       "    <tr>\n",
       "      <th>...</th>\n",
       "      <td>...</td>\n",
       "      <td>...</td>\n",
       "      <td>...</td>\n",
       "      <td>...</td>\n",
       "      <td>...</td>\n",
       "      <td>...</td>\n",
       "      <td>...</td>\n",
       "      <td>...</td>\n",
       "      <td>...</td>\n",
       "      <td>...</td>\n",
       "    </tr>\n",
       "    <tr>\n",
       "      <th>9915636</th>\n",
       "      <td>1038215</td>\n",
       "      <td>9361589</td>\n",
       "      <td>2014-01-02</td>\n",
       "      <td>2014-01-30</td>\n",
       "      <td>True</td>\n",
       "      <td>4</td>\n",
       "      <td>False</td>\n",
       "      <td>2014-01-01</td>\n",
       "      <td>38215</td>\n",
       "      <td>27575</td>\n",
       "    </tr>\n",
       "    <tr>\n",
       "      <th>9915637</th>\n",
       "      <td>1038215</td>\n",
       "      <td>487445</td>\n",
       "      <td>2016-05-13</td>\n",
       "      <td>2016-05-23</td>\n",
       "      <td>True</td>\n",
       "      <td>4</td>\n",
       "      <td>False</td>\n",
       "      <td>2016-05-01</td>\n",
       "      <td>38215</td>\n",
       "      <td>13852</td>\n",
       "    </tr>\n",
       "    <tr>\n",
       "      <th>9915638</th>\n",
       "      <td>1038215</td>\n",
       "      <td>6718608</td>\n",
       "      <td>2016-07-14</td>\n",
       "      <td>2016-07-23</td>\n",
       "      <td>True</td>\n",
       "      <td>3</td>\n",
       "      <td>False</td>\n",
       "      <td>2016-07-01</td>\n",
       "      <td>38215</td>\n",
       "      <td>24671</td>\n",
       "    </tr>\n",
       "    <tr>\n",
       "      <th>9915641</th>\n",
       "      <td>1038215</td>\n",
       "      <td>550821</td>\n",
       "      <td>2016-01-21</td>\n",
       "      <td>2016-02-17</td>\n",
       "      <td>True</td>\n",
       "      <td>3</td>\n",
       "      <td>False</td>\n",
       "      <td>2016-01-01</td>\n",
       "      <td>38215</td>\n",
       "      <td>14394</td>\n",
       "    </tr>\n",
       "    <tr>\n",
       "      <th>9915642</th>\n",
       "      <td>1038215</td>\n",
       "      <td>266346</td>\n",
       "      <td>2015-02-16</td>\n",
       "      <td>2015-02-18</td>\n",
       "      <td>True</td>\n",
       "      <td>3</td>\n",
       "      <td>False</td>\n",
       "      <td>2015-02-01</td>\n",
       "      <td>38215</td>\n",
       "      <td>11018</td>\n",
       "    </tr>\n",
       "  </tbody>\n",
       "</table>\n",
       "<p>2999 rows × 10 columns</p>\n",
       "</div>"
      ],
      "text/plain": [
       "         user_id   item_id started_at    read_at  is_read  rating  \\\n",
       "9912475  1038215    228117 2017-07-31 2017-08-04     True       4   \n",
       "9912476  1038215  22873996 2017-07-31 2017-09-20     True       4   \n",
       "9912477  1038215      5246 2017-07-18 2017-09-07     True       3   \n",
       "9912478  1038215  12322385 2017-07-13 2017-07-18     True       4   \n",
       "9912479  1038215  22494969 2017-07-15 2017-08-29     True       4   \n",
       "...          ...       ...        ...        ...      ...     ...   \n",
       "9915636  1038215   9361589 2014-01-02 2014-01-30     True       4   \n",
       "9915637  1038215    487445 2016-05-13 2016-05-23     True       4   \n",
       "9915638  1038215   6718608 2016-07-14 2016-07-23     True       3   \n",
       "9915641  1038215    550821 2016-01-21 2016-02-17     True       3   \n",
       "9915642  1038215    266346 2015-02-16 2015-02-18     True       3   \n",
       "\n",
       "         is_reviewed started_at_month  user_id_enc  item_id_enc  \n",
       "9912475        False       2017-07-01        38215        10318  \n",
       "9912476        False       2017-07-01        38215        39182  \n",
       "9912477        False       2017-07-01        38215          593  \n",
       "9912478        False       2017-07-01        38215        30278  \n",
       "9912479        False       2017-07-01        38215        38812  \n",
       "...              ...              ...          ...          ...  \n",
       "9915636        False       2014-01-01        38215        27575  \n",
       "9915637        False       2016-05-01        38215        13852  \n",
       "9915638        False       2016-07-01        38215        24671  \n",
       "9915641        False       2016-01-01        38215        14394  \n",
       "9915642        False       2015-02-01        38215        11018  \n",
       "\n",
       "[2999 rows x 10 columns]"
      ]
     },
     "execution_count": 89,
     "metadata": {},
     "output_type": "execute_result"
    }
   ],
   "source": [
    "events_train.query('user_id == 1038215')"
   ]
  },
  {
   "cell_type": "code",
   "execution_count": 90,
   "id": "af36cc03-cef9-4c48-be18-90e6ae2ff7f4",
   "metadata": {},
   "outputs": [
    {
     "data": {
      "text/html": [
       "<div>\n",
       "<style scoped>\n",
       "    .dataframe tbody tr th:only-of-type {\n",
       "        vertical-align: middle;\n",
       "    }\n",
       "\n",
       "    .dataframe tbody tr th {\n",
       "        vertical-align: top;\n",
       "    }\n",
       "\n",
       "    .dataframe thead th {\n",
       "        text-align: right;\n",
       "    }\n",
       "</style>\n",
       "<table border=\"1\" class=\"dataframe\">\n",
       "  <thead>\n",
       "    <tr style=\"text-align: right;\">\n",
       "      <th></th>\n",
       "      <th>item_id_enc</th>\n",
       "      <th>score</th>\n",
       "      <th>item_id</th>\n",
       "    </tr>\n",
       "  </thead>\n",
       "  <tbody>\n",
       "    <tr>\n",
       "      <th>42392</th>\n",
       "      <td>10318</td>\n",
       "      <td>-3.402823e+38</td>\n",
       "      <td>228117</td>\n",
       "    </tr>\n",
       "  </tbody>\n",
       "</table>\n",
       "</div>"
      ],
      "text/plain": [
       "       item_id_enc         score  item_id\n",
       "42392        10318 -3.402823e+38   228117"
      ]
     },
     "execution_count": 90,
     "metadata": {},
     "output_type": "execute_result"
    }
   ],
   "source": [
    "res.query('item_id == 228117')"
   ]
  },
  {
   "cell_type": "markdown",
   "id": "828ee054-1023-4e5f-a37a-9bce27187174",
   "metadata": {},
   "source": [
    "# Факультативное задание"
   ]
  },
  {
   "cell_type": "markdown",
   "id": "9e01d303-13b9-46f5-888b-5a6494e01436",
   "metadata": {},
   "source": [
    "Используя get_recommendations_als, напишите код, который позволит для случайного пользователя просмотреть рекомендации в удобном формате: \n",
    "- история с именами авторов и названием книг,\n",
    "- рекомендации с именами авторов и названием книг, seen-признаком (взаимодействовал ли уже пользователь с рекомендованной книгой).\n",
    "\n",
    "Проанализируйте, релевантны ли рекомендации имеющейся истории."
   ]
  },
  {
   "cell_type": "code",
   "execution_count": 91,
   "id": "c2bac2f8-e0fd-455d-b84a-7367ca5e2f11",
   "metadata": {},
   "outputs": [],
   "source": [
    "def get_recommendations_als(\n",
    "    user_item_matrix,\n",
    "    model,\n",
    "    user_id,\n",
    "    user_encoder,\n",
    "    item_encoder,\n",
    "    include_seen=True,\n",
    "    n=5\n",
    "):\n",
    "    \"\"\"\n",
    "    Возвращает отранжированные рекомендации для заданного пользователя\n",
    "    \"\"\"\n",
    "    user_id_enc = user_encoder.transform([user_id])[0]\n",
    "    recommendations = model.recommend(\n",
    "         user_id_enc, \n",
    "         user_item_matrix[user_id_enc], \n",
    "         filter_already_liked_items=not include_seen,\n",
    "         N=n)\n",
    "    recommendations = pd.DataFrame(\n",
    "        {\"item_id_enc\": recommendations[0], \"score\": recommendations[1]}\n",
    "    )\n",
    "    recommendations[\"item_id\"] = item_encoder.inverse_transform(\n",
    "        recommendations[\"item_id_enc\"])\n",
    "    \n",
    "    return recommendations"
   ]
  },
  {
   "cell_type": "code",
   "execution_count": 92,
   "id": "932d1a0a-4bd0-4f36-97be-39fb0c9a5fc1",
   "metadata": {},
   "outputs": [
    {
     "data": {
      "text/html": [
       "<div>\n",
       "<style scoped>\n",
       "    .dataframe tbody tr th:only-of-type {\n",
       "        vertical-align: middle;\n",
       "    }\n",
       "\n",
       "    .dataframe tbody tr th {\n",
       "        vertical-align: top;\n",
       "    }\n",
       "\n",
       "    .dataframe thead th {\n",
       "        text-align: right;\n",
       "    }\n",
       "</style>\n",
       "<table border=\"1\" class=\"dataframe\">\n",
       "  <thead>\n",
       "    <tr style=\"text-align: right;\">\n",
       "      <th></th>\n",
       "      <th>item_id_enc</th>\n",
       "      <th>score</th>\n",
       "      <th>item_id</th>\n",
       "      <th>author</th>\n",
       "      <th>title</th>\n",
       "      <th>genre_and_votes</th>\n",
       "    </tr>\n",
       "  </thead>\n",
       "  <tbody>\n",
       "    <tr>\n",
       "      <th>0</th>\n",
       "      <td>26926</td>\n",
       "      <td>1.852487</td>\n",
       "      <td>8492825</td>\n",
       "      <td>Gayle Forman</td>\n",
       "      <td>Where She Went (If I Stay, #2)</td>\n",
       "      <td>{'Young Adult': 4079, 'Romance': 2331, 'Contem...</td>\n",
       "    </tr>\n",
       "    <tr>\n",
       "      <th>1</th>\n",
       "      <td>32544</td>\n",
       "      <td>1.826056</td>\n",
       "      <td>14740588</td>\n",
       "      <td>Janet Evanovich</td>\n",
       "      <td>Notorious Nineteen (Stephanie Plum, #19)</td>\n",
       "      <td>{'Mystery': 1162, 'Fiction': 427, 'Humor': 367...</td>\n",
       "    </tr>\n",
       "    <tr>\n",
       "      <th>2</th>\n",
       "      <td>5969</td>\n",
       "      <td>1.822443</td>\n",
       "      <td>78129</td>\n",
       "      <td>Lee Child</td>\n",
       "      <td>Killing Floor (Jack Reacher, #1)</td>\n",
       "      <td>{'Thriller': 2060, 'Fiction': 1873, 'Mystery':...</td>\n",
       "    </tr>\n",
       "    <tr>\n",
       "      <th>3</th>\n",
       "      <td>22228</td>\n",
       "      <td>1.788192</td>\n",
       "      <td>4374400</td>\n",
       "      <td>Gayle Forman</td>\n",
       "      <td>If I Stay (If I Stay, #1)</td>\n",
       "      <td>{'Young Adult': 7947}</td>\n",
       "    </tr>\n",
       "    <tr>\n",
       "      <th>4</th>\n",
       "      <td>40765</td>\n",
       "      <td>1.760902</td>\n",
       "      <td>25644601</td>\n",
       "      <td>E.L. James</td>\n",
       "      <td>Grey (Fifty Shades, #4)</td>\n",
       "      <td>{'Romance': 1289, 'Adult Fiction-Erotica': 541...</td>\n",
       "    </tr>\n",
       "  </tbody>\n",
       "</table>\n",
       "</div>"
      ],
      "text/plain": [
       "   item_id_enc     score   item_id           author  \\\n",
       "0        26926  1.852487   8492825     Gayle Forman   \n",
       "1        32544  1.826056  14740588  Janet Evanovich   \n",
       "2         5969  1.822443     78129        Lee Child   \n",
       "3        22228  1.788192   4374400     Gayle Forman   \n",
       "4        40765  1.760902  25644601       E.L. James   \n",
       "\n",
       "                                      title  \\\n",
       "0            Where She Went (If I Stay, #2)   \n",
       "1  Notorious Nineteen (Stephanie Plum, #19)   \n",
       "2          Killing Floor (Jack Reacher, #1)   \n",
       "3                 If I Stay (If I Stay, #1)   \n",
       "4                   Grey (Fifty Shades, #4)   \n",
       "\n",
       "                                     genre_and_votes  \n",
       "0  {'Young Adult': 4079, 'Romance': 2331, 'Contem...  \n",
       "1  {'Mystery': 1162, 'Fiction': 427, 'Humor': 367...  \n",
       "2  {'Thriller': 2060, 'Fiction': 1873, 'Mystery':...  \n",
       "3                              {'Young Adult': 7947}  \n",
       "4  {'Romance': 1289, 'Adult Fiction-Erotica': 541...  "
      ]
     },
     "execution_count": 92,
     "metadata": {},
     "output_type": "execute_result"
    }
   ],
   "source": [
    "def show_info(\n",
    "    user_item_matrix,\n",
    "    model,\n",
    "    user_id,\n",
    "    user_encoder,\n",
    "    item_encoder,\n",
    "    items,\n",
    "    include_seen=True,\n",
    "    n=5\n",
    "):\n",
    "    info = get_recommendations_als(\n",
    "        user_item_matrix, model, user_id, user_encoder, item_encoder, include_seen=True, n=5\n",
    "    )\n",
    "    return info.merge(\n",
    "        items.set_index(\"item_id\")[[\"author\", \"title\", \"genre_and_votes\"]],\n",
    "        on=\"item_id\"\n",
    "    )\n",
    "\n",
    "show_info(\n",
    "    user_item_matrix_train,\n",
    "    als_model,\n",
    "    user_id,\n",
    "    user_encoder,\n",
    "    item_encoder,\n",
    "    items\n",
    ")"
   ]
  },
  {
   "cell_type": "code",
   "execution_count": 93,
   "id": "8fdcf803-d064-4951-8413-35dbe94a6ede",
   "metadata": {},
   "outputs": [
    {
     "data": {
      "text/html": [
       "<div>\n",
       "<style scoped>\n",
       "    .dataframe tbody tr th:only-of-type {\n",
       "        vertical-align: middle;\n",
       "    }\n",
       "\n",
       "    .dataframe tbody tr th {\n",
       "        vertical-align: top;\n",
       "    }\n",
       "\n",
       "    .dataframe thead th {\n",
       "        text-align: right;\n",
       "    }\n",
       "</style>\n",
       "<table border=\"1\" class=\"dataframe\">\n",
       "  <thead>\n",
       "    <tr style=\"text-align: right;\">\n",
       "      <th></th>\n",
       "      <th>item_id_enc</th>\n",
       "      <th>score</th>\n",
       "      <th>item_id</th>\n",
       "      <th>author</th>\n",
       "      <th>title</th>\n",
       "      <th>genre_and_votes</th>\n",
       "      <th>seen</th>\n",
       "    </tr>\n",
       "  </thead>\n",
       "  <tbody>\n",
       "    <tr>\n",
       "      <th>0</th>\n",
       "      <td>26926</td>\n",
       "      <td>1.852487</td>\n",
       "      <td>8492825</td>\n",
       "      <td>Gayle Forman</td>\n",
       "      <td>Where She Went (If I Stay, #2)</td>\n",
       "      <td>{'Young Adult': 4079, 'Romance': 2331, 'Contem...</td>\n",
       "      <td>False</td>\n",
       "    </tr>\n",
       "    <tr>\n",
       "      <th>1</th>\n",
       "      <td>32544</td>\n",
       "      <td>1.826056</td>\n",
       "      <td>14740588</td>\n",
       "      <td>Janet Evanovich</td>\n",
       "      <td>Notorious Nineteen (Stephanie Plum, #19)</td>\n",
       "      <td>{'Mystery': 1162, 'Fiction': 427, 'Humor': 367...</td>\n",
       "      <td>True</td>\n",
       "    </tr>\n",
       "    <tr>\n",
       "      <th>2</th>\n",
       "      <td>5969</td>\n",
       "      <td>1.822443</td>\n",
       "      <td>78129</td>\n",
       "      <td>Lee Child</td>\n",
       "      <td>Killing Floor (Jack Reacher, #1)</td>\n",
       "      <td>{'Thriller': 2060, 'Fiction': 1873, 'Mystery':...</td>\n",
       "      <td>True</td>\n",
       "    </tr>\n",
       "    <tr>\n",
       "      <th>3</th>\n",
       "      <td>22228</td>\n",
       "      <td>1.788192</td>\n",
       "      <td>4374400</td>\n",
       "      <td>Gayle Forman</td>\n",
       "      <td>If I Stay (If I Stay, #1)</td>\n",
       "      <td>{'Young Adult': 7947}</td>\n",
       "      <td>False</td>\n",
       "    </tr>\n",
       "    <tr>\n",
       "      <th>4</th>\n",
       "      <td>40765</td>\n",
       "      <td>1.760902</td>\n",
       "      <td>25644601</td>\n",
       "      <td>E.L. James</td>\n",
       "      <td>Grey (Fifty Shades, #4)</td>\n",
       "      <td>{'Romance': 1289, 'Adult Fiction-Erotica': 541...</td>\n",
       "      <td>False</td>\n",
       "    </tr>\n",
       "  </tbody>\n",
       "</table>\n",
       "</div>"
      ],
      "text/plain": [
       "   item_id_enc     score   item_id           author  \\\n",
       "0        26926  1.852487   8492825     Gayle Forman   \n",
       "1        32544  1.826056  14740588  Janet Evanovich   \n",
       "2         5969  1.822443     78129        Lee Child   \n",
       "3        22228  1.788192   4374400     Gayle Forman   \n",
       "4        40765  1.760902  25644601       E.L. James   \n",
       "\n",
       "                                      title  \\\n",
       "0            Where She Went (If I Stay, #2)   \n",
       "1  Notorious Nineteen (Stephanie Plum, #19)   \n",
       "2          Killing Floor (Jack Reacher, #1)   \n",
       "3                 If I Stay (If I Stay, #1)   \n",
       "4                   Grey (Fifty Shades, #4)   \n",
       "\n",
       "                                     genre_and_votes   seen  \n",
       "0  {'Young Adult': 4079, 'Romance': 2331, 'Contem...  False  \n",
       "1  {'Mystery': 1162, 'Fiction': 427, 'Humor': 367...   True  \n",
       "2  {'Thriller': 2060, 'Fiction': 1873, 'Mystery':...   True  \n",
       "3                              {'Young Adult': 7947}  False  \n",
       "4  {'Romance': 1289, 'Adult Fiction-Erotica': 541...  False  "
      ]
     },
     "execution_count": 93,
     "metadata": {},
     "output_type": "execute_result"
    }
   ],
   "source": [
    "def show_info(\n",
    "    user_item_matrix,\n",
    "    model,\n",
    "    user_id,\n",
    "    user_encoder,\n",
    "    item_encoder,\n",
    "    items,\n",
    "    events_train,\n",
    "    include_seen=True,\n",
    "    n=5\n",
    "):\n",
    "    info = get_recommendations_als(\n",
    "        user_item_matrix, model, user_id, user_encoder, item_encoder, include_seen, n\n",
    "    )\n",
    "    seen = set(events_train.query('user_id == @user_id').item_id.unique())\n",
    "    info = info.merge(items.set_index('item_id')[[\"author\", \"title\", \"genre_and_votes\"]], on=\"item_id\")\n",
    "    info['seen'] = info.item_id.apply(lambda x: x in seen)\n",
    "    return info\n",
    "\n",
    "res = show_info(\n",
    "    user_item_matrix_train,\n",
    "    als_model,\n",
    "    user_id,\n",
    "    user_encoder,\n",
    "    item_encoder,\n",
    "    items,\n",
    "    events_train,\n",
    "    n = 5,\n",
    "    include_seen=True\n",
    "); res"
   ]
  },
  {
   "cell_type": "code",
   "execution_count": 94,
   "id": "090a0bee-2f8f-4dc0-9dbe-342d7a7ac3b2",
   "metadata": {},
   "outputs": [
    {
     "data": {
      "text/plain": [
       "2"
      ]
     },
     "execution_count": 94,
     "metadata": {},
     "output_type": "execute_result"
    }
   ],
   "source": [
    "res.seen.sum()"
   ]
  },
  {
   "cell_type": "markdown",
   "id": "ae786421-dee2-4472-8098-d1a5e7271469",
   "metadata": {},
   "source": [
    "Получим рекомендации для всех имеющихся пользователей. Выполните код ниже."
   ]
  },
  {
   "cell_type": "code",
   "execution_count": 95,
   "id": "b749fc05-18c3-42d8-b275-1fe6e0ee5ce1",
   "metadata": {},
   "outputs": [],
   "source": [
    "# получаем список всех возможных user_id (перекодированных)\n",
    "user_ids_encoded = range(len(user_encoder.classes_))\n",
    "\n",
    "# получаем рекомендации для всех пользователей\n",
    "als_recommendations = als_model.recommend(\n",
    "    user_ids_encoded, \n",
    "    user_item_matrix_train[user_ids_encoded], \n",
    "    filter_already_liked_items=False,\n",
    "    N=100\n",
    ")"
   ]
  },
  {
   "cell_type": "markdown",
   "id": "32cbc562-030f-4d90-8836-d8c43392d673",
   "metadata": {},
   "source": [
    "Код возвращает рекомендации как список списков, это не очень удобно. Преобразуем его в более удобный формат — табличный.\n"
   ]
  },
  {
   "cell_type": "code",
   "execution_count": 96,
   "id": "9bfb3a5d-4f91-42b3-8694-dc4be52bac02",
   "metadata": {},
   "outputs": [
    {
     "data": {
      "text/html": [
       "<div>\n",
       "<style scoped>\n",
       "    .dataframe tbody tr th:only-of-type {\n",
       "        vertical-align: middle;\n",
       "    }\n",
       "\n",
       "    .dataframe tbody tr th {\n",
       "        vertical-align: top;\n",
       "    }\n",
       "\n",
       "    .dataframe thead th {\n",
       "        text-align: right;\n",
       "    }\n",
       "</style>\n",
       "<table border=\"1\" class=\"dataframe\">\n",
       "  <thead>\n",
       "    <tr style=\"text-align: right;\">\n",
       "      <th></th>\n",
       "      <th>user_id_enc</th>\n",
       "      <th>item_id_enc</th>\n",
       "      <th>score</th>\n",
       "    </tr>\n",
       "  </thead>\n",
       "  <tbody>\n",
       "    <tr>\n",
       "      <th>0</th>\n",
       "      <td>0</td>\n",
       "      <td>2</td>\n",
       "      <td>0.990941</td>\n",
       "    </tr>\n",
       "    <tr>\n",
       "      <th>1</th>\n",
       "      <td>0</td>\n",
       "      <td>1942</td>\n",
       "      <td>0.896617</td>\n",
       "    </tr>\n",
       "    <tr>\n",
       "      <th>2</th>\n",
       "      <td>0</td>\n",
       "      <td>3</td>\n",
       "      <td>0.864404</td>\n",
       "    </tr>\n",
       "    <tr>\n",
       "      <th>3</th>\n",
       "      <td>0</td>\n",
       "      <td>4</td>\n",
       "      <td>0.822254</td>\n",
       "    </tr>\n",
       "    <tr>\n",
       "      <th>4</th>\n",
       "      <td>0</td>\n",
       "      <td>1</td>\n",
       "      <td>0.774095</td>\n",
       "    </tr>\n",
       "    <tr>\n",
       "      <th>...</th>\n",
       "      <td>...</td>\n",
       "      <td>...</td>\n",
       "      <td>...</td>\n",
       "    </tr>\n",
       "    <tr>\n",
       "      <th>43058495</th>\n",
       "      <td>430584</td>\n",
       "      <td>31275</td>\n",
       "      <td>0.096082</td>\n",
       "    </tr>\n",
       "    <tr>\n",
       "      <th>43058496</th>\n",
       "      <td>430584</td>\n",
       "      <td>22529</td>\n",
       "      <td>0.096065</td>\n",
       "    </tr>\n",
       "    <tr>\n",
       "      <th>43058497</th>\n",
       "      <td>430584</td>\n",
       "      <td>33675</td>\n",
       "      <td>0.094949</td>\n",
       "    </tr>\n",
       "    <tr>\n",
       "      <th>43058498</th>\n",
       "      <td>430584</td>\n",
       "      <td>28263</td>\n",
       "      <td>0.094927</td>\n",
       "    </tr>\n",
       "    <tr>\n",
       "      <th>43058499</th>\n",
       "      <td>430584</td>\n",
       "      <td>22072</td>\n",
       "      <td>0.093034</td>\n",
       "    </tr>\n",
       "  </tbody>\n",
       "</table>\n",
       "<p>43058500 rows × 3 columns</p>\n",
       "</div>"
      ],
      "text/plain": [
       "          user_id_enc item_id_enc     score\n",
       "0                   0           2  0.990941\n",
       "1                   0        1942  0.896617\n",
       "2                   0           3  0.864404\n",
       "3                   0           4  0.822254\n",
       "4                   0           1  0.774095\n",
       "...               ...         ...       ...\n",
       "43058495       430584       31275  0.096082\n",
       "43058496       430584       22529  0.096065\n",
       "43058497       430584       33675  0.094949\n",
       "43058498       430584       28263  0.094927\n",
       "43058499       430584       22072  0.093034\n",
       "\n",
       "[43058500 rows x 3 columns]"
      ]
     },
     "execution_count": 96,
     "metadata": {},
     "output_type": "execute_result"
    }
   ],
   "source": [
    "# преобразуем полученные рекомендации в табличный формат\n",
    "item_ids_enc = als_recommendations[0]\n",
    "als_scores = als_recommendations[1]\n",
    "\n",
    "als_recommendations = pd.DataFrame({\n",
    "    \"user_id_enc\": user_ids_encoded,      # range(0, 430585)\n",
    "    \"item_id_enc\": item_ids_enc.tolist(), # als_recommendations[0] -> array([[    2,  1942,     3, ..., 28836, 30688, 10393],\n",
    "    \"score\": als_scores.tolist()})        # als_recommendations[1] > array([[0.99094146, 0.89661723, 0.8644041 , ..., 0.2261226 , 0.22548363,\n",
    "als_recommendations = als_recommendations.explode([\"item_id_enc\", \"score\"], ignore_index=True)\n",
    "als_recommendations"
   ]
  },
  {
   "cell_type": "code",
   "execution_count": 97,
   "id": "3530c2d9-0fdd-442d-974d-2bbfe4faf274",
   "metadata": {},
   "outputs": [
    {
     "name": "stdout",
     "output_type": "stream",
     "text": [
      "<class 'pandas.core.frame.DataFrame'>\n",
      "RangeIndex: 43058500 entries, 0 to 43058499\n",
      "Data columns (total 3 columns):\n",
      " #   Column       Dtype \n",
      "---  ------       ----- \n",
      " 0   user_id_enc  int64 \n",
      " 1   item_id_enc  object\n",
      " 2   score        object\n",
      "dtypes: int64(1), object(2)\n",
      "memory usage: 985.5+ MB\n"
     ]
    }
   ],
   "source": [
    "als_recommendations.info()"
   ]
  },
  {
   "cell_type": "code",
   "execution_count": 98,
   "id": "6e6f974e-dcff-42c4-987e-f5d6a269cf13",
   "metadata": {},
   "outputs": [],
   "source": [
    "# приводим типы данных\n",
    "als_recommendations[\"item_id_enc\"] = als_recommendations[\"item_id_enc\"].astype(\"int\")\n",
    "als_recommendations[\"score\"] = als_recommendations[\"score\"].astype(\"float\")"
   ]
  },
  {
   "cell_type": "code",
   "execution_count": 99,
   "id": "87700afc-7be6-4074-baf5-e0a210b3dcaf",
   "metadata": {},
   "outputs": [
    {
     "name": "stdout",
     "output_type": "stream",
     "text": [
      "<class 'pandas.core.frame.DataFrame'>\n",
      "RangeIndex: 43058500 entries, 0 to 43058499\n",
      "Data columns (total 3 columns):\n",
      " #   Column       Dtype  \n",
      "---  ------       -----  \n",
      " 0   user_id_enc  int64  \n",
      " 1   item_id_enc  int64  \n",
      " 2   score        float64\n",
      "dtypes: float64(1), int64(2)\n",
      "memory usage: 985.5 MB\n"
     ]
    }
   ],
   "source": [
    "als_recommendations.info()"
   ]
  },
  {
   "cell_type": "code",
   "execution_count": 100,
   "id": "ac94ab04-5f94-40ee-9723-82fcbef8008b",
   "metadata": {},
   "outputs": [],
   "source": [
    "# получаем изначальные идентификаторы\n",
    "als_recommendations[\"user_id\"] = user_encoder.inverse_transform(als_recommendations[\"user_id_enc\"])\n",
    "als_recommendations[\"item_id\"] = item_encoder.inverse_transform(als_recommendations[\"item_id_enc\"])\n",
    "als_recommendations = als_recommendations.drop(columns=[\"user_id_enc\", \"item_id_enc\"])"
   ]
  },
  {
   "cell_type": "code",
   "execution_count": 101,
   "id": "c601288c-05a8-4ba1-b12a-efe8b1e5365f",
   "metadata": {},
   "outputs": [
    {
     "data": {
      "text/html": [
       "<div>\n",
       "<style scoped>\n",
       "    .dataframe tbody tr th:only-of-type {\n",
       "        vertical-align: middle;\n",
       "    }\n",
       "\n",
       "    .dataframe tbody tr th {\n",
       "        vertical-align: top;\n",
       "    }\n",
       "\n",
       "    .dataframe thead th {\n",
       "        text-align: right;\n",
       "    }\n",
       "</style>\n",
       "<table border=\"1\" class=\"dataframe\">\n",
       "  <thead>\n",
       "    <tr style=\"text-align: right;\">\n",
       "      <th></th>\n",
       "      <th>score</th>\n",
       "      <th>user_id</th>\n",
       "      <th>item_id</th>\n",
       "    </tr>\n",
       "  </thead>\n",
       "  <tbody>\n",
       "    <tr>\n",
       "      <th>0</th>\n",
       "      <td>0.990941</td>\n",
       "      <td>1000000</td>\n",
       "      <td>3</td>\n",
       "    </tr>\n",
       "    <tr>\n",
       "      <th>1</th>\n",
       "      <td>0.896617</td>\n",
       "      <td>1000000</td>\n",
       "      <td>15881</td>\n",
       "    </tr>\n",
       "    <tr>\n",
       "      <th>2</th>\n",
       "      <td>0.864404</td>\n",
       "      <td>1000000</td>\n",
       "      <td>5</td>\n",
       "    </tr>\n",
       "    <tr>\n",
       "      <th>3</th>\n",
       "      <td>0.822254</td>\n",
       "      <td>1000000</td>\n",
       "      <td>6</td>\n",
       "    </tr>\n",
       "    <tr>\n",
       "      <th>4</th>\n",
       "      <td>0.774095</td>\n",
       "      <td>1000000</td>\n",
       "      <td>2</td>\n",
       "    </tr>\n",
       "    <tr>\n",
       "      <th>...</th>\n",
       "      <td>...</td>\n",
       "      <td>...</td>\n",
       "      <td>...</td>\n",
       "    </tr>\n",
       "    <tr>\n",
       "      <th>43058495</th>\n",
       "      <td>0.096082</td>\n",
       "      <td>1430584</td>\n",
       "      <td>13206900</td>\n",
       "    </tr>\n",
       "    <tr>\n",
       "      <th>43058496</th>\n",
       "      <td>0.096065</td>\n",
       "      <td>1430584</td>\n",
       "      <td>5060378</td>\n",
       "    </tr>\n",
       "    <tr>\n",
       "      <th>43058497</th>\n",
       "      <td>0.094949</td>\n",
       "      <td>1430584</td>\n",
       "      <td>16071764</td>\n",
       "    </tr>\n",
       "    <tr>\n",
       "      <th>43058498</th>\n",
       "      <td>0.094927</td>\n",
       "      <td>1430584</td>\n",
       "      <td>9969571</td>\n",
       "    </tr>\n",
       "    <tr>\n",
       "      <th>43058499</th>\n",
       "      <td>0.093034</td>\n",
       "      <td>1430584</td>\n",
       "      <td>3950967</td>\n",
       "    </tr>\n",
       "  </tbody>\n",
       "</table>\n",
       "<p>43058500 rows × 3 columns</p>\n",
       "</div>"
      ],
      "text/plain": [
       "             score  user_id   item_id\n",
       "0         0.990941  1000000         3\n",
       "1         0.896617  1000000     15881\n",
       "2         0.864404  1000000         5\n",
       "3         0.822254  1000000         6\n",
       "4         0.774095  1000000         2\n",
       "...            ...      ...       ...\n",
       "43058495  0.096082  1430584  13206900\n",
       "43058496  0.096065  1430584   5060378\n",
       "43058497  0.094949  1430584  16071764\n",
       "43058498  0.094927  1430584   9969571\n",
       "43058499  0.093034  1430584   3950967\n",
       "\n",
       "[43058500 rows x 3 columns]"
      ]
     },
     "execution_count": 101,
     "metadata": {},
     "output_type": "execute_result"
    }
   ],
   "source": [
    "als_recommendations"
   ]
  },
  {
   "cell_type": "markdown",
   "id": "faa4d820-7656-4d1f-ab0a-409d3117c2d2",
   "metadata": {},
   "source": [
    "Сохраним полученные рекомендации в файл, они ещё нам пригодятся."
   ]
  },
  {
   "cell_type": "code",
   "execution_count": 102,
   "id": "577b4133-921c-4762-bd51-93529aefbf2f",
   "metadata": {},
   "outputs": [],
   "source": [
    "als_recommendations = als_recommendations[[\"user_id\", \"item_id\", \"score\"]]\n",
    "als_recommendations.to_parquet(\"als_recommendations.parquet\")"
   ]
  },
  {
   "cell_type": "markdown",
   "id": "6c362c4e-1e7e-4a85-8613-544c50e9a8cf",
   "metadata": {
    "jp-MarkdownHeadingCollapsed": true
   },
   "source": [
    "# Метрики"
   ]
  },
  {
   "cell_type": "code",
   "execution_count": 103,
   "id": "cccfb1fb-8ee9-4e92-a6e5-4bb49ca62f0c",
   "metadata": {},
   "outputs": [
    {
     "data": {
      "text/html": [
       "<div>\n",
       "<style scoped>\n",
       "    .dataframe tbody tr th:only-of-type {\n",
       "        vertical-align: middle;\n",
       "    }\n",
       "\n",
       "    .dataframe tbody tr th {\n",
       "        vertical-align: top;\n",
       "    }\n",
       "\n",
       "    .dataframe thead th {\n",
       "        text-align: right;\n",
       "    }\n",
       "</style>\n",
       "<table border=\"1\" class=\"dataframe\">\n",
       "  <thead>\n",
       "    <tr style=\"text-align: right;\">\n",
       "      <th></th>\n",
       "      <th>user_id</th>\n",
       "      <th>item_id</th>\n",
       "      <th>started_at</th>\n",
       "      <th>read_at</th>\n",
       "      <th>is_read</th>\n",
       "      <th>rating</th>\n",
       "      <th>is_reviewed</th>\n",
       "      <th>started_at_month</th>\n",
       "      <th>user_id_enc</th>\n",
       "      <th>item_id_enc</th>\n",
       "    </tr>\n",
       "  </thead>\n",
       "  <tbody>\n",
       "    <tr>\n",
       "      <th>84</th>\n",
       "      <td>1196635</td>\n",
       "      <td>18467802</td>\n",
       "      <td>2017-09-01</td>\n",
       "      <td>2017-09-22</td>\n",
       "      <td>True</td>\n",
       "      <td>1</td>\n",
       "      <td>False</td>\n",
       "      <td>2017-09-01</td>\n",
       "      <td>196635</td>\n",
       "      <td>36588</td>\n",
       "    </tr>\n",
       "    <tr>\n",
       "      <th>257</th>\n",
       "      <td>1188739</td>\n",
       "      <td>10799</td>\n",
       "      <td>2017-08-06</td>\n",
       "      <td>2017-10-14</td>\n",
       "      <td>True</td>\n",
       "      <td>3</td>\n",
       "      <td>False</td>\n",
       "      <td>2017-08-01</td>\n",
       "      <td>188739</td>\n",
       "      <td>1262</td>\n",
       "    </tr>\n",
       "    <tr>\n",
       "      <th>270</th>\n",
       "      <td>1001879</td>\n",
       "      <td>13206828</td>\n",
       "      <td>2017-09-24</td>\n",
       "      <td>2017-09-28</td>\n",
       "      <td>True</td>\n",
       "      <td>5</td>\n",
       "      <td>True</td>\n",
       "      <td>2017-09-01</td>\n",
       "      <td>1879</td>\n",
       "      <td>31274</td>\n",
       "    </tr>\n",
       "    <tr>\n",
       "      <th>271</th>\n",
       "      <td>1001879</td>\n",
       "      <td>13206900</td>\n",
       "      <td>2017-09-28</td>\n",
       "      <td>2017-10-07</td>\n",
       "      <td>True</td>\n",
       "      <td>4</td>\n",
       "      <td>True</td>\n",
       "      <td>2017-09-01</td>\n",
       "      <td>1879</td>\n",
       "      <td>31275</td>\n",
       "    </tr>\n",
       "    <tr>\n",
       "      <th>272</th>\n",
       "      <td>1001879</td>\n",
       "      <td>13206760</td>\n",
       "      <td>2017-09-21</td>\n",
       "      <td>2017-09-24</td>\n",
       "      <td>True</td>\n",
       "      <td>5</td>\n",
       "      <td>True</td>\n",
       "      <td>2017-09-01</td>\n",
       "      <td>1879</td>\n",
       "      <td>31273</td>\n",
       "    </tr>\n",
       "    <tr>\n",
       "      <th>...</th>\n",
       "      <td>...</td>\n",
       "      <td>...</td>\n",
       "      <td>...</td>\n",
       "      <td>...</td>\n",
       "      <td>...</td>\n",
       "      <td>...</td>\n",
       "      <td>...</td>\n",
       "      <td>...</td>\n",
       "      <td>...</td>\n",
       "      <td>...</td>\n",
       "    </tr>\n",
       "    <tr>\n",
       "      <th>12913921</th>\n",
       "      <td>1145655</td>\n",
       "      <td>25781157</td>\n",
       "      <td>2017-08-04</td>\n",
       "      <td>2017-08-14</td>\n",
       "      <td>True</td>\n",
       "      <td>3</td>\n",
       "      <td>False</td>\n",
       "      <td>2017-08-01</td>\n",
       "      <td>145655</td>\n",
       "      <td>40870</td>\n",
       "    </tr>\n",
       "    <tr>\n",
       "      <th>12914084</th>\n",
       "      <td>1166047</td>\n",
       "      <td>92057</td>\n",
       "      <td>2017-08-20</td>\n",
       "      <td>2017-09-17</td>\n",
       "      <td>True</td>\n",
       "      <td>5</td>\n",
       "      <td>False</td>\n",
       "      <td>2017-08-01</td>\n",
       "      <td>166047</td>\n",
       "      <td>6577</td>\n",
       "    </tr>\n",
       "    <tr>\n",
       "      <th>12914085</th>\n",
       "      <td>1166047</td>\n",
       "      <td>168668</td>\n",
       "      <td>2017-08-03</td>\n",
       "      <td>2017-08-19</td>\n",
       "      <td>True</td>\n",
       "      <td>2</td>\n",
       "      <td>False</td>\n",
       "      <td>2017-08-01</td>\n",
       "      <td>166047</td>\n",
       "      <td>9075</td>\n",
       "    </tr>\n",
       "    <tr>\n",
       "      <th>12914150</th>\n",
       "      <td>1155073</td>\n",
       "      <td>25300956</td>\n",
       "      <td>2017-08-12</td>\n",
       "      <td>2017-10-14</td>\n",
       "      <td>True</td>\n",
       "      <td>5</td>\n",
       "      <td>False</td>\n",
       "      <td>2017-08-01</td>\n",
       "      <td>155073</td>\n",
       "      <td>40537</td>\n",
       "    </tr>\n",
       "    <tr>\n",
       "      <th>12914350</th>\n",
       "      <td>1387130</td>\n",
       "      <td>16143347</td>\n",
       "      <td>2017-09-14</td>\n",
       "      <td>2017-09-16</td>\n",
       "      <td>True</td>\n",
       "      <td>5</td>\n",
       "      <td>False</td>\n",
       "      <td>2017-09-01</td>\n",
       "      <td>387130</td>\n",
       "      <td>34016</td>\n",
       "    </tr>\n",
       "  </tbody>\n",
       "</table>\n",
       "<p>424962 rows × 10 columns</p>\n",
       "</div>"
      ],
      "text/plain": [
       "          user_id   item_id started_at    read_at  is_read  rating  \\\n",
       "84        1196635  18467802 2017-09-01 2017-09-22     True       1   \n",
       "257       1188739     10799 2017-08-06 2017-10-14     True       3   \n",
       "270       1001879  13206828 2017-09-24 2017-09-28     True       5   \n",
       "271       1001879  13206900 2017-09-28 2017-10-07     True       4   \n",
       "272       1001879  13206760 2017-09-21 2017-09-24     True       5   \n",
       "...           ...       ...        ...        ...      ...     ...   \n",
       "12913921  1145655  25781157 2017-08-04 2017-08-14     True       3   \n",
       "12914084  1166047     92057 2017-08-20 2017-09-17     True       5   \n",
       "12914085  1166047    168668 2017-08-03 2017-08-19     True       2   \n",
       "12914150  1155073  25300956 2017-08-12 2017-10-14     True       5   \n",
       "12914350  1387130  16143347 2017-09-14 2017-09-16     True       5   \n",
       "\n",
       "          is_reviewed started_at_month  user_id_enc  item_id_enc  \n",
       "84              False       2017-09-01       196635        36588  \n",
       "257             False       2017-08-01       188739         1262  \n",
       "270              True       2017-09-01         1879        31274  \n",
       "271              True       2017-09-01         1879        31275  \n",
       "272              True       2017-09-01         1879        31273  \n",
       "...               ...              ...          ...          ...  \n",
       "12913921        False       2017-08-01       145655        40870  \n",
       "12914084        False       2017-08-01       166047         6577  \n",
       "12914085        False       2017-08-01       166047         9075  \n",
       "12914150        False       2017-08-01       155073        40537  \n",
       "12914350        False       2017-09-01       387130        34016  \n",
       "\n",
       "[424962 rows x 10 columns]"
      ]
     },
     "execution_count": 103,
     "metadata": {},
     "output_type": "execute_result"
    }
   ],
   "source": [
    "events_test"
   ]
  },
  {
   "cell_type": "code",
   "execution_count": 104,
   "id": "8efafd32-0e8a-40f7-8923-a8dffa7f2c27",
   "metadata": {},
   "outputs": [],
   "source": [
    "als_recommendations = (\n",
    "    als_recommendations\n",
    "    .merge(events_test[[\"user_id\", \"item_id\", \"rating\"]]\n",
    "               .rename(columns={\"rating\": \"rating_test\"}), \n",
    "           on=[\"user_id\", \"item_id\"], how=\"left\")\n",
    ") "
   ]
  },
  {
   "cell_type": "code",
   "execution_count": 105,
   "id": "a479ee9e-a001-4401-b557-ecea83f4ce0f",
   "metadata": {},
   "outputs": [
    {
     "data": {
      "text/plain": [
       "0.9981305897790216"
      ]
     },
     "execution_count": 105,
     "metadata": {},
     "output_type": "execute_result"
    }
   ],
   "source": [
    "als_recommendations.isna().sum().sum() / als_recommendations.shape[0]"
   ]
  },
  {
   "cell_type": "markdown",
   "id": "5d327c65-9af2-42bd-8daf-d35f3f8d67b5",
   "metadata": {},
   "source": [
    "Подсчитать метрику NDCG для одного пользователя поможет готовая реализация из scikit-learn:"
   ]
  },
  {
   "cell_type": "code",
   "execution_count": 106,
   "id": "2e85cadf-ad9b-42e9-8cc1-10d0a484aff3",
   "metadata": {},
   "outputs": [],
   "source": [
    "import sklearn.metrics\n",
    "\n",
    "def compute_ndcg(rating: pd.Series, score: pd.Series, k: int=None):\n",
    "\n",
    "    \"\"\" подсчёт ndcg\n",
    "    rating: истинные оценки\n",
    "    score: оценки модели\n",
    "    k: количество айтемов (по убыванию score) для оценки, остальные - отбрасываются\n",
    "    \"\"\"\n",
    "    \n",
    "    # если кол-во объектов меньше 2, то NDCG - не определена\n",
    "    if len(rating) < 2:\n",
    "        return np.nan\n",
    "\n",
    "    ndcg = sklearn.metrics.ndcg_score(\n",
    "        np.asarray([rating.to_numpy()]),\n",
    "        np.asarray([score.to_numpy()]),\n",
    "        k=k\n",
    "    )\n",
    "\n",
    "    return ndcg"
   ]
  },
  {
   "cell_type": "code",
   "execution_count": 107,
   "id": "ab6d99d1-30d6-4854-9558-bbc902462fba",
   "metadata": {},
   "outputs": [],
   "source": [
    "rating = (\n",
    "    als_recommendations[~als_recommendations['rating_test'].isna()]\n",
    "    .rating_test\n",
    ")\n",
    "score = (\n",
    "    als_recommendations[~als_recommendations['rating_test'].isna()]\n",
    "    .score\n",
    ")"
   ]
  },
  {
   "cell_type": "code",
   "execution_count": 108,
   "id": "6018cde4-a375-4259-ad70-a49d3e760a03",
   "metadata": {},
   "outputs": [
    {
     "data": {
      "text/plain": [
       "0.9878692868652608"
      ]
     },
     "execution_count": 108,
     "metadata": {},
     "output_type": "execute_result"
    }
   ],
   "source": [
    "compute_ndcg(rating, score)"
   ]
  },
  {
   "cell_type": "code",
   "execution_count": 109,
   "id": "f6c91159-82d5-4361-9194-b3f0794d4234",
   "metadata": {},
   "outputs": [],
   "source": [
    "rating_test_idx = ~als_recommendations[\"rating_test\"].isna()"
   ]
  },
  {
   "cell_type": "code",
   "execution_count": 110,
   "id": "81b61714-a1b4-4fa9-84aa-47c9d7d78b30",
   "metadata": {},
   "outputs": [],
   "source": [
    "ndcg_at_5_scores = (\n",
    "    als_recommendations[rating_test_idx]\n",
    "    .groupby(\"user_id\")\n",
    "    .apply(\n",
    "        lambda x: compute_ndcg(x[\"rating_test\"], x[\"score\"], k=5)\n",
    "    )\n",
    ")"
   ]
  },
  {
   "cell_type": "code",
   "execution_count": 111,
   "id": "8f02304f-6325-49b0-81a6-59d47b0e7e12",
   "metadata": {},
   "outputs": [
    {
     "data": {
      "text/plain": [
       "0.9759"
      ]
     },
     "execution_count": 111,
     "metadata": {},
     "output_type": "execute_result"
    }
   ],
   "source": [
    "round(ndcg_at_5_scores.mean(), 4)"
   ]
  },
  {
   "cell_type": "markdown",
   "id": "6a5c837b-0be3-4217-a522-9920b9699db7",
   "metadata": {},
   "source": [
    "# Факультативное задание"
   ]
  },
  {
   "cell_type": "markdown",
   "id": "1607d462-d2a3-4946-a265-4980b3b376d1",
   "metadata": {},
   "source": [
    "Оцените, для какой доли пользователей удалось посчитать метрику NDCG."
   ]
  },
  {
   "cell_type": "code",
   "execution_count": 112,
   "id": "c9ec5c91-2a68-4419-bd9e-f3c020691341",
   "metadata": {},
   "outputs": [
    {
     "data": {
      "text/plain": [
       "0.0018694102209784362"
      ]
     },
     "execution_count": 112,
     "metadata": {},
     "output_type": "execute_result"
    }
   ],
   "source": [
    "rating_test_idx.sum() / rating_test_idx.shape[0]"
   ]
  },
  {
   "cell_type": "markdown",
   "id": "e3bb5845-21d8-48ab-8f38-5991feb09e41",
   "metadata": {},
   "source": [
    "Используя метод  `similar_items`, получите и оцените рекомендации для нескольких айтемов. Проанализируйте адекватность результатов."
   ]
  },
  {
   "cell_type": "code",
   "execution_count": 113,
   "id": "0714f528-ee44-4502-98e8-78547bc770f5",
   "metadata": {},
   "outputs": [],
   "source": [
    "# ? Задан вопрос авторам"
   ]
  },
  {
   "cell_type": "markdown",
   "id": "b4f1d8f3-53bf-4e3d-95ff-c7e6f94fc470",
   "metadata": {},
   "source": [
    "# Контентные рекомендации"
   ]
  },
  {
   "cell_type": "markdown",
   "id": "1f5059d2-54b2-4171-aa86-a476e3c80b50",
   "metadata": {},
   "source": [
    "Составим список всех жанров\n",
    "Составим список всех возможных жанров по всем айтемам. Потом по нему будем составлять вектор с весами по жанрам для каждой книги. Из любопытства составим список жанров с подсчётом количества голосов по каждому из них.\n",
    "Сначала преобразуем значения в genre_and_votes из текстового представления в тип в Python:"
   ]
  },
  {
   "cell_type": "code",
   "execution_count": 114,
   "id": "82f19964-4fd7-4c78-b291-b3eaa7d7b2bf",
   "metadata": {},
   "outputs": [],
   "source": [
    "items[\"genre_and_votes\"] = items[\"genre_and_votes\"].apply(eval)"
   ]
  },
  {
   "cell_type": "markdown",
   "id": "3c13a90b-0d95-4ed1-a3b1-df1494c9401e",
   "metadata": {},
   "source": [
    "Задание 1 из 4\n",
    "\n",
    "Теперь составьте список жанров с долями голосов по ним в genres.  Дополните и выполните следующий код:"
   ]
  },
  {
   "cell_type": "code",
   "execution_count": 115,
   "id": "10a7a411-06ea-49a4-9b5d-1a9e263cdc9d",
   "metadata": {},
   "outputs": [],
   "source": [
    "def get_genres(items):\n",
    "\n",
    "    \"\"\" \n",
    "    извлекает список жанров по всем книгам, \n",
    "    подсчитывает долю голосов по каждому их них\n",
    "    \"\"\"\n",
    "    \n",
    "    genres_counter = {}\n",
    "    \n",
    "    for k, v, in items.iterrows():\n",
    "        genre_and_votes = v['genre_and_votes_dict'] # ваш код здесь #\n",
    "        if genre_and_votes is None or not isinstance(genre_and_votes, dict):\n",
    "            continue\n",
    "        for genre, votes in genre_and_votes.items():\n",
    "            # увеличиваем счётчик жанров\n",
    "            try:\n",
    "                genres_counter[genre] += votes if votes else 0 # ваш код здесь #\n",
    "            except KeyError:\n",
    "                genres_counter[genre] = 0\n",
    "\n",
    "    genres = pd.Series(genres_counter, name=\"votes\")\n",
    "    genres = genres.to_frame()\n",
    "    genres = genres.reset_index().rename(columns={\"index\": \"name\"})\n",
    "    genres.index.name = \"genre_id\"\n",
    "    \n",
    "    return genres\n",
    "   \n",
    "genres = get_genres(items)"
   ]
  },
  {
   "cell_type": "markdown",
   "id": "fdb88d89-92ab-48a7-bc80-910c6b4026fc",
   "metadata": {},
   "source": [
    "Результат выполнения кода — список жанров с долями голосов по ним в genres. Посмотрим на самые популярные жанры:"
   ]
  },
  {
   "cell_type": "code",
   "execution_count": 116,
   "id": "d4c7e91a-627c-4465-b3d3-54796d9ea35f",
   "metadata": {},
   "outputs": [
    {
     "data": {
      "text/html": [
       "<div>\n",
       "<style scoped>\n",
       "    .dataframe tbody tr th:only-of-type {\n",
       "        vertical-align: middle;\n",
       "    }\n",
       "\n",
       "    .dataframe tbody tr th {\n",
       "        vertical-align: top;\n",
       "    }\n",
       "\n",
       "    .dataframe thead th {\n",
       "        text-align: right;\n",
       "    }\n",
       "</style>\n",
       "<table border=\"1\" class=\"dataframe\">\n",
       "  <thead>\n",
       "    <tr style=\"text-align: right;\">\n",
       "      <th></th>\n",
       "      <th>name</th>\n",
       "      <th>votes</th>\n",
       "      <th>score</th>\n",
       "    </tr>\n",
       "    <tr>\n",
       "      <th>genre_id</th>\n",
       "      <th></th>\n",
       "      <th></th>\n",
       "      <th></th>\n",
       "    </tr>\n",
       "  </thead>\n",
       "  <tbody>\n",
       "    <tr>\n",
       "      <th>285</th>\n",
       "      <td>Fantasy</td>\n",
       "      <td>6850115.0</td>\n",
       "      <td>0.149502</td>\n",
       "    </tr>\n",
       "    <tr>\n",
       "      <th>308</th>\n",
       "      <td>Fiction</td>\n",
       "      <td>6406256.0</td>\n",
       "      <td>0.139815</td>\n",
       "    </tr>\n",
       "    <tr>\n",
       "      <th>132</th>\n",
       "      <td>Classics</td>\n",
       "      <td>3415071.0</td>\n",
       "      <td>0.074533</td>\n",
       "    </tr>\n",
       "    <tr>\n",
       "      <th>800</th>\n",
       "      <td>Young Adult</td>\n",
       "      <td>3297027.0</td>\n",
       "      <td>0.071957</td>\n",
       "    </tr>\n",
       "    <tr>\n",
       "      <th>640</th>\n",
       "      <td>Romance</td>\n",
       "      <td>2422690.0</td>\n",
       "      <td>0.052874</td>\n",
       "    </tr>\n",
       "    <tr>\n",
       "      <th>535</th>\n",
       "      <td>Nonfiction</td>\n",
       "      <td>1737798.0</td>\n",
       "      <td>0.037927</td>\n",
       "    </tr>\n",
       "    <tr>\n",
       "      <th>378</th>\n",
       "      <td>Historical-Historical Fiction</td>\n",
       "      <td>1531489.0</td>\n",
       "      <td>0.033424</td>\n",
       "    </tr>\n",
       "    <tr>\n",
       "      <th>512</th>\n",
       "      <td>Mystery</td>\n",
       "      <td>1371370.0</td>\n",
       "      <td>0.029930</td>\n",
       "    </tr>\n",
       "    <tr>\n",
       "      <th>665</th>\n",
       "      <td>Science Fiction</td>\n",
       "      <td>1218997.0</td>\n",
       "      <td>0.026604</td>\n",
       "    </tr>\n",
       "    <tr>\n",
       "      <th>296</th>\n",
       "      <td>Fantasy-Paranormal</td>\n",
       "      <td>857137.0</td>\n",
       "      <td>0.018707</td>\n",
       "    </tr>\n",
       "  </tbody>\n",
       "</table>\n",
       "</div>"
      ],
      "text/plain": [
       "                                   name      votes     score\n",
       "genre_id                                                    \n",
       "285                             Fantasy  6850115.0  0.149502\n",
       "308                             Fiction  6406256.0  0.139815\n",
       "132                            Classics  3415071.0  0.074533\n",
       "800                         Young Adult  3297027.0  0.071957\n",
       "640                             Romance  2422690.0  0.052874\n",
       "535                          Nonfiction  1737798.0  0.037927\n",
       "378       Historical-Historical Fiction  1531489.0  0.033424\n",
       "512                             Mystery  1371370.0  0.029930\n",
       "665                     Science Fiction  1218997.0  0.026604\n",
       "296                  Fantasy-Paranormal   857137.0  0.018707"
      ]
     },
     "execution_count": 116,
     "metadata": {},
     "output_type": "execute_result"
    }
   ],
   "source": [
    "genres[\"score\"] = genres[\"votes\"] / genres[\"votes\"].sum()\n",
    "genres.sort_values(by=\"score\", ascending=False).head(10)"
   ]
  },
  {
   "cell_type": "code",
   "execution_count": 117,
   "id": "5a67b37f-08bf-4727-80c3-e299f25eb764",
   "metadata": {},
   "outputs": [
    {
     "data": {
      "text/plain": [
       "(815, 3)"
      ]
     },
     "execution_count": 117,
     "metadata": {},
     "output_type": "execute_result"
    }
   ],
   "source": [
    "genres.shape"
   ]
  },
  {
   "cell_type": "markdown",
   "id": "ffe33b6f-3c0d-4355-ac1b-ccb57f1fb9f7",
   "metadata": {},
   "source": [
    "Задание 2 из 4\n",
    "\n",
    "Функция в коде ниже строит матрицу вида «книга-жанр». Изучите её. Подумайте, что будет соответствовать столбцам матрицы. "
   ]
  },
  {
   "cell_type": "code",
   "execution_count": 118,
   "id": "82d1de90-df9d-4819-8331-3df649d7bef0",
   "metadata": {},
   "outputs": [],
   "source": [
    "def get_item2genre_matrix(genres, items):\n",
    "\n",
    "    genre_names_to_id = genres.reset_index().set_index(\"name\")[\"genre_id\"].to_dict()\n",
    "    \n",
    "    # list to build CSR matrix\n",
    "    genres_csr_data = []\n",
    "    genres_csr_row_idx = []\n",
    "    genres_csr_col_idx = []\n",
    "    \n",
    "    for item_idx, (k, v) in enumerate(items.iterrows()):\n",
    "        if v[\"genre_and_votes\"] is None:\n",
    "            continue\n",
    "        for genre_name, votes in v[\"genre_and_votes\"].items():\n",
    "            genre_idx = genre_names_to_id[genre_name]\n",
    "            genres_csr_data.append(int(votes))\n",
    "            genres_csr_row_idx.append(item_idx)\n",
    "            genres_csr_col_idx.append(genre_idx)\n",
    "\n",
    "    genres_csr = scipy.sparse.csr_matrix(\n",
    "        (genres_csr_data, (genres_csr_row_idx, genres_csr_col_idx)),\n",
    "        shape=(len(items), len(genres))\n",
    "    )\n",
    "    # нормализуем, чтобы сумма оценок принадлежности к жанру была равна 1\n",
    "    genres_csr = sklearn.preprocessing.normalize(genres_csr, norm='l1', axis=1)\n",
    "    \n",
    "    return genres_csr"
   ]
  },
  {
   "cell_type": "markdown",
   "id": "69525c57-096f-413e-98e4-fbb03a5191c9",
   "metadata": {},
   "source": [
    "В genres_csr_col_idx добавляются индексы, соответствующие жанрам."
   ]
  },
  {
   "cell_type": "markdown",
   "id": "ac87f6b8-1556-4adc-abba-e76fe5cfa117",
   "metadata": {},
   "source": [
    "Получим матрицу с весами по жанрам для каждой книги:"
   ]
  },
  {
   "cell_type": "code",
   "execution_count": 119,
   "id": "834f66c5-b763-483d-932b-7acc7b3cb2b2",
   "metadata": {},
   "outputs": [],
   "source": [
    "items = items.sort_values(by=\"item_id_enc\")\n",
    "all_items_genres_csr = get_item2genre_matrix(genres, items)"
   ]
  },
  {
   "cell_type": "code",
   "execution_count": 120,
   "id": "e6382bcb-0ea2-4263-86b1-94da6473f552",
   "metadata": {},
   "outputs": [
    {
     "data": {
      "text/plain": [
       "<43312x815 sparse matrix of type '<class 'numpy.float64'>'\n",
       "\twith 210895 stored elements in Compressed Sparse Row format>"
      ]
     },
     "execution_count": 120,
     "metadata": {},
     "output_type": "execute_result"
    }
   ],
   "source": [
    "all_items_genres_csr"
   ]
  },
  {
   "cell_type": "markdown",
   "id": "a45a4e79-f3fd-47f1-bc84-7fdcc719f955",
   "metadata": {},
   "source": [
    "Аналогичным образом получим матрицу с весами по жанрам для какого-нибудь пользователя, например, для пользователя с идентификатором 1000010. \n",
    "\n",
    "Задание 3 из 4\n",
    "\n",
    "Дополните и выполните код ниже, чтобы получить описанную матрицу. "
   ]
  },
  {
   "cell_type": "code",
   "execution_count": 121,
   "id": "e8808f64-860f-48a4-aadf-064917ff2a70",
   "metadata": {},
   "outputs": [
    {
     "data": {
      "text/plain": [
       "<22x815 sparse matrix of type '<class 'numpy.float64'>'\n",
       "\twith 149 stored elements in Compressed Sparse Row format>"
      ]
     },
     "execution_count": 121,
     "metadata": {},
     "output_type": "execute_result"
    }
   ],
   "source": [
    "user_id = 1000010\n",
    "user_events = events_train.query(\"user_id == @user_id\")[[\"item_id\", \"rating\"]]\n",
    "user_items = items[items[\"item_id\"].isin(user_events[\"item_id\"])]\n",
    "\n",
    "user_items_genres_csr = get_item2genre_matrix(genres, user_items)\n",
    "user_items_genres_csr"
   ]
  },
  {
   "cell_type": "markdown",
   "id": "37025ce0-8995-46b3-a2ff-186bbc32fd07",
   "metadata": {},
   "source": [
    "Если посчитать средние, то фактически получим предпочтения пользователя по жанрам."
   ]
  },
  {
   "cell_type": "code",
   "execution_count": 122,
   "id": "30f525da-8a5e-47a7-a17e-fa6132dd2e58",
   "metadata": {
    "scrolled": true
   },
   "outputs": [
    {
     "data": {
      "text/plain": [
       "array([[1. ],\n",
       "       [1. ],\n",
       "       [0.8],\n",
       "       [0.4],\n",
       "       [0.6],\n",
       "       [1. ],\n",
       "       [0.8],\n",
       "       [0.8],\n",
       "       [0.8],\n",
       "       [1. ],\n",
       "       [0.4],\n",
       "       [0.2],\n",
       "       [0.8],\n",
       "       [1. ],\n",
       "       [0.6],\n",
       "       [0.8],\n",
       "       [0.8],\n",
       "       [0.6],\n",
       "       [0.8],\n",
       "       [0.8],\n",
       "       [0.8],\n",
       "       [0.2]])"
      ]
     },
     "execution_count": 122,
     "metadata": {},
     "output_type": "execute_result"
    }
   ],
   "source": [
    "# вычислим склонность пользователя к жанрам как среднее взвешенное значение популяции на его оценки книг.\n",
    "\n",
    "# преобразуем пользовательские оценки из списка в вектор-столбец\n",
    "user_ratings = user_events[\"rating\"].to_numpy() / 5\n",
    "user_ratings = np.expand_dims(user_ratings, axis=1)\n",
    "user_ratings"
   ]
  },
  {
   "cell_type": "code",
   "execution_count": 123,
   "id": "31a5c9ce-ce62-477f-920f-bd6502ebddc0",
   "metadata": {},
   "outputs": [
    {
     "data": {
      "text/plain": [
       "<22x815 sparse matrix of type '<class 'numpy.float64'>'\n",
       "\twith 149 stored elements in COOrdinate format>"
      ]
     },
     "execution_count": 123,
     "metadata": {},
     "output_type": "execute_result"
    }
   ],
   "source": [
    "user_items_genres_weighted = user_items_genres_csr.multiply(user_ratings)\n",
    "user_items_genres_weighted"
   ]
  },
  {
   "cell_type": "code",
   "execution_count": 124,
   "id": "e586a7fb-445e-4d1e-9256-6f6b887ea1a9",
   "metadata": {
    "scrolled": true
   },
   "outputs": [
    {
     "data": {
      "text/plain": [
       "array([[0.        , 0.        , 0.        , 0.        , 0.        ,\n",
       "        0.0003783 , 0.        , 0.        , 0.        , 0.        ,\n",
       "        0.00628736, 0.00241027, 0.        , 0.        , 0.        ,\n",
       "        0.        , 0.        , 0.        , 0.        , 0.        ,\n",
       "        0.        , 0.        , 0.        , 0.        , 0.        ,\n",
       "        0.        , 0.        , 0.        , 0.        , 0.        ,\n",
       "        0.        , 0.        , 0.        , 0.        , 0.        ,\n",
       "        0.        , 0.        , 0.        , 0.        , 0.        ,\n",
       "        0.        , 0.        , 0.        , 0.        , 0.        ,\n",
       "        0.        , 0.        , 0.        , 0.00058944, 0.        ,\n",
       "        0.00154396, 0.        , 0.        , 0.        , 0.        ,\n",
       "        0.        , 0.        , 0.        , 0.        , 0.        ,\n",
       "        0.        , 0.        , 0.        , 0.        , 0.        ,\n",
       "        0.        , 0.        , 0.        , 0.00454038, 0.01312976,\n",
       "        0.        , 0.        , 0.        , 0.        , 0.00468621,\n",
       "        0.        , 0.        , 0.        , 0.        , 0.        ,\n",
       "        0.        , 0.        , 0.00140827, 0.        , 0.        ,\n",
       "        0.00791188, 0.        , 0.        , 0.        , 0.        ,\n",
       "        0.        , 0.        , 0.        , 0.        , 0.        ,\n",
       "        0.        , 0.        , 0.        , 0.        , 0.        ,\n",
       "        0.        , 0.        , 0.        , 0.        , 0.        ,\n",
       "        0.        , 0.        , 0.        , 0.        , 0.        ,\n",
       "        0.        , 0.        , 0.        , 0.        , 0.        ,\n",
       "        0.        , 0.        , 0.        , 0.        , 0.        ,\n",
       "        0.        , 0.        , 0.        , 0.        , 0.        ,\n",
       "        0.        , 0.        , 0.        , 0.        , 0.        ,\n",
       "        0.        , 0.        , 0.10387938, 0.        , 0.        ,\n",
       "        0.        , 0.        , 0.        , 0.        , 0.        ,\n",
       "        0.        , 0.        , 0.        , 0.        , 0.        ,\n",
       "        0.        , 0.        , 0.        , 0.        , 0.        ,\n",
       "        0.        , 0.01721725, 0.        , 0.        , 0.        ,\n",
       "        0.        , 0.        , 0.        , 0.        , 0.        ,\n",
       "        0.        , 0.        , 0.        , 0.        , 0.        ,\n",
       "        0.        , 0.        , 0.        , 0.        , 0.        ,\n",
       "        0.        , 0.        , 0.        , 0.        , 0.        ,\n",
       "        0.        , 0.        , 0.        , 0.        , 0.        ,\n",
       "        0.        , 0.        , 0.        , 0.        , 0.        ,\n",
       "        0.        , 0.        , 0.        , 0.        , 0.        ,\n",
       "        0.        , 0.        , 0.        , 0.0033264 , 0.        ,\n",
       "        0.        , 0.        , 0.        , 0.        , 0.        ,\n",
       "        0.        , 0.        , 0.        , 0.        , 0.        ,\n",
       "        0.        , 0.        , 0.        , 0.        , 0.        ,\n",
       "        0.        , 0.        , 0.        , 0.        , 0.        ,\n",
       "        0.        , 0.        , 0.        , 0.        , 0.0008054 ,\n",
       "        0.        , 0.        , 0.        , 0.        , 0.        ,\n",
       "        0.        , 0.        , 0.        , 0.        , 0.        ,\n",
       "        0.        , 0.        , 0.        , 0.        , 0.00137647,\n",
       "        0.        , 0.        , 0.        , 0.        , 0.        ,\n",
       "        0.        , 0.0005434 , 0.        , 0.        , 0.00196643,\n",
       "        0.        , 0.        , 0.        , 0.        , 0.        ,\n",
       "        0.        , 0.        , 0.        , 0.        , 0.        ,\n",
       "        0.        , 0.        , 0.        , 0.        , 0.        ,\n",
       "        0.        , 0.        , 0.        , 0.        , 0.        ,\n",
       "        0.        , 0.        , 0.        , 0.        , 0.        ,\n",
       "        0.        , 0.        , 0.        , 0.        , 0.        ,\n",
       "        0.        , 0.        , 0.        , 0.        , 0.        ,\n",
       "        0.        , 0.        , 0.        , 0.        , 0.        ,\n",
       "        0.07244692, 0.        , 0.        , 0.        , 0.        ,\n",
       "        0.        , 0.        , 0.00045557, 0.        , 0.00273433,\n",
       "        0.        , 0.        , 0.        , 0.        , 0.00250404,\n",
       "        0.        , 0.        , 0.        , 0.        , 0.        ,\n",
       "        0.        , 0.        , 0.        , 0.18524136, 0.        ,\n",
       "        0.        , 0.        , 0.        , 0.        , 0.        ,\n",
       "        0.        , 0.        , 0.        , 0.        , 0.        ,\n",
       "        0.        , 0.        , 0.        , 0.        , 0.        ,\n",
       "        0.        , 0.        , 0.        , 0.        , 0.        ,\n",
       "        0.        , 0.        , 0.        , 0.        , 0.        ,\n",
       "        0.        , 0.        , 0.        , 0.        , 0.        ,\n",
       "        0.        , 0.        , 0.        , 0.        , 0.        ,\n",
       "        0.        , 0.        , 0.00107737, 0.        , 0.        ,\n",
       "        0.        , 0.        , 0.        , 0.        , 0.        ,\n",
       "        0.        , 0.        , 0.        , 0.        , 0.        ,\n",
       "        0.        , 0.        , 0.        , 0.        , 0.        ,\n",
       "        0.        , 0.        , 0.        , 0.        , 0.00241543,\n",
       "        0.        , 0.        , 0.        , 0.        , 0.        ,\n",
       "        0.        , 0.        , 0.        , 0.02200792, 0.        ,\n",
       "        0.        , 0.        , 0.        , 0.        , 0.00164322,\n",
       "        0.        , 0.        , 0.        , 0.        , 0.        ,\n",
       "        0.        , 0.        , 0.        , 0.        , 0.        ,\n",
       "        0.        , 0.        , 0.        , 0.        , 0.        ,\n",
       "        0.        , 0.        , 0.00105004, 0.        , 0.        ,\n",
       "        0.        , 0.        , 0.        , 0.        , 0.        ,\n",
       "        0.        , 0.        , 0.        , 0.        , 0.        ,\n",
       "        0.        , 0.        , 0.        , 0.        , 0.        ,\n",
       "        0.        , 0.        , 0.        , 0.        , 0.        ,\n",
       "        0.        , 0.        , 0.        , 0.        , 0.        ,\n",
       "        0.        , 0.        , 0.        , 0.        , 0.        ,\n",
       "        0.        , 0.00078978, 0.        , 0.        , 0.00641917,\n",
       "        0.00664848, 0.        , 0.00069963, 0.        , 0.        ,\n",
       "        0.        , 0.        , 0.        , 0.        , 0.        ,\n",
       "        0.        , 0.        , 0.        , 0.        , 0.0024313 ,\n",
       "        0.        , 0.        , 0.        , 0.        , 0.        ,\n",
       "        0.        , 0.        , 0.        , 0.        , 0.        ,\n",
       "        0.        , 0.        , 0.        , 0.        , 0.        ,\n",
       "        0.        , 0.        , 0.        , 0.        , 0.        ,\n",
       "        0.        , 0.        , 0.        , 0.        , 0.        ,\n",
       "        0.        , 0.        , 0.        , 0.        , 0.        ,\n",
       "        0.        , 0.        , 0.        , 0.        , 0.        ,\n",
       "        0.        , 0.        , 0.        , 0.        , 0.        ,\n",
       "        0.        , 0.        , 0.        , 0.        , 0.        ,\n",
       "        0.        , 0.        , 0.        , 0.        , 0.        ,\n",
       "        0.00208644, 0.        , 0.        , 0.        , 0.        ,\n",
       "        0.        , 0.        , 0.03096287, 0.        , 0.00585933,\n",
       "        0.        , 0.        , 0.        , 0.        , 0.        ,\n",
       "        0.        , 0.        , 0.        , 0.        , 0.        ,\n",
       "        0.        , 0.        , 0.        , 0.        , 0.        ,\n",
       "        0.        , 0.        , 0.        , 0.        , 0.        ,\n",
       "        0.05086544, 0.        , 0.        , 0.        , 0.        ,\n",
       "        0.        , 0.        , 0.        , 0.        , 0.00483647,\n",
       "        0.        , 0.        , 0.        , 0.        , 0.        ,\n",
       "        0.        , 0.        , 0.        , 0.        , 0.        ,\n",
       "        0.        , 0.        , 0.        , 0.        , 0.        ,\n",
       "        0.        , 0.        , 0.        , 0.        , 0.        ,\n",
       "        0.        , 0.        , 0.03266882, 0.        , 0.        ,\n",
       "        0.        , 0.        , 0.        , 0.        , 0.        ,\n",
       "        0.        , 0.        , 0.        , 0.        , 0.        ,\n",
       "        0.        , 0.        , 0.00395576, 0.        , 0.        ,\n",
       "        0.        , 0.        , 0.        , 0.        , 0.        ,\n",
       "        0.        , 0.        , 0.        , 0.        , 0.        ,\n",
       "        0.        , 0.        , 0.        , 0.        , 0.        ,\n",
       "        0.0067333 , 0.        , 0.        , 0.        , 0.        ,\n",
       "        0.        , 0.        , 0.        , 0.        , 0.        ,\n",
       "        0.        , 0.        , 0.        , 0.        , 0.        ,\n",
       "        0.        , 0.        , 0.        , 0.        , 0.        ,\n",
       "        0.        , 0.        , 0.        , 0.        , 0.        ,\n",
       "        0.        , 0.        , 0.        , 0.        , 0.        ,\n",
       "        0.        , 0.        , 0.        , 0.        , 0.        ,\n",
       "        0.        , 0.        , 0.        , 0.        , 0.        ,\n",
       "        0.00271657, 0.        , 0.        , 0.        , 0.        ,\n",
       "        0.        , 0.        , 0.        , 0.        , 0.        ,\n",
       "        0.        , 0.        , 0.        , 0.        , 0.        ,\n",
       "        0.        , 0.        , 0.        , 0.        , 0.        ,\n",
       "        0.        , 0.        , 0.        , 0.        , 0.0019688 ,\n",
       "        0.04092002, 0.00099967, 0.        , 0.        , 0.        ,\n",
       "        0.        , 0.        , 0.        , 0.        , 0.        ,\n",
       "        0.01595722, 0.        , 0.        , 0.        , 0.        ,\n",
       "        0.        , 0.        , 0.        , 0.        , 0.        ,\n",
       "        0.        , 0.        , 0.        , 0.        , 0.        ,\n",
       "        0.        , 0.        , 0.        , 0.        , 0.        ,\n",
       "        0.        , 0.        , 0.        , 0.        , 0.00152878,\n",
       "        0.        , 0.        , 0.        , 0.        , 0.        ,\n",
       "        0.        , 0.        , 0.        , 0.        , 0.        ,\n",
       "        0.        , 0.        , 0.        , 0.00192532, 0.        ,\n",
       "        0.        , 0.        , 0.        , 0.        , 0.        ,\n",
       "        0.        , 0.        , 0.        , 0.        , 0.        ,\n",
       "        0.        , 0.00223112, 0.        , 0.        , 0.        ,\n",
       "        0.        , 0.        , 0.        , 0.00046421, 0.        ,\n",
       "        0.        , 0.        , 0.        , 0.        , 0.        ,\n",
       "        0.        , 0.        , 0.        , 0.        , 0.        ,\n",
       "        0.        , 0.        , 0.        , 0.        , 0.        ,\n",
       "        0.        , 0.        , 0.        , 0.00106293, 0.        ,\n",
       "        0.        , 0.        , 0.00687034, 0.        , 0.00328345,\n",
       "        0.        , 0.        , 0.        , 0.00502514, 0.        ,\n",
       "        0.        , 0.        , 0.        , 0.        , 0.        ,\n",
       "        0.        , 0.        , 0.00157524, 0.        , 0.        ,\n",
       "        0.        , 0.        , 0.        , 0.        , 0.        ,\n",
       "        0.        , 0.        , 0.        , 0.        , 0.        ,\n",
       "        0.        , 0.        , 0.        , 0.        , 0.        ,\n",
       "        0.        , 0.        , 0.        , 0.        , 0.        ,\n",
       "        0.        , 0.        , 0.00096453, 0.        , 0.        ,\n",
       "        0.02124583, 0.        , 0.        , 0.        , 0.        ,\n",
       "        0.        , 0.        , 0.        , 0.        , 0.        ,\n",
       "        0.        , 0.        , 0.        , 0.        , 0.        ]])"
      ]
     },
     "execution_count": 124,
     "metadata": {},
     "output_type": "execute_result"
    }
   ],
   "source": [
    "user_genres_scores = np.asarray(user_items_genres_weighted.mean(axis=0))\n",
    "user_genres_scores"
   ]
  },
  {
   "cell_type": "markdown",
   "id": "f24ecb41-d1dc-4267-9055-b912d6cb4b0c",
   "metadata": {},
   "source": [
    "Можно посмотреть, какие жанры больше всего нравятся пользователю:"
   ]
  },
  {
   "cell_type": "code",
   "execution_count": 125,
   "id": "e74c6e6b-4d37-407b-adfd-20dac9fabb5c",
   "metadata": {},
   "outputs": [
    {
     "name": "stdout",
     "output_type": "stream",
     "text": [
      "(56, 3)\n"
     ]
    },
    {
     "data": {
      "text/html": [
       "<div>\n",
       "<style scoped>\n",
       "    .dataframe tbody tr th:only-of-type {\n",
       "        vertical-align: middle;\n",
       "    }\n",
       "\n",
       "    .dataframe tbody tr th {\n",
       "        vertical-align: top;\n",
       "    }\n",
       "\n",
       "    .dataframe thead th {\n",
       "        text-align: right;\n",
       "    }\n",
       "</style>\n",
       "<table border=\"1\" class=\"dataframe\">\n",
       "  <thead>\n",
       "    <tr style=\"text-align: right;\">\n",
       "      <th></th>\n",
       "      <th>name</th>\n",
       "      <th>votes</th>\n",
       "      <th>score</th>\n",
       "    </tr>\n",
       "    <tr>\n",
       "      <th>genre_id</th>\n",
       "      <th></th>\n",
       "      <th></th>\n",
       "      <th></th>\n",
       "    </tr>\n",
       "  </thead>\n",
       "  <tbody>\n",
       "    <tr>\n",
       "      <th>308</th>\n",
       "      <td>Fiction</td>\n",
       "      <td>6406256.0</td>\n",
       "      <td>0.185241</td>\n",
       "    </tr>\n",
       "    <tr>\n",
       "      <th>132</th>\n",
       "      <td>Classics</td>\n",
       "      <td>3415071.0</td>\n",
       "      <td>0.103879</td>\n",
       "    </tr>\n",
       "    <tr>\n",
       "      <th>285</th>\n",
       "      <td>Fantasy</td>\n",
       "      <td>6850115.0</td>\n",
       "      <td>0.072447</td>\n",
       "    </tr>\n",
       "    <tr>\n",
       "      <th>535</th>\n",
       "      <td>Nonfiction</td>\n",
       "      <td>1737798.0</td>\n",
       "      <td>0.050865</td>\n",
       "    </tr>\n",
       "    <tr>\n",
       "      <th>665</th>\n",
       "      <td>Science Fiction</td>\n",
       "      <td>1218997.0</td>\n",
       "      <td>0.040920</td>\n",
       "    </tr>\n",
       "  </tbody>\n",
       "</table>\n",
       "</div>"
      ],
      "text/plain": [
       "                     name      votes     score\n",
       "genre_id                                      \n",
       "308               Fiction  6406256.0  0.185241\n",
       "132              Classics  3415071.0  0.103879\n",
       "285               Fantasy  6850115.0  0.072447\n",
       "535            Nonfiction  1737798.0  0.050865\n",
       "665       Science Fiction  1218997.0  0.040920"
      ]
     },
     "execution_count": 125,
     "metadata": {},
     "output_type": "execute_result"
    }
   ],
   "source": [
    "# выведем список жанров, которые предпочитает пользователь\n",
    "\n",
    "user_genres = genres.copy()\n",
    "user_genres[\"score\"] = np.ravel(user_genres_scores)\n",
    "user_genres = user_genres[user_genres[\"score\"] > 0].sort_values(by=[\"score\"], ascending=False)\n",
    "\n",
    "print(user_genres.shape)\n",
    "user_genres.head(5)"
   ]
  },
  {
   "cell_type": "markdown",
   "id": "73b784cf-b569-40a7-b668-48d891630b77",
   "metadata": {},
   "source": [
    "Задание 4 из 4\n",
    "\n",
    "Получите наиболее релевантные рекомендации для пользователя.\n",
    "Дополните код так, чтобы переменная `top_k_indices` заполнялась индексами соответствующих книг. Для этого удобно использовать `np.argsort` от `similarity_scores`, подсчитанной для всех книг.\n"
   ]
  },
  {
   "cell_type": "code",
   "execution_count": 126,
   "id": "a3e9a0a6-775d-412c-9ca3-eed30c1c9896",
   "metadata": {},
   "outputs": [
    {
     "data": {
      "text/plain": [
       "array([ 4460,  9476, 14087, 36093,  4471])"
      ]
     },
     "execution_count": 126,
     "metadata": {},
     "output_type": "execute_result"
    }
   ],
   "source": [
    "from sklearn.metrics.pairwise import cosine_similarity\n",
    "\n",
    "# вычисляем сходство между вектором пользователя и векторами по книгам\n",
    "similarity_scores = cosine_similarity(all_items_genres_csr, user_genres_scores)\n",
    "\n",
    "# преобразуем в одномерный массив\n",
    "similarity_scores = similarity_scores.flatten()\n",
    "\n",
    "# получаем индексы top-k (по убыванию значений), по сути, индексы книг (encoded)\n",
    "k = 5\n",
    "top_k_indices = np.argsort(similarity_scores, )[-k:] # ваш код здесь #\n",
    "top_k_indices"
   ]
  },
  {
   "cell_type": "code",
   "execution_count": 127,
   "id": "1377b031-1147-436e-8a63-fa3771ec8353",
   "metadata": {},
   "outputs": [
    {
     "data": {
      "text/plain": [
       "array([0.91252841, 0.91514839, 0.9184179 , 0.92242087, 0.93533943])"
      ]
     },
     "execution_count": 127,
     "metadata": {},
     "output_type": "execute_result"
    }
   ],
   "source": [
    "np.sort(similarity_scores)[-k:]"
   ]
  },
  {
   "cell_type": "markdown",
   "id": "6428cd4f-21cb-427d-b216-2a30cb103f98",
   "metadata": {},
   "source": [
    "После вычисления `top_k_indices` по полученным индексам извлеките список объектов, которые могут быть интересны пользователю, при помощи кода:"
   ]
  },
  {
   "cell_type": "code",
   "execution_count": 128,
   "id": "0efd77e7-a825-4582-b183-f1d01a26b4ca",
   "metadata": {},
   "outputs": [
    {
     "data": {
      "text/html": [
       "<div>\n",
       "<style scoped>\n",
       "    .dataframe tbody tr th:only-of-type {\n",
       "        vertical-align: middle;\n",
       "    }\n",
       "\n",
       "    .dataframe tbody tr th {\n",
       "        vertical-align: top;\n",
       "    }\n",
       "\n",
       "    .dataframe thead th {\n",
       "        text-align: right;\n",
       "    }\n",
       "</style>\n",
       "<table border=\"1\" class=\"dataframe\">\n",
       "  <thead>\n",
       "    <tr style=\"text-align: right;\">\n",
       "      <th></th>\n",
       "      <th>author</th>\n",
       "      <th>title</th>\n",
       "      <th>genre_and_votes</th>\n",
       "    </tr>\n",
       "  </thead>\n",
       "  <tbody>\n",
       "    <tr>\n",
       "      <th>80465</th>\n",
       "      <td>G.K. Chesterton</td>\n",
       "      <td>The Napoleon of Notting Hill</td>\n",
       "      <td>{'Fiction': 166, 'Classics': 88, 'Fantasy': 44...</td>\n",
       "    </tr>\n",
       "    <tr>\n",
       "      <th>1168335</th>\n",
       "      <td>Ray Bradbury</td>\n",
       "      <td>Dandelion Wine (Green Town, #1)</td>\n",
       "      <td>{'Fiction': 1438, 'Classics': 914, 'Science Fi...</td>\n",
       "    </tr>\n",
       "    <tr>\n",
       "      <th>393210</th>\n",
       "      <td>G.K. Chesterton, Jonathan Lethem</td>\n",
       "      <td>The Man Who Was Thursday: A Nightmare</td>\n",
       "      <td>{'Fiction': 1257, 'Classics': 929, 'Mystery': ...</td>\n",
       "    </tr>\n",
       "    <tr>\n",
       "      <th>2244467</th>\n",
       "      <td>Samuel Butler</td>\n",
       "      <td>Erewhon (Erewhon , #1)</td>\n",
       "      <td>{'Fiction': 162, 'Classics': 139, 'Science Fic...</td>\n",
       "    </tr>\n",
       "    <tr>\n",
       "      <th>39408</th>\n",
       "      <td>Paulo Coelho, Alan R. Clarke, James Noel Smith</td>\n",
       "      <td>The Alchemist</td>\n",
       "      <td>{'Fiction': 14023, 'Classics': 5787, 'Fantasy'...</td>\n",
       "    </tr>\n",
       "  </tbody>\n",
       "</table>\n",
       "</div>"
      ],
      "text/plain": [
       "                                                 author  \\\n",
       "80465                                   G.K. Chesterton   \n",
       "1168335                                    Ray Bradbury   \n",
       "393210                 G.K. Chesterton, Jonathan Lethem   \n",
       "2244467                                   Samuel Butler   \n",
       "39408    Paulo Coelho, Alan R. Clarke, James Noel Smith   \n",
       "\n",
       "                                         title  \\\n",
       "80465             The Napoleon of Notting Hill   \n",
       "1168335        Dandelion Wine (Green Town, #1)   \n",
       "393210   The Man Who Was Thursday: A Nightmare   \n",
       "2244467                 Erewhon (Erewhon , #1)   \n",
       "39408                            The Alchemist   \n",
       "\n",
       "                                           genre_and_votes  \n",
       "80465    {'Fiction': 166, 'Classics': 88, 'Fantasy': 44...  \n",
       "1168335  {'Fiction': 1438, 'Classics': 914, 'Science Fi...  \n",
       "393210   {'Fiction': 1257, 'Classics': 929, 'Mystery': ...  \n",
       "2244467  {'Fiction': 162, 'Classics': 139, 'Science Fic...  \n",
       "39408    {'Fiction': 14023, 'Classics': 5787, 'Fantasy'...  "
      ]
     },
     "metadata": {},
     "output_type": "display_data"
    }
   ],
   "source": [
    "selected_items = items[items[\"item_id_enc\"].isin(top_k_indices)]\n",
    "\n",
    "with pd.option_context(\"max_colwidth\", 100):\n",
    "   display(selected_items[[\"author\", \"title\", \"genre_and_votes\"]])"
   ]
  },
  {
   "cell_type": "markdown",
   "id": "a0273988-0a7a-4830-945b-ff4314523fbd",
   "metadata": {},
   "source": [
    "# Факультативное задание"
   ]
  },
  {
   "cell_type": "markdown",
   "id": "df6bf0d5-7586-49ef-9063-737b41f308d9",
   "metadata": {},
   "source": [
    "1. Получите по алгоритму выше рекомендации для нескольких пользователей, просмотрите их на экране. Подумайте, насколько релевантны и интересны полученные рекомендации пользователям.\n",
    "1. Попробуйте использовать другую меру сходства для получения рекомендаций, например, евклидово расстояние. Проанализируйте, отличаются ли рекомендации от предыдущих. Подумайте почему.\n",
    "1. Задайте собственные предпочтения для наиболее популярных жанров. Посмотрите рекомендации для себя. Прочитали ли бы вы рекомендованные книги?"
   ]
  },
  {
   "cell_type": "code",
   "execution_count": 129,
   "id": "fba6148e-da2e-4df7-b301-dd941d1ed9c1",
   "metadata": {},
   "outputs": [],
   "source": [
    "###"
   ]
  },
  {
   "cell_type": "markdown",
   "id": "e5891a0e-c6ad-4ad8-b5c5-fca2e8ebaa7a",
   "metadata": {},
   "source": [
    "Вы научились строить персонализированные рекомендации, не прибегая к данным об истории поведения пользователя, а используя свойства самих айтемов и сведения о предпочтениях пользователей из профиля. Такие рекомендации базируются на свойствах контента и служат хорошей альтернативой коллаборативным рекомендациям, когда нет информации по взаимодействию пользователей с айтемами."
   ]
  },
  {
   "cell_type": "markdown",
   "id": "a8cf4e07-e7d6-40ad-9139-a965c226c506",
   "metadata": {},
   "source": [
    "# Валидация"
   ]
  },
  {
   "cell_type": "markdown",
   "id": "8c2acf71-159a-4169-94b8-d9ec1b4c50b6",
   "metadata": {},
   "source": [
    "Ниже приведён код для такой разметки:\n",
    "- `gt` (ground truth): объект есть в тестовой выборке;\n",
    "- `pr` (predicted): объект есть в рекомендациях.\n",
    "\n",
    "Теперь разметим признаки бинарной классификации:\n",
    "- `TP`: объект есть и в тестовой выборке, и в рекомендациях (истинная рекомендация),\n",
    "- `FP`: объекта нет в тестовой выборке, но он есть в рекомендациях (ложноположительная рекомендация),\n",
    "- `FN`: объект есть в тестовой выборке, но его нет в рекомендациях (ложноотрицательная рекомендация)"
   ]
  },
  {
   "cell_type": "code",
   "execution_count": 130,
   "id": "4a31b732-f952-4637-a68d-a813a8d36324",
   "metadata": {},
   "outputs": [],
   "source": [
    "def process_events_recs_for_binary_metrics(events_train, events_test, recs, top_k=None):\n",
    "\n",
    "    \"\"\"\n",
    "    размечает пары <user_id, item_id> для общего множества пользователей признаками\n",
    "    - gt (ground truth)\n",
    "    - pr (prediction)\n",
    "    top_k: расчёт ведётся только для top k-рекомендаций\n",
    "    \"\"\"\n",
    "\n",
    "    events_test[\"gt\"] = True\n",
    "    common_users = set(events_test[\"user_id\"]) & set(recs[\"user_id\"])\n",
    "\n",
    "    print(f\"Common users: {len(common_users)}\")\n",
    "    \n",
    "    events_for_common_users = events_test[events_test[\"user_id\"].isin(common_users)].copy()\n",
    "    recs_for_common_users = recs[recs[\"user_id\"].isin(common_users)].copy()\n",
    "\n",
    "    recs_for_common_users = recs_for_common_users.sort_values([\"user_id\", \"score\"], ascending=[True, False])\n",
    "\n",
    "    # оставляет только те item_id, которые были в events_train, \n",
    "    # т. к. модель не имела никакой возможности давать рекомендации для новых айтемов\n",
    "    events_for_common_users = events_for_common_users[events_for_common_users[\"item_id\"].isin(events_train[\"item_id\"].unique())]\n",
    "\n",
    "    if top_k is not None:\n",
    "        recs_for_common_users = recs_for_common_users.groupby(\"user_id\").head(top_k)\n",
    "    \n",
    "    events_recs_common = events_for_common_users[[\"user_id\", \"item_id\", \"gt\"]].merge(\n",
    "        recs_for_common_users[[\"user_id\", \"item_id\", \"score\"]], \n",
    "        on=[\"user_id\", \"item_id\"], how=\"outer\")    \n",
    "\n",
    "    events_recs_common[\"gt\"] = events_recs_common[\"gt\"].fillna(False)\n",
    "    events_recs_common[\"pr\"] = ~events_recs_common[\"score\"].isnull()\n",
    "    \n",
    "    events_recs_common[\"tp\"] = events_recs_common[\"gt\"] & events_recs_common[\"pr\"]\n",
    "    events_recs_common[\"fp\"] = ~events_recs_common[\"gt\"] & events_recs_common[\"pr\"]\n",
    "    events_recs_common[\"fn\"] = events_recs_common[\"gt\"] & ~events_recs_common[\"pr\"]\n",
    "\n",
    "    return events_recs_common"
   ]
  },
  {
   "cell_type": "code",
   "execution_count": null,
   "id": "09500376-689d-43b1-9ddb-06b65e24596a",
   "metadata": {},
   "outputs": [],
   "source": []
  },
  {
   "cell_type": "markdown",
   "id": "9b193c67-a865-4f63-a1c9-2ffe4a03f0a2",
   "metadata": {},
   "source": [
    "Обработаем ALS-рекомендации для подсчёта метрик для 5 лучших рекомендаций:"
   ]
  },
  {
   "cell_type": "code",
   "execution_count": 131,
   "id": "3649ce70-cc5f-4d7e-8fe5-f1fdea22c782",
   "metadata": {},
   "outputs": [
    {
     "name": "stderr",
     "output_type": "stream",
     "text": [
      "/tmp/ipykernel_1494/3166051426.py:10: SettingWithCopyWarning: \n",
      "A value is trying to be set on a copy of a slice from a DataFrame.\n",
      "Try using .loc[row_indexer,col_indexer] = value instead\n",
      "\n",
      "See the caveats in the documentation: https://pandas.pydata.org/pandas-docs/stable/user_guide/indexing.html#returning-a-view-versus-a-copy\n",
      "  events_test[\"gt\"] = True\n"
     ]
    },
    {
     "name": "stdout",
     "output_type": "stream",
     "text": [
      "Common users: 123223\n"
     ]
    }
   ],
   "source": [
    "events_recs_for_binary_metrics = process_events_recs_for_binary_metrics(\n",
    "    events_train,\n",
    "    events_test, \n",
    "    als_recommendations, \n",
    "    top_k=5\n",
    ")"
   ]
  },
  {
   "cell_type": "code",
   "execution_count": 132,
   "id": "37f85202-7621-4aa6-a9db-befb25cbb6fe",
   "metadata": {},
   "outputs": [
    {
     "data": {
      "text/html": [
       "<div>\n",
       "<style scoped>\n",
       "    .dataframe tbody tr th:only-of-type {\n",
       "        vertical-align: middle;\n",
       "    }\n",
       "\n",
       "    .dataframe tbody tr th {\n",
       "        vertical-align: top;\n",
       "    }\n",
       "\n",
       "    .dataframe thead th {\n",
       "        text-align: right;\n",
       "    }\n",
       "</style>\n",
       "<table border=\"1\" class=\"dataframe\">\n",
       "  <thead>\n",
       "    <tr style=\"text-align: right;\">\n",
       "      <th></th>\n",
       "      <th>user_id</th>\n",
       "      <th>item_id</th>\n",
       "      <th>gt</th>\n",
       "      <th>score</th>\n",
       "      <th>pr</th>\n",
       "      <th>tp</th>\n",
       "      <th>fp</th>\n",
       "      <th>fn</th>\n",
       "    </tr>\n",
       "  </thead>\n",
       "  <tbody>\n",
       "    <tr>\n",
       "      <th>638506</th>\n",
       "      <td>1154668</td>\n",
       "      <td>7864437</td>\n",
       "      <td>False</td>\n",
       "      <td>1.236950</td>\n",
       "      <td>True</td>\n",
       "      <td>False</td>\n",
       "      <td>True</td>\n",
       "      <td>False</td>\n",
       "    </tr>\n",
       "    <tr>\n",
       "      <th>767675</th>\n",
       "      <td>1246412</td>\n",
       "      <td>5107</td>\n",
       "      <td>False</td>\n",
       "      <td>0.536877</td>\n",
       "      <td>True</td>\n",
       "      <td>False</td>\n",
       "      <td>True</td>\n",
       "      <td>False</td>\n",
       "    </tr>\n",
       "    <tr>\n",
       "      <th>685632</th>\n",
       "      <td>1188280</td>\n",
       "      <td>11505797</td>\n",
       "      <td>False</td>\n",
       "      <td>1.341463</td>\n",
       "      <td>True</td>\n",
       "      <td>False</td>\n",
       "      <td>True</td>\n",
       "      <td>False</td>\n",
       "    </tr>\n",
       "    <tr>\n",
       "      <th>753788</th>\n",
       "      <td>1236576</td>\n",
       "      <td>17675462</td>\n",
       "      <td>False</td>\n",
       "      <td>0.578484</td>\n",
       "      <td>True</td>\n",
       "      <td>False</td>\n",
       "      <td>True</td>\n",
       "      <td>False</td>\n",
       "    </tr>\n",
       "    <tr>\n",
       "      <th>176309</th>\n",
       "      <td>1149227</td>\n",
       "      <td>8600</td>\n",
       "      <td>True</td>\n",
       "      <td>NaN</td>\n",
       "      <td>False</td>\n",
       "      <td>False</td>\n",
       "      <td>False</td>\n",
       "      <td>True</td>\n",
       "    </tr>\n",
       "  </tbody>\n",
       "</table>\n",
       "</div>"
      ],
      "text/plain": [
       "        user_id   item_id     gt     score     pr     tp     fp     fn\n",
       "638506  1154668   7864437  False  1.236950   True  False   True  False\n",
       "767675  1246412      5107  False  0.536877   True  False   True  False\n",
       "685632  1188280  11505797  False  1.341463   True  False   True  False\n",
       "753788  1236576  17675462  False  0.578484   True  False   True  False\n",
       "176309  1149227      8600   True       NaN  False  False  False   True"
      ]
     },
     "execution_count": 132,
     "metadata": {},
     "output_type": "execute_result"
    }
   ],
   "source": [
    "events_recs_for_binary_metrics.sample(5)"
   ]
  },
  {
   "cell_type": "markdown",
   "id": "856720c2-8a3f-4909-8c94-81dfc33f1a7c",
   "metadata": {},
   "source": [
    "Мы получили разметку случившихся в будущем событий (`events_test`) и рекомендаций (`als_recommendations`: то есть событий, спрогнозированных как случившиеся в будущем).\n",
    "На их основе можно посчитать precision и recall по вышеприведённым формулам. Ниже дана заготовка функции, которая считает эти метрики. На вход ей подаётся результат выполнения функции process_events_recs_for_binary_metrics."
   ]
  },
  {
   "cell_type": "markdown",
   "id": "b253ccfd-fa26-4266-b4b5-7fca03af9913",
   "metadata": {},
   "source": [
    "# Задание"
   ]
  },
  {
   "cell_type": "markdown",
   "id": "739087c2-c46c-496f-917c-9bbeb9d92e00",
   "metadata": {},
   "source": [
    "Дополните код функции `compute_cls_metrics` для расчёта `recall`.\n",
    "Получите значения метрик `precision@5` и `recall@5`.\n"
   ]
  },
  {
   "cell_type": "code",
   "execution_count": 133,
   "id": "68af63e6-b773-458d-818f-ee2d504dd8eb",
   "metadata": {},
   "outputs": [
    {
     "name": "stderr",
     "output_type": "stream",
     "text": [
      "/tmp/ipykernel_1494/3166051426.py:10: SettingWithCopyWarning: \n",
      "A value is trying to be set on a copy of a slice from a DataFrame.\n",
      "Try using .loc[row_indexer,col_indexer] = value instead\n",
      "\n",
      "See the caveats in the documentation: https://pandas.pydata.org/pandas-docs/stable/user_guide/indexing.html#returning-a-view-versus-a-copy\n",
      "  events_test[\"gt\"] = True\n"
     ]
    },
    {
     "name": "stdout",
     "output_type": "stream",
     "text": [
      "Common users: 123223\n"
     ]
    },
    {
     "data": {
      "text/plain": [
       "(0.007581376853347184, 0.014121568795222568)"
      ]
     },
     "execution_count": 133,
     "metadata": {},
     "output_type": "execute_result"
    }
   ],
   "source": [
    "def compute_cls_metrics(events_recs_for_binary_metric):\n",
    "    \n",
    "    groupper = events_recs_for_binary_metric.groupby(\"user_id\")\n",
    "\n",
    "    # precision = tp / (tp + fp)\n",
    "    precision = groupper[\"tp\"].sum()/(groupper[\"tp\"].sum()+groupper[\"fp\"].sum())\n",
    "    precision = precision.fillna(0).mean()\n",
    "    \n",
    "    # recall = tp / (tp + fn)\n",
    "    recall = groupper[\"tp\"].sum()/(groupper[\"tp\"].sum()+groupper[\"fn\"].sum())\n",
    "    recall = recall.fillna(0).mean()\n",
    "\n",
    "    return precision, recall\n",
    "\n",
    "compute_cls_metrics(\n",
    "    process_events_recs_for_binary_metrics(\n",
    "        events_train,\n",
    "        events_test, \n",
    "        als_recommendations, \n",
    "        top_k=5\n",
    "    )\n",
    ")"
   ]
  },
  {
   "cell_type": "markdown",
   "id": "6f36b019-3d27-416d-b2b2-88a0e90eef85",
   "metadata": {},
   "source": [
    "# Факультативное задание"
   ]
  },
  {
   "cell_type": "markdown",
   "id": "32d4cb67-10f2-4e79-ba48-8f6b5acf2445",
   "metadata": {},
   "source": [
    "Посчитайте метрики precision@10, recall@10. Сравните их значения со значениями для precision@5, recall@10. Подумайте о причинах таких отличий."
   ]
  },
  {
   "cell_type": "code",
   "execution_count": 134,
   "id": "1839c27e-6b66-4b91-9484-738620e74fe7",
   "metadata": {},
   "outputs": [
    {
     "data": {
      "text/plain": [
       "(0.007581376853347184, 0.014121568795222568)"
      ]
     },
     "execution_count": 134,
     "metadata": {},
     "output_type": "execute_result"
    }
   ],
   "source": [
    "# precision@5, recall@5\n",
    "0.007581376853347184, 0.014121568795222568"
   ]
  },
  {
   "cell_type": "code",
   "execution_count": 135,
   "id": "fc294666-23dd-4835-bc00-a79986e8f704",
   "metadata": {},
   "outputs": [
    {
     "name": "stderr",
     "output_type": "stream",
     "text": [
      "/tmp/ipykernel_1494/3166051426.py:10: SettingWithCopyWarning: \n",
      "A value is trying to be set on a copy of a slice from a DataFrame.\n",
      "Try using .loc[row_indexer,col_indexer] = value instead\n",
      "\n",
      "See the caveats in the documentation: https://pandas.pydata.org/pandas-docs/stable/user_guide/indexing.html#returning-a-view-versus-a-copy\n",
      "  events_test[\"gt\"] = True\n"
     ]
    },
    {
     "name": "stdout",
     "output_type": "stream",
     "text": [
      "Common users: 123223\n"
     ]
    },
    {
     "data": {
      "text/plain": [
       "(0.008732947582837622, 0.03130238527136974)"
      ]
     },
     "execution_count": 135,
     "metadata": {},
     "output_type": "execute_result"
    }
   ],
   "source": [
    "compute_cls_metrics(\n",
    "    process_events_recs_for_binary_metrics(\n",
    "        events_train,\n",
    "        events_test, \n",
    "        als_recommendations, \n",
    "        top_k=10\n",
    "    )\n",
    ")"
   ]
  },
  {
   "cell_type": "code",
   "execution_count": 136,
   "id": "bb90de4b-5898-47dc-8bea-3dd1850f63ef",
   "metadata": {},
   "outputs": [
    {
     "data": {
      "text/plain": [
       "(0.0011515707294904379, 0.017180816476147172)"
      ]
     },
     "execution_count": 136,
     "metadata": {},
     "output_type": "execute_result"
    }
   ],
   "source": [
    "# @10 - @5\n",
    "0.008732947582837622-0.007581376853347184, 0.03130238527136974-0.014121568795222568"
   ]
  },
  {
   "cell_type": "markdown",
   "id": "b38a5dbe-6c83-41b8-ac50-f6d0d98166d6",
   "metadata": {},
   "source": [
    "# Специфичные метрики"
   ]
  },
  {
   "cell_type": "markdown",
   "id": "cfe4bce5-0b07-40e8-af61-3d8912c94ac1",
   "metadata": {},
   "source": [
    "## Задание 1 из 2"
   ]
  },
  {
   "cell_type": "markdown",
   "id": "ef416dc3-3ea4-4745-96ac-b452ef9fc79a",
   "metadata": {},
   "source": [
    "Для рекомендаций, сохранённых в переменной `als_recommendations`, посчитайте покрытие по объектам согласно формуле выше. При этом используйте весь топ-100 рекомендаций."
   ]
  },
  {
   "cell_type": "code",
   "execution_count": 137,
   "id": "9580f60e-a486-4a27-948a-28affaeb3d65",
   "metadata": {},
   "outputs": [
    {
     "data": {
      "text/plain": [
       "user_id               0\n",
       "item_id               0\n",
       "score                 0\n",
       "rating_test    42978006\n",
       "dtype: int64"
      ]
     },
     "execution_count": 137,
     "metadata": {},
     "output_type": "execute_result"
    }
   ],
   "source": [
    "als_recommendations.isna().sum()"
   ]
  },
  {
   "cell_type": "code",
   "execution_count": 138,
   "id": "e642272f-f647-4a1c-902e-889495fdfbb7",
   "metadata": {},
   "outputs": [
    {
     "name": "stdout",
     "output_type": "stream",
     "text": [
      "0.09\n"
     ]
    }
   ],
   "source": [
    "cov_items = als_recommendations.item_id.nunique() / items.item_id.nunique() # ваш код здесь #\n",
    "print(f\"{cov_items:.2f}\") "
   ]
  },
  {
   "cell_type": "code",
   "execution_count": 139,
   "id": "ff8cff70-ef66-4c6d-8008-c6ab6febbbbc",
   "metadata": {},
   "outputs": [
    {
     "data": {
      "text/plain": [
       "0.09362301440709273"
      ]
     },
     "execution_count": 139,
     "metadata": {},
     "output_type": "execute_result"
    }
   ],
   "source": [
    "als_recommendations.item_id.nunique() / items.item_id.nunique()"
   ]
  },
  {
   "cell_type": "code",
   "execution_count": 140,
   "id": "4df8ef11-4f55-45eb-bf8b-aac2f8ee3302",
   "metadata": {},
   "outputs": [
    {
     "data": {
      "text/html": [
       "<div>\n",
       "<style scoped>\n",
       "    .dataframe tbody tr th:only-of-type {\n",
       "        vertical-align: middle;\n",
       "    }\n",
       "\n",
       "    .dataframe tbody tr th {\n",
       "        vertical-align: top;\n",
       "    }\n",
       "\n",
       "    .dataframe thead th {\n",
       "        text-align: right;\n",
       "    }\n",
       "</style>\n",
       "<table border=\"1\" class=\"dataframe\">\n",
       "  <thead>\n",
       "    <tr style=\"text-align: right;\">\n",
       "      <th></th>\n",
       "      <th>count</th>\n",
       "    </tr>\n",
       "    <tr>\n",
       "      <th>item_id</th>\n",
       "      <th></th>\n",
       "    </tr>\n",
       "  </thead>\n",
       "  <tbody>\n",
       "    <tr>\n",
       "      <th>13493463</th>\n",
       "      <td>1</td>\n",
       "    </tr>\n",
       "    <tr>\n",
       "      <th>113791</th>\n",
       "      <td>1</td>\n",
       "    </tr>\n",
       "    <tr>\n",
       "      <th>18775359</th>\n",
       "      <td>1</td>\n",
       "    </tr>\n",
       "    <tr>\n",
       "      <th>3614388</th>\n",
       "      <td>1</td>\n",
       "    </tr>\n",
       "    <tr>\n",
       "      <th>17311453</th>\n",
       "      <td>1</td>\n",
       "    </tr>\n",
       "    <tr>\n",
       "      <th>...</th>\n",
       "      <td>...</td>\n",
       "    </tr>\n",
       "    <tr>\n",
       "      <th>18007564</th>\n",
       "      <td>153187</td>\n",
       "    </tr>\n",
       "    <tr>\n",
       "      <th>19063</th>\n",
       "      <td>159252</td>\n",
       "    </tr>\n",
       "    <tr>\n",
       "      <th>9460487</th>\n",
       "      <td>167468</td>\n",
       "    </tr>\n",
       "    <tr>\n",
       "      <th>11870085</th>\n",
       "      <td>169455</td>\n",
       "    </tr>\n",
       "    <tr>\n",
       "      <th>22557272</th>\n",
       "      <td>171177</td>\n",
       "    </tr>\n",
       "  </tbody>\n",
       "</table>\n",
       "<p>4055 rows × 1 columns</p>\n",
       "</div>"
      ],
      "text/plain": [
       "           count\n",
       "item_id         \n",
       "13493463       1\n",
       "113791         1\n",
       "18775359       1\n",
       "3614388        1\n",
       "17311453       1\n",
       "...          ...\n",
       "18007564  153187\n",
       "19063     159252\n",
       "9460487   167468\n",
       "11870085  169455\n",
       "22557272  171177\n",
       "\n",
       "[4055 rows x 1 columns]"
      ]
     },
     "execution_count": 140,
     "metadata": {},
     "output_type": "execute_result"
    }
   ],
   "source": [
    "als_recommendations.groupby('item_id').agg(count=('user_id', 'count')).sort_values('count')"
   ]
  },
  {
   "cell_type": "code",
   "execution_count": 141,
   "id": "4c4a8c92-71b5-4a81-88d2-03f761fa0829",
   "metadata": {},
   "outputs": [
    {
     "data": {
      "text/plain": [
       "(43058500, 4)"
      ]
     },
     "execution_count": 141,
     "metadata": {},
     "output_type": "execute_result"
    }
   ],
   "source": [
    "als_recommendations.shape"
   ]
  },
  {
   "cell_type": "markdown",
   "id": "b48e3056-e2f4-4edb-a8a8-b3880dcdf26d",
   "metadata": {},
   "source": [
    "## Задание 2 из 2"
   ]
  },
  {
   "cell_type": "markdown",
   "id": "58ad62df-c4f5-4339-a24b-953152e05219",
   "metadata": {},
   "source": [
    "Посчитайте среднее `Novelty@5` для `als_recommendations`. Для этого: \n",
    "- разметьте каждую рекомендацию в `als_recommendations` булевым признаком `read` (False — пользователь не читал книгу, True — пользователь читал книгу), используя `events_train`,\n",
    "- посчитайте `Novelty@5` для каждого пользователя,\n",
    "- посчитайте среднеарифметическое для полученных значений `Novelty@5`.\n",
    "\n",
    "Завершите выполнение такого расчёта с помощью кода ниже."
   ]
  },
  {
   "cell_type": "code",
   "execution_count": 160,
   "id": "1802b223-0c5a-449f-81a6-c052fd70200c",
   "metadata": {},
   "outputs": [
    {
     "name": "stderr",
     "output_type": "stream",
     "text": [
      "/tmp/ipykernel_1494/1450113856.py:2: SettingWithCopyWarning: \n",
      "A value is trying to be set on a copy of a slice from a DataFrame.\n",
      "Try using .loc[row_indexer,col_indexer] = value instead\n",
      "\n",
      "See the caveats in the documentation: https://pandas.pydata.org/pandas-docs/stable/user_guide/indexing.html#returning-a-view-versus-a-copy\n",
      "  events_train[\"read\"] = True\n"
     ]
    },
    {
     "data": {
      "text/plain": [
       "0.607333279143491"
      ]
     },
     "execution_count": 160,
     "metadata": {},
     "output_type": "execute_result"
    }
   ],
   "source": [
    "# разметим каждую рекомендацию признаком read\n",
    "events_train[\"read\"] = True\n",
    "als_recommendations = als_recommendations.merge(\n",
    "    events_train[[\"user_id\", \"item_id\", \"read\"]],\n",
    "    on=[\"user_id\", \"item_id\"],\n",
    "    how=\"left\"\n",
    ")\n",
    "als_recommendations[\"read\"] = als_recommendations[\"read\"].fillna(False).astype(\"bool\")\n",
    "\n",
    "# проставим ранги\n",
    "als_recommendations = als_recommendations.sort_values(by='score', ascending=False)\n",
    "als_recommendations[\"rank\"] = als_recommendations.groupby(\"user_id\").cumcount() + 1\n",
    "\n",
    "# посчитаем novelty по пользователям\n",
    "novelty_5 = (1-als_recommendations.query(\"rank <= 5\").groupby(\"user_id\")[\"read\"].mean())\n",
    "\n",
    "# посчитаем средний novelty\n",
    "novelty_5.mean()"
   ]
  },
  {
   "cell_type": "markdown",
   "id": "3fee2b59-2063-47d4-8919-85580f03f313",
   "metadata": {},
   "source": [
    "# Двухстадийный подход"
   ]
  },
  {
   "cell_type": "markdown",
   "id": "41c97e2f-ca8a-4d04-b0ec-39270e908f75",
   "metadata": {},
   "source": [
    "## Разбиение данных"
   ]
  },
  {
   "cell_type": "markdown",
   "id": "ec729c3d-ab05-4114-8632-2af79c522ff2",
   "metadata": {},
   "source": [
    "**Задание 1 из 6**"
   ]
  },
  {
   "cell_type": "markdown",
   "id": "4b7dbb8d-0de2-49a7-b1da-20fb0c9b6a63",
   "metadata": {},
   "source": [
    "Используем отложенную тестовую часть данных — назовём её `events_test` — для получения двух новых частей данных:\n",
    "- одна, составляющая первые 45 дней, будет использоваться для таргетов,\n",
    "- другая, состоящая из 45 последних дней, будет новой тестовой выборкой.\n",
    "\n",
    "Завершите код так, чтобы в `events_labels` оказалась первая часть данных, а в `events_test_2` — вторая."
   ]
  },
  {
   "cell_type": "code",
   "execution_count": 1,
   "id": "3a1ed1a6-d543-4090-84b9-534dfe6c8870",
   "metadata": {},
   "outputs": [],
   "source": [
    "import pandas as pd\n",
    "events = pd.read_parquet(\"events.par\")\n",
    "\n",
    "train_test_global_time_split_date = pd.to_datetime(\"2017-08-01\")\n",
    "\n",
    "events['started_at'] = pd.to_datetime(events.started_at)\n",
    "events['read_at'] = pd.to_datetime(events.read_at)\n",
    "\n",
    "train_test_global_time_split_idx = events[\"started_at\"] < train_test_global_time_split_date\n",
    "events_train = events[train_test_global_time_split_idx] # ваш код здесь #\n",
    "events_test = events[~train_test_global_time_split_idx]"
   ]
  },
  {
   "cell_type": "code",
   "execution_count": 2,
   "id": "e26df22d-f52c-40f8-87c1-2bd6ef88f3d3",
   "metadata": {},
   "outputs": [],
   "source": [
    "# задаём точку разбиения\n",
    "split_date_for_labels = pd.to_datetime(\"2017-09-15\").date()\n",
    "\n",
    "split_date_for_labels_idx = events_test[\"started_at\"].dt.date < split_date_for_labels\n",
    "events_labels = events_test[split_date_for_labels_idx].copy()\n",
    "events_test_2 = events_test[~split_date_for_labels_idx].copy()"
   ]
  },
  {
   "cell_type": "code",
   "execution_count": 3,
   "id": "968013a7-4b19-43be-aaf6-4022736b72fb",
   "metadata": {},
   "outputs": [
    {
     "data": {
      "text/plain": [
       "99849"
      ]
     },
     "execution_count": 3,
     "metadata": {},
     "output_type": "execute_result"
    }
   ],
   "source": [
    "# Сколько уникальных пользователей есть в events_labels?\n",
    "events_labels.user_id.nunique()"
   ]
  },
  {
   "cell_type": "markdown",
   "id": "50d6d3c1-d821-481e-aa59-44d4068ec1d9",
   "metadata": {},
   "source": [
    "## Подготовка кандидатов для обучения"
   ]
  },
  {
   "cell_type": "markdown",
   "id": "91975df0-3908-4202-8985-0948d21a23b0",
   "metadata": {},
   "source": [
    "Подготовим список кандидатов для обучения ранжирующей модели. В качестве кандидатогенераторов возьмём ALS и контентную модель на основе жанровых предпочтений, известных нам из прошлых уроков. Рекомендации от них были заранее подготовлены и сохранены в файлах als_recommendations.parquet и content_recommendations.parquet в директории candidates/training. Подготовка заключается в объединении списков рекомендаций по совпадению user_id, item_id. "
   ]
  },
  {
   "cell_type": "markdown",
   "id": "ce70a318-2dcc-4b7a-bafa-4ffdb9a14112",
   "metadata": {},
   "source": [
    "**Задание 2 из 6**"
   ]
  },
  {
   "cell_type": "markdown",
   "id": "4ae14bfe-e735-474f-9f67-22f23ce198af",
   "metadata": {},
   "source": [
    "Объедините имеющихся кандидатов по совпадению user_id, item_id в один список."
   ]
  },
  {
   "cell_type": "code",
   "execution_count": 4,
   "id": "07005de7-d2e8-41bf-adb9-920c8a78b0d6",
   "metadata": {},
   "outputs": [],
   "source": [
    "# !mkdir -p candidates/training\n",
    "# !wget https://storage.yandexcloud.net/mle-data/candidates/training/als_recommendations.parquet -P candidates/training\n",
    "# !wget https://storage.yandexcloud.net/mle-data/candidates/training/content_recommendations.parquet -P candidates/training"
   ]
  },
  {
   "cell_type": "code",
   "execution_count": 5,
   "id": "0fce868c-b514-4934-b1fc-b336f4a4e540",
   "metadata": {},
   "outputs": [
    {
     "data": {
      "text/plain": [
       "82993094"
      ]
     },
     "execution_count": 5,
     "metadata": {},
     "output_type": "execute_result"
    }
   ],
   "source": [
    "import pandas as pd\n",
    "# загружаем рекомендации от двух базовых генераторов\n",
    "als_recommendations = pd.read_parquet(\"candidates/training/als_recommendations.parquet\")\n",
    "content_recommendations = pd.read_parquet(\"candidates/training/content_recommendations.parquet\")\n",
    "\n",
    "candidates = pd.merge(\n",
    "    als_recommendations[[\"user_id\", \"item_id\", \"score\"]].rename(columns={\"score\": \"als_score\"}),\n",
    "    content_recommendations[[\"user_id\", \"item_id\", \"score\"]].rename(columns={\"score\": \"cnt_score\"}),\n",
    "    on=['user_id', 'item_id'],\n",
    "    how=\"outer\"\n",
    ")\n",
    "# Сколько записей попало в candidates?\n",
    "candidates.shape[0]"
   ]
  },
  {
   "cell_type": "markdown",
   "id": "54e0af01-e5e0-4d2a-af77-229a3f3e46bb",
   "metadata": {},
   "source": [
    "## Таргеты"
   ]
  },
  {
   "cell_type": "markdown",
   "id": "1dc574de-f086-4661-bbf6-198cf82db46f",
   "metadata": {},
   "source": [
    "Добавим в candidates таргеты, используя историю взаимодействий в events_labels. "
   ]
  },
  {
   "cell_type": "markdown",
   "id": "f8be6aa0-57ab-48f9-a07f-d70ca13bf4fe",
   "metadata": {},
   "source": [
    "Задание 3 из 6\n",
    "\n",
    "Дополните код ниже.\n",
    "1. В candidates добавьте колонку target со значениями:\n",
    "1. 1 для тех item_id, которые пользователь прочитал (положительный пример).\n",
    "1. 0 — для всех остальных (негативный пример).\n",
    "1. В candidates_for_train отберите все положительные примеры, а также не менее четырёх негативных примеров для каждого пользователя в положительных примерах."
   ]
  },
  {
   "cell_type": "code",
   "execution_count": 6,
   "id": "33b7e22e-fd1b-4e15-8700-867e437545be",
   "metadata": {},
   "outputs": [],
   "source": [
    "# добавляем таргет к кандидатам со значением:\n",
    "# — 1 для тех item_id, которые пользователь прочитал\n",
    "# — 0, для всех остальных \n",
    "\n",
    "events_labels[\"target\"] = 1\n",
    "candidates = candidates.merge(\n",
    "    events_labels[[\"user_id\", \"item_id\", \"target\"]], \n",
    "    on=[\"user_id\", \"item_id\"],\n",
    "    how='left'\n",
    ")\n",
    "candidates[\"target\"] = candidates[\"target\"].fillna(0).astype(\"int\")"
   ]
  },
  {
   "cell_type": "code",
   "execution_count": 7,
   "id": "b992fe6e-4ad4-4825-9291-d96bcc884eb3",
   "metadata": {},
   "outputs": [],
   "source": [
    "# в кандидатах оставляем только тех пользователей, у которых есть хотя бы один положительный таргет\n",
    "candidates_to_sample = (\n",
    "    candidates\n",
    "    .groupby(\"user_id\")\n",
    "    .filter(lambda x: x[\"target\"].sum() > 0)\n",
    ")"
   ]
  },
  {
   "cell_type": "code",
   "execution_count": 8,
   "id": "1a9e2dc3-96bf-474a-b6db-77fd2a928026",
   "metadata": {},
   "outputs": [
    {
     "data": {
      "text/html": [
       "<div>\n",
       "<style scoped>\n",
       "    .dataframe tbody tr th:only-of-type {\n",
       "        vertical-align: middle;\n",
       "    }\n",
       "\n",
       "    .dataframe tbody tr th {\n",
       "        vertical-align: top;\n",
       "    }\n",
       "\n",
       "    .dataframe thead th {\n",
       "        text-align: right;\n",
       "    }\n",
       "</style>\n",
       "<table border=\"1\" class=\"dataframe\">\n",
       "  <thead>\n",
       "    <tr style=\"text-align: right;\">\n",
       "      <th></th>\n",
       "      <th>user_id</th>\n",
       "      <th>item_id</th>\n",
       "      <th>als_score</th>\n",
       "      <th>cnt_score</th>\n",
       "      <th>target</th>\n",
       "    </tr>\n",
       "  </thead>\n",
       "  <tbody>\n",
       "    <tr>\n",
       "      <th>615</th>\n",
       "      <td>1000006</td>\n",
       "      <td>29868610</td>\n",
       "      <td>0.286715</td>\n",
       "      <td>NaN</td>\n",
       "      <td>1</td>\n",
       "    </tr>\n",
       "    <tr>\n",
       "      <th>632</th>\n",
       "      <td>1000006</td>\n",
       "      <td>7445</td>\n",
       "      <td>0.230529</td>\n",
       "      <td>NaN</td>\n",
       "      <td>1</td>\n",
       "    </tr>\n",
       "    <tr>\n",
       "      <th>649</th>\n",
       "      <td>1000006</td>\n",
       "      <td>18812405</td>\n",
       "      <td>0.178382</td>\n",
       "      <td>NaN</td>\n",
       "      <td>1</td>\n",
       "    </tr>\n",
       "    <tr>\n",
       "      <th>1998</th>\n",
       "      <td>1000019</td>\n",
       "      <td>37415</td>\n",
       "      <td>0.043595</td>\n",
       "      <td>NaN</td>\n",
       "      <td>1</td>\n",
       "    </tr>\n",
       "    <tr>\n",
       "      <th>2302</th>\n",
       "      <td>1000023</td>\n",
       "      <td>7260188</td>\n",
       "      <td>0.598791</td>\n",
       "      <td>NaN</td>\n",
       "      <td>1</td>\n",
       "    </tr>\n",
       "    <tr>\n",
       "      <th>...</th>\n",
       "      <td>...</td>\n",
       "      <td>...</td>\n",
       "      <td>...</td>\n",
       "      <td>...</td>\n",
       "      <td>...</td>\n",
       "    </tr>\n",
       "    <tr>\n",
       "      <th>82983061</th>\n",
       "      <td>1430476</td>\n",
       "      <td>104378</td>\n",
       "      <td>NaN</td>\n",
       "      <td>0.953409</td>\n",
       "      <td>1</td>\n",
       "    </tr>\n",
       "    <tr>\n",
       "      <th>82983062</th>\n",
       "      <td>1430476</td>\n",
       "      <td>104379</td>\n",
       "      <td>NaN</td>\n",
       "      <td>0.951988</td>\n",
       "      <td>1</td>\n",
       "    </tr>\n",
       "    <tr>\n",
       "      <th>82983080</th>\n",
       "      <td>1430476</td>\n",
       "      <td>816953</td>\n",
       "      <td>NaN</td>\n",
       "      <td>0.940140</td>\n",
       "      <td>1</td>\n",
       "    </tr>\n",
       "    <tr>\n",
       "      <th>82984419</th>\n",
       "      <td>1430490</td>\n",
       "      <td>16301111</td>\n",
       "      <td>NaN</td>\n",
       "      <td>0.955308</td>\n",
       "      <td>1</td>\n",
       "    </tr>\n",
       "    <tr>\n",
       "      <th>82992620</th>\n",
       "      <td>1430579</td>\n",
       "      <td>27272506</td>\n",
       "      <td>NaN</td>\n",
       "      <td>0.897444</td>\n",
       "      <td>1</td>\n",
       "    </tr>\n",
       "  </tbody>\n",
       "</table>\n",
       "<p>58492 rows × 5 columns</p>\n",
       "</div>"
      ],
      "text/plain": [
       "          user_id   item_id  als_score  cnt_score  target\n",
       "615       1000006  29868610   0.286715        NaN       1\n",
       "632       1000006      7445   0.230529        NaN       1\n",
       "649       1000006  18812405   0.178382        NaN       1\n",
       "1998      1000019     37415   0.043595        NaN       1\n",
       "2302      1000023   7260188   0.598791        NaN       1\n",
       "...           ...       ...        ...        ...     ...\n",
       "82983061  1430476    104378        NaN   0.953409       1\n",
       "82983062  1430476    104379        NaN   0.951988       1\n",
       "82983080  1430476    816953        NaN   0.940140       1\n",
       "82984419  1430490  16301111        NaN   0.955308       1\n",
       "82992620  1430579  27272506        NaN   0.897444       1\n",
       "\n",
       "[58492 rows x 5 columns]"
      ]
     },
     "execution_count": 8,
     "metadata": {},
     "output_type": "execute_result"
    }
   ],
   "source": [
    "candidates_to_sample.query(\"target == 1\")"
   ]
  },
  {
   "cell_type": "code",
   "execution_count": 9,
   "id": "12bf13d0-a67a-40e9-96c2-067c4f0b1151",
   "metadata": {},
   "outputs": [],
   "source": [
    "# для каждого пользователя оставляем только 4 негативных примера\n",
    "negatives_per_user = 4\n",
    "candidates_for_train = pd.concat([\n",
    "    candidates_to_sample.query(\"target == 1\"),\n",
    "    candidates_to_sample.query(\"target == 0\") \\\n",
    "        .groupby(\"user_id\") \\\n",
    "        .apply(lambda x: x.sample(negatives_per_user, random_state=0))\n",
    "    ])"
   ]
  },
  {
   "cell_type": "code",
   "execution_count": 10,
   "id": "05824ec9-6989-4259-82d5-35a1212c3d45",
   "metadata": {},
   "outputs": [
    {
     "data": {
      "text/html": [
       "<div>\n",
       "<style scoped>\n",
       "    .dataframe tbody tr th:only-of-type {\n",
       "        vertical-align: middle;\n",
       "    }\n",
       "\n",
       "    .dataframe tbody tr th {\n",
       "        vertical-align: top;\n",
       "    }\n",
       "\n",
       "    .dataframe thead th {\n",
       "        text-align: right;\n",
       "    }\n",
       "</style>\n",
       "<table border=\"1\" class=\"dataframe\">\n",
       "  <thead>\n",
       "    <tr style=\"text-align: right;\">\n",
       "      <th></th>\n",
       "      <th>user_id</th>\n",
       "      <th>item_id</th>\n",
       "      <th>als_score</th>\n",
       "      <th>cnt_score</th>\n",
       "      <th>target</th>\n",
       "    </tr>\n",
       "  </thead>\n",
       "  <tbody>\n",
       "    <tr>\n",
       "      <th>600</th>\n",
       "      <td>1000006</td>\n",
       "      <td>3</td>\n",
       "      <td>0.929247</td>\n",
       "      <td>NaN</td>\n",
       "      <td>0</td>\n",
       "    </tr>\n",
       "    <tr>\n",
       "      <th>601</th>\n",
       "      <td>1000006</td>\n",
       "      <td>15881</td>\n",
       "      <td>0.904462</td>\n",
       "      <td>NaN</td>\n",
       "      <td>0</td>\n",
       "    </tr>\n",
       "    <tr>\n",
       "      <th>602</th>\n",
       "      <td>1000006</td>\n",
       "      <td>5</td>\n",
       "      <td>0.887194</td>\n",
       "      <td>NaN</td>\n",
       "      <td>0</td>\n",
       "    </tr>\n",
       "    <tr>\n",
       "      <th>603</th>\n",
       "      <td>1000006</td>\n",
       "      <td>6</td>\n",
       "      <td>0.872281</td>\n",
       "      <td>NaN</td>\n",
       "      <td>0</td>\n",
       "    </tr>\n",
       "    <tr>\n",
       "      <th>604</th>\n",
       "      <td>1000006</td>\n",
       "      <td>2</td>\n",
       "      <td>0.842997</td>\n",
       "      <td>NaN</td>\n",
       "      <td>0</td>\n",
       "    </tr>\n",
       "    <tr>\n",
       "      <th>...</th>\n",
       "      <td>...</td>\n",
       "      <td>...</td>\n",
       "      <td>...</td>\n",
       "      <td>...</td>\n",
       "      <td>...</td>\n",
       "    </tr>\n",
       "    <tr>\n",
       "      <th>82993089</th>\n",
       "      <td>1430584</td>\n",
       "      <td>31327371</td>\n",
       "      <td>NaN</td>\n",
       "      <td>0.786363</td>\n",
       "      <td>0</td>\n",
       "    </tr>\n",
       "    <tr>\n",
       "      <th>82993090</th>\n",
       "      <td>1430584</td>\n",
       "      <td>32841355</td>\n",
       "      <td>NaN</td>\n",
       "      <td>0.784905</td>\n",
       "      <td>0</td>\n",
       "    </tr>\n",
       "    <tr>\n",
       "      <th>82993091</th>\n",
       "      <td>1430584</td>\n",
       "      <td>33828743</td>\n",
       "      <td>NaN</td>\n",
       "      <td>0.784706</td>\n",
       "      <td>0</td>\n",
       "    </tr>\n",
       "    <tr>\n",
       "      <th>82993092</th>\n",
       "      <td>1430584</td>\n",
       "      <td>34037113</td>\n",
       "      <td>NaN</td>\n",
       "      <td>0.784556</td>\n",
       "      <td>0</td>\n",
       "    </tr>\n",
       "    <tr>\n",
       "      <th>82993093</th>\n",
       "      <td>1430584</td>\n",
       "      <td>34964938</td>\n",
       "      <td>NaN</td>\n",
       "      <td>0.783977</td>\n",
       "      <td>0</td>\n",
       "    </tr>\n",
       "  </tbody>\n",
       "</table>\n",
       "<p>7495908 rows × 5 columns</p>\n",
       "</div>"
      ],
      "text/plain": [
       "          user_id   item_id  als_score  cnt_score  target\n",
       "600       1000006         3   0.929247        NaN       0\n",
       "601       1000006     15881   0.904462        NaN       0\n",
       "602       1000006         5   0.887194        NaN       0\n",
       "603       1000006         6   0.872281        NaN       0\n",
       "604       1000006         2   0.842997        NaN       0\n",
       "...           ...       ...        ...        ...     ...\n",
       "82993089  1430584  31327371        NaN   0.786363       0\n",
       "82993090  1430584  32841355        NaN   0.784905       0\n",
       "82993091  1430584  33828743        NaN   0.784706       0\n",
       "82993092  1430584  34037113        NaN   0.784556       0\n",
       "82993093  1430584  34964938        NaN   0.783977       0\n",
       "\n",
       "[7495908 rows x 5 columns]"
      ]
     },
     "execution_count": 10,
     "metadata": {},
     "output_type": "execute_result"
    }
   ],
   "source": [
    "candidates_to_sample"
   ]
  },
  {
   "cell_type": "markdown",
   "id": "7f885803-5286-4a69-9664-795d5dda61cd",
   "metadata": {},
   "source": [
    "## Обучение модели"
   ]
  },
  {
   "cell_type": "markdown",
   "id": "d7362cad-12e5-433c-b8a3-af54f12bac31",
   "metadata": {},
   "source": [
    "Выше мы подготовили все нужные артефакты для обучения модели ранжирования. Выполните код, чтобы обучить модель."
   ]
  },
  {
   "cell_type": "code",
   "execution_count": 11,
   "id": "851000fb-ab49-4615-b4f4-abcc503d932a",
   "metadata": {},
   "outputs": [
    {
     "name": "stdout",
     "output_type": "stream",
     "text": [
      "0:\tlearn: 0.6526057\ttotal: 64.3ms\tremaining: 1m 4s\n",
      "100:\tlearn: 0.5118959\ttotal: 1.68s\tremaining: 15s\n",
      "200:\tlearn: 0.5111710\ttotal: 3.38s\tremaining: 13.4s\n",
      "300:\tlearn: 0.5105208\ttotal: 5.09s\tremaining: 11.8s\n",
      "400:\tlearn: 0.5100174\ttotal: 6.8s\tremaining: 10.2s\n",
      "500:\tlearn: 0.5095747\ttotal: 8.51s\tremaining: 8.48s\n",
      "600:\tlearn: 0.5091600\ttotal: 10.3s\tremaining: 6.8s\n",
      "700:\tlearn: 0.5087803\ttotal: 12s\tremaining: 5.1s\n",
      "800:\tlearn: 0.5084220\ttotal: 13.7s\tremaining: 3.4s\n",
      "900:\tlearn: 0.5080930\ttotal: 15.4s\tremaining: 1.69s\n",
      "999:\tlearn: 0.5078081\ttotal: 17.1s\tremaining: 0us\n"
     ]
    },
    {
     "data": {
      "text/plain": [
       "<catboost.core.CatBoostClassifier at 0x7f96c6977c70>"
      ]
     },
     "execution_count": 11,
     "metadata": {},
     "output_type": "execute_result"
    }
   ],
   "source": [
    "from catboost import CatBoostClassifier, Pool\n",
    "\n",
    "# задаём имена колонок признаков и таргета\n",
    "features = ['als_score', 'cnt_score']\n",
    "target = 'target'\n",
    "\n",
    "# Create the Pool object\n",
    "train_data = Pool(\n",
    "    data=candidates_for_train[features], \n",
    "    label=candidates_for_train[target]\n",
    ")\n",
    "\n",
    "# инициализируем модель CatBoostClassifier\n",
    "cb_model = CatBoostClassifier(\n",
    "    iterations=1000,\n",
    "    learning_rate=0.1,\n",
    "    depth=6,\n",
    "    loss_function='Logloss',\n",
    "    verbose=100,\n",
    "    random_seed=0\n",
    ")\n",
    "\n",
    "# тренируем модель\n",
    "cb_model.fit(train_data)"
   ]
  },
  {
   "cell_type": "markdown",
   "id": "3b0b5fb5-ae23-41d3-8910-6e700c994ae8",
   "metadata": {},
   "source": [
    "Теперь можно получить финальные рекомендации, используя обученную модель, сохранённую в переменной cb_model."
   ]
  },
  {
   "cell_type": "markdown",
   "id": "fab32629-d29f-48f7-9873-7f3020d5cf43",
   "metadata": {},
   "source": [
    "## Подготовка кандидатов для рекомендаций"
   ]
  },
  {
   "cell_type": "markdown",
   "id": "17b4c0c8-31ac-440d-92e7-516eaa59eabc",
   "metadata": {},
   "source": [
    "Представим, что натренированная модель используется только некоторое время спустя, когда уже появились новые рекомендации (кандидаты) от базовых генераторов, обученных на объединении событий из events_train и events_label. Иными словами, когда события из events_label уже стали частью тренировочного набора данных. Эти новые рекомендации были заранее подготовлены и сохранены в файлах als_recommendations.parquet и content_recommendations.parquet в директории candidates/inference. Используем их для составления нового списка кандидатов candidates_to_rank, который понадобится готовой ранжирующей модели. "
   ]
  },
  {
   "cell_type": "code",
   "execution_count": 12,
   "id": "55c8327c-bab8-47d1-822e-93fa8228400f",
   "metadata": {},
   "outputs": [],
   "source": [
    "# !mkdir -p candidates/inference\n",
    "# !wget https://storage.yandexcloud.net/mle-data/candidates/inference/als_recommendations.parquet -P candidates/inference\n",
    "# !wget https://storage.yandexcloud.net/mle-data/candidates/inference/content_recommendations.parquet -P candidates/inference"
   ]
  },
  {
   "cell_type": "markdown",
   "id": "71184236-376f-4a99-a00c-a1fa37ecb7c7",
   "metadata": {},
   "source": [
    "**Задание 4 из 6**\n",
    "\n",
    "Дополните код ниже так, чтобы в candidates_to_rank попали кандидаты от обоих базовых генераторов подобно тому, как это было сделано для фазы тренировки выше."
   ]
  },
  {
   "cell_type": "code",
   "execution_count": 13,
   "id": "ca200894-c3b0-4d78-9e67-e73e4a61f0b0",
   "metadata": {},
   "outputs": [],
   "source": [
    "# загружаем рекомендации от двух базовых генераторов\n",
    "import pandas as pd\n",
    "als_recommendations_2 = pd.read_parquet(\"candidates/inference/als_recommendations.parquet\")\n",
    "content_recommendations_2 = pd.read_parquet(\"candidates/inference/content_recommendations.parquet\")"
   ]
  },
  {
   "cell_type": "code",
   "execution_count": 14,
   "id": "cadf4748-d8c5-4e8b-a423-da90db889978",
   "metadata": {},
   "outputs": [
    {
     "data": {
      "text/html": [
       "<div>\n",
       "<style scoped>\n",
       "    .dataframe tbody tr th:only-of-type {\n",
       "        vertical-align: middle;\n",
       "    }\n",
       "\n",
       "    .dataframe tbody tr th {\n",
       "        vertical-align: top;\n",
       "    }\n",
       "\n",
       "    .dataframe thead th {\n",
       "        text-align: right;\n",
       "    }\n",
       "</style>\n",
       "<table border=\"1\" class=\"dataframe\">\n",
       "  <thead>\n",
       "    <tr style=\"text-align: right;\">\n",
       "      <th></th>\n",
       "      <th>user_id</th>\n",
       "      <th>item_id</th>\n",
       "      <th>score</th>\n",
       "    </tr>\n",
       "  </thead>\n",
       "  <tbody>\n",
       "    <tr>\n",
       "      <th>0</th>\n",
       "      <td>1000000</td>\n",
       "      <td>3</td>\n",
       "      <td>0.974385</td>\n",
       "    </tr>\n",
       "    <tr>\n",
       "      <th>1</th>\n",
       "      <td>1000000</td>\n",
       "      <td>15881</td>\n",
       "      <td>0.887045</td>\n",
       "    </tr>\n",
       "    <tr>\n",
       "      <th>2</th>\n",
       "      <td>1000000</td>\n",
       "      <td>5</td>\n",
       "      <td>0.858444</td>\n",
       "    </tr>\n",
       "    <tr>\n",
       "      <th>3</th>\n",
       "      <td>1000000</td>\n",
       "      <td>6</td>\n",
       "      <td>0.823560</td>\n",
       "    </tr>\n",
       "    <tr>\n",
       "      <th>4</th>\n",
       "      <td>1000000</td>\n",
       "      <td>2</td>\n",
       "      <td>0.782961</td>\n",
       "    </tr>\n",
       "    <tr>\n",
       "      <th>...</th>\n",
       "      <td>...</td>\n",
       "      <td>...</td>\n",
       "      <td>...</td>\n",
       "    </tr>\n",
       "    <tr>\n",
       "      <th>43058495</th>\n",
       "      <td>1430584</td>\n",
       "      <td>9736930</td>\n",
       "      <td>0.117084</td>\n",
       "    </tr>\n",
       "    <tr>\n",
       "      <th>43058496</th>\n",
       "      <td>1430584</td>\n",
       "      <td>37435</td>\n",
       "      <td>0.115917</td>\n",
       "    </tr>\n",
       "    <tr>\n",
       "      <th>43058497</th>\n",
       "      <td>1430584</td>\n",
       "      <td>28187230</td>\n",
       "      <td>0.115310</td>\n",
       "    </tr>\n",
       "    <tr>\n",
       "      <th>43058498</th>\n",
       "      <td>1430584</td>\n",
       "      <td>29405093</td>\n",
       "      <td>0.114507</td>\n",
       "    </tr>\n",
       "    <tr>\n",
       "      <th>43058499</th>\n",
       "      <td>1430584</td>\n",
       "      <td>17838528</td>\n",
       "      <td>0.114304</td>\n",
       "    </tr>\n",
       "  </tbody>\n",
       "</table>\n",
       "<p>43058500 rows × 3 columns</p>\n",
       "</div>"
      ],
      "text/plain": [
       "          user_id   item_id     score\n",
       "0         1000000         3  0.974385\n",
       "1         1000000     15881  0.887045\n",
       "2         1000000         5  0.858444\n",
       "3         1000000         6  0.823560\n",
       "4         1000000         2  0.782961\n",
       "...           ...       ...       ...\n",
       "43058495  1430584   9736930  0.117084\n",
       "43058496  1430584     37435  0.115917\n",
       "43058497  1430584  28187230  0.115310\n",
       "43058498  1430584  29405093  0.114507\n",
       "43058499  1430584  17838528  0.114304\n",
       "\n",
       "[43058500 rows x 3 columns]"
      ]
     },
     "execution_count": 14,
     "metadata": {},
     "output_type": "execute_result"
    }
   ],
   "source": [
    "als_recommendations_2"
   ]
  },
  {
   "cell_type": "code",
   "execution_count": 15,
   "id": "57e9c44c-cb04-40cf-896c-b0bdfda61a20",
   "metadata": {},
   "outputs": [
    {
     "data": {
      "text/html": [
       "<div>\n",
       "<style scoped>\n",
       "    .dataframe tbody tr th:only-of-type {\n",
       "        vertical-align: middle;\n",
       "    }\n",
       "\n",
       "    .dataframe tbody tr th {\n",
       "        vertical-align: top;\n",
       "    }\n",
       "\n",
       "    .dataframe thead th {\n",
       "        text-align: right;\n",
       "    }\n",
       "</style>\n",
       "<table border=\"1\" class=\"dataframe\">\n",
       "  <thead>\n",
       "    <tr style=\"text-align: right;\">\n",
       "      <th></th>\n",
       "      <th>user_id</th>\n",
       "      <th>item_id</th>\n",
       "      <th>score</th>\n",
       "    </tr>\n",
       "  </thead>\n",
       "  <tbody>\n",
       "    <tr>\n",
       "      <th>0</th>\n",
       "      <td>1000000</td>\n",
       "      <td>1</td>\n",
       "      <td>0.933434</td>\n",
       "    </tr>\n",
       "    <tr>\n",
       "      <th>1</th>\n",
       "      <td>1000000</td>\n",
       "      <td>2</td>\n",
       "      <td>0.925806</td>\n",
       "    </tr>\n",
       "    <tr>\n",
       "      <th>2</th>\n",
       "      <td>1000000</td>\n",
       "      <td>3</td>\n",
       "      <td>0.920225</td>\n",
       "    </tr>\n",
       "    <tr>\n",
       "      <th>3</th>\n",
       "      <td>1000000</td>\n",
       "      <td>5</td>\n",
       "      <td>0.918026</td>\n",
       "    </tr>\n",
       "    <tr>\n",
       "      <th>4</th>\n",
       "      <td>1000000</td>\n",
       "      <td>6</td>\n",
       "      <td>0.916345</td>\n",
       "    </tr>\n",
       "    <tr>\n",
       "      <th>...</th>\n",
       "      <td>...</td>\n",
       "      <td>...</td>\n",
       "      <td>...</td>\n",
       "    </tr>\n",
       "    <tr>\n",
       "      <th>42996095</th>\n",
       "      <td>1430500</td>\n",
       "      <td>31202835</td>\n",
       "      <td>0.902576</td>\n",
       "    </tr>\n",
       "    <tr>\n",
       "      <th>42996096</th>\n",
       "      <td>1430500</td>\n",
       "      <td>31423133</td>\n",
       "      <td>0.902539</td>\n",
       "    </tr>\n",
       "    <tr>\n",
       "      <th>42996097</th>\n",
       "      <td>1430500</td>\n",
       "      <td>32041114</td>\n",
       "      <td>0.901478</td>\n",
       "    </tr>\n",
       "    <tr>\n",
       "      <th>42996098</th>\n",
       "      <td>1430500</td>\n",
       "      <td>32078335</td>\n",
       "      <td>0.901235</td>\n",
       "    </tr>\n",
       "    <tr>\n",
       "      <th>42996099</th>\n",
       "      <td>1430500</td>\n",
       "      <td>32998876</td>\n",
       "      <td>0.898609</td>\n",
       "    </tr>\n",
       "  </tbody>\n",
       "</table>\n",
       "<p>42996100 rows × 3 columns</p>\n",
       "</div>"
      ],
      "text/plain": [
       "          user_id   item_id     score\n",
       "0         1000000         1  0.933434\n",
       "1         1000000         2  0.925806\n",
       "2         1000000         3  0.920225\n",
       "3         1000000         5  0.918026\n",
       "4         1000000         6  0.916345\n",
       "...           ...       ...       ...\n",
       "42996095  1430500  31202835  0.902576\n",
       "42996096  1430500  31423133  0.902539\n",
       "42996097  1430500  32041114  0.901478\n",
       "42996098  1430500  32078335  0.901235\n",
       "42996099  1430500  32998876  0.898609\n",
       "\n",
       "[42996100 rows x 3 columns]"
      ]
     },
     "execution_count": 15,
     "metadata": {},
     "output_type": "execute_result"
    }
   ],
   "source": [
    "content_recommendations_2"
   ]
  },
  {
   "cell_type": "code",
   "execution_count": 16,
   "id": "abfeb345-d1cc-4fac-8250-e657c12de21a",
   "metadata": {},
   "outputs": [],
   "source": [
    "candidates_to_rank = pd.merge(\n",
    "    als_recommendations_2[[\"user_id\", \"item_id\", \"score\"]].rename(columns={\"score\": \"als_score\"}),\n",
    "    content_recommendations_2[[\"user_id\", \"item_id\", \"score\"]].rename(columns={\"score\": \"cnt_score\"}),\n",
    "    on=['user_id', 'item_id'],\n",
    "    how=\"outer\"\n",
    ")"
   ]
  },
  {
   "cell_type": "code",
   "execution_count": 17,
   "id": "d67160a9-df7c-401c-a980-66b85424cef7",
   "metadata": {},
   "outputs": [
    {
     "data": {
      "text/html": [
       "<div>\n",
       "<style scoped>\n",
       "    .dataframe tbody tr th:only-of-type {\n",
       "        vertical-align: middle;\n",
       "    }\n",
       "\n",
       "    .dataframe tbody tr th {\n",
       "        vertical-align: top;\n",
       "    }\n",
       "\n",
       "    .dataframe thead th {\n",
       "        text-align: right;\n",
       "    }\n",
       "</style>\n",
       "<table border=\"1\" class=\"dataframe\">\n",
       "  <thead>\n",
       "    <tr style=\"text-align: right;\">\n",
       "      <th></th>\n",
       "      <th>user_id</th>\n",
       "      <th>item_id</th>\n",
       "      <th>als_score</th>\n",
       "      <th>cnt_score</th>\n",
       "    </tr>\n",
       "  </thead>\n",
       "  <tbody>\n",
       "    <tr>\n",
       "      <th>0</th>\n",
       "      <td>1000000</td>\n",
       "      <td>3</td>\n",
       "      <td>0.974385</td>\n",
       "      <td>0.920225</td>\n",
       "    </tr>\n",
       "    <tr>\n",
       "      <th>1</th>\n",
       "      <td>1000000</td>\n",
       "      <td>15881</td>\n",
       "      <td>0.887045</td>\n",
       "      <td>0.905740</td>\n",
       "    </tr>\n",
       "    <tr>\n",
       "      <th>2</th>\n",
       "      <td>1000000</td>\n",
       "      <td>5</td>\n",
       "      <td>0.858444</td>\n",
       "      <td>0.918026</td>\n",
       "    </tr>\n",
       "    <tr>\n",
       "      <th>3</th>\n",
       "      <td>1000000</td>\n",
       "      <td>6</td>\n",
       "      <td>0.823560</td>\n",
       "      <td>0.916345</td>\n",
       "    </tr>\n",
       "    <tr>\n",
       "      <th>4</th>\n",
       "      <td>1000000</td>\n",
       "      <td>2</td>\n",
       "      <td>0.782961</td>\n",
       "      <td>0.925806</td>\n",
       "    </tr>\n",
       "    <tr>\n",
       "      <th>...</th>\n",
       "      <td>...</td>\n",
       "      <td>...</td>\n",
       "      <td>...</td>\n",
       "      <td>...</td>\n",
       "    </tr>\n",
       "    <tr>\n",
       "      <th>83152908</th>\n",
       "      <td>1430500</td>\n",
       "      <td>31202835</td>\n",
       "      <td>NaN</td>\n",
       "      <td>0.902576</td>\n",
       "    </tr>\n",
       "    <tr>\n",
       "      <th>83152909</th>\n",
       "      <td>1430500</td>\n",
       "      <td>31423133</td>\n",
       "      <td>NaN</td>\n",
       "      <td>0.902539</td>\n",
       "    </tr>\n",
       "    <tr>\n",
       "      <th>83152910</th>\n",
       "      <td>1430500</td>\n",
       "      <td>32041114</td>\n",
       "      <td>NaN</td>\n",
       "      <td>0.901478</td>\n",
       "    </tr>\n",
       "    <tr>\n",
       "      <th>83152911</th>\n",
       "      <td>1430500</td>\n",
       "      <td>32078335</td>\n",
       "      <td>NaN</td>\n",
       "      <td>0.901235</td>\n",
       "    </tr>\n",
       "    <tr>\n",
       "      <th>83152912</th>\n",
       "      <td>1430500</td>\n",
       "      <td>32998876</td>\n",
       "      <td>NaN</td>\n",
       "      <td>0.898609</td>\n",
       "    </tr>\n",
       "  </tbody>\n",
       "</table>\n",
       "<p>83152913 rows × 4 columns</p>\n",
       "</div>"
      ],
      "text/plain": [
       "          user_id   item_id  als_score  cnt_score\n",
       "0         1000000         3   0.974385   0.920225\n",
       "1         1000000     15881   0.887045   0.905740\n",
       "2         1000000         5   0.858444   0.918026\n",
       "3         1000000         6   0.823560   0.916345\n",
       "4         1000000         2   0.782961   0.925806\n",
       "...           ...       ...        ...        ...\n",
       "83152908  1430500  31202835        NaN   0.902576\n",
       "83152909  1430500  31423133        NaN   0.902539\n",
       "83152910  1430500  32041114        NaN   0.901478\n",
       "83152911  1430500  32078335        NaN   0.901235\n",
       "83152912  1430500  32998876        NaN   0.898609\n",
       "\n",
       "[83152913 rows x 4 columns]"
      ]
     },
     "execution_count": 17,
     "metadata": {},
     "output_type": "execute_result"
    }
   ],
   "source": [
    "candidates_to_rank"
   ]
  },
  {
   "cell_type": "code",
   "execution_count": 18,
   "id": "6962232d-6162-4059-b6b6-49d50f694a27",
   "metadata": {},
   "outputs": [
    {
     "name": "stdout",
     "output_type": "stream",
     "text": [
      "14517152\n"
     ]
    }
   ],
   "source": [
    "import pandas as pd\n",
    "events = pd.read_parquet(\"events.par\")\n",
    "\n",
    "train_test_global_time_split_date = pd.to_datetime(\"2017-08-01\")\n",
    "\n",
    "events['started_at'] = pd.to_datetime(events.started_at)\n",
    "events['read_at'] = pd.to_datetime(events.read_at)\n",
    "\n",
    "train_test_global_time_split_idx = events[\"started_at\"] < train_test_global_time_split_date\n",
    "events_train = events[train_test_global_time_split_idx]\n",
    "events_test = events[~train_test_global_time_split_idx]\n",
    "\n",
    "# задаём точку разбиения\n",
    "split_date_for_labels = pd.to_datetime(\"2017-09-15\").date()\n",
    "\n",
    "split_date_for_labels_idx = events_test[\"started_at\"].dt.date < split_date_for_labels\n",
    "events_labels = events_test[split_date_for_labels_idx].copy()\n",
    "events_test_2 = events_test[~split_date_for_labels_idx].copy()\n",
    "\n",
    "\n",
    "# оставляем только тех пользователей, что есть в тестовой выборке, для экономии ресурсов\n",
    "candidates_to_rank = (\n",
    "    candidates_to_rank[candidates_to_rank[\"user_id\"]\n",
    "    .isin(events_test_2[\"user_id\"].drop_duplicates())]\n",
    ")\n",
    "print(len(candidates_to_rank))"
   ]
  },
  {
   "cell_type": "markdown",
   "id": "746be958-60e0-47ea-a82f-a9a4940d813d",
   "metadata": {},
   "source": [
    "## Ранжирование кандидатов для рекомендаций"
   ]
  },
  {
   "cell_type": "markdown",
   "id": "e75db2bb-4ff3-4c51-ac11-6192d6165c86",
   "metadata": {},
   "source": [
    "Применим обученную ранжирующую модель к кандидатам для рекомендаций. Таргет уже не нужен, поскольку мы будем применять модель в режиме инференса.\n",
    "\n",
    "**Задание 5 из 6**\n",
    "\n",
    "Дополните код для того, чтобы вызвать модель и получить для каждого пользователя топ-100 рекомендаций — значение rank нужно выставить не более ста."
   ]
  },
  {
   "cell_type": "code",
   "execution_count": 19,
   "id": "f017f791-01e9-4b73-bef7-05e77dfbfaba",
   "metadata": {},
   "outputs": [
    {
     "name": "stderr",
     "output_type": "stream",
     "text": [
      "/tmp/ipykernel_6394/2375836004.py:4: SettingWithCopyWarning: \n",
      "A value is trying to be set on a copy of a slice from a DataFrame.\n",
      "Try using .loc[row_indexer,col_indexer] = value instead\n",
      "\n",
      "See the caveats in the documentation: https://pandas.pydata.org/pandas-docs/stable/user_guide/indexing.html#returning-a-view-versus-a-copy\n",
      "  candidates_to_rank[\"cb_score\"] = predictions[:, 1]\n"
     ]
    }
   ],
   "source": [
    "inference_data = Pool(data=candidates_to_rank[features])\n",
    "predictions = cb_model.predict_proba(inference_data)\n",
    "\n",
    "candidates_to_rank[\"cb_score\"] = predictions[:, 1]\n",
    "\n",
    "# для каждого пользователя проставляем rank, начиная с 1 — это максимальный cb_score\n",
    "candidates_to_rank = candidates_to_rank.sort_values([\"user_id\", \"cb_score\"], ascending=[True, False])\n",
    "candidates_to_rank[\"rank\"] = (candidates_to_rank.groupby(\"user_id\").cumcount() + 1)\n",
    "\n",
    "max_recommendations_per_user = 100\n",
    "final_recommendations = candidates_to_rank.query('rank <= @max_recommendations_per_user')"
   ]
  },
  {
   "cell_type": "markdown",
   "id": "f06665fc-922d-442c-8de0-b301654ae9e9",
   "metadata": {},
   "source": [
    "## Валидация"
   ]
  },
  {
   "cell_type": "markdown",
   "id": "d9db3367-2bbd-451b-b2d3-3c8d0f30194a",
   "metadata": {},
   "source": [
    "Для валидации применимы всё те же метрики из предыдущих уроков. Считать их можно, как мы уже упоминали, как для базовых генераторов, так и для ранжирующей модели.\n",
    "\n",
    "Подобным же образом при валидации можно визуально просматривать как рекомендации от базовых моделей, так и финальные. Такой ручной просмотр по пользователям может подсказать, какой смысловой вклад вносят те или иные кандидатогенераторы в итоговые рекомендации."
   ]
  },
  {
   "cell_type": "markdown",
   "id": "c8ae02d5-3f53-4a30-a3c7-5c94cbe232c0",
   "metadata": {},
   "source": [
    "**Задание 6 из 6**\n",
    "\n",
    "Посчитайте метрики recall и precision.\n",
    "1. Используйте полученные рекомендации final_recommendations, отложенную тестовую выборку events_test_2, созданные в уроке «Валидация» предыдущей темы.\n",
    "1. А также функции process_events_recs_for_binary_metrics и compute_cls_metrics."
   ]
  },
  {
   "cell_type": "code",
   "execution_count": 20,
   "id": "12e30d8e-6119-4e9f-bf88-d9d943e8ebe3",
   "metadata": {},
   "outputs": [],
   "source": [
    "def process_events_recs_for_binary_metrics(events_train, events_test, recs, top_k=None):\n",
    "\n",
    "    \"\"\"\n",
    "    размечает пары <user_id, item_id> для общего множества пользователей признаками\n",
    "    - gt (ground truth)\n",
    "    - pr (prediction)\n",
    "    top_k: расчёт ведётся только для top k-рекомендаций\n",
    "    \"\"\"\n",
    "\n",
    "    events_test[\"gt\"] = True\n",
    "    common_users = set(events_test[\"user_id\"]) & set(recs[\"user_id\"])\n",
    "\n",
    "    print(f\"Common users: {len(common_users)}\")\n",
    "    \n",
    "    events_for_common_users = events_test[events_test[\"user_id\"].isin(common_users)].copy()\n",
    "    recs_for_common_users = recs[recs[\"user_id\"].isin(common_users)].copy()\n",
    "\n",
    "    recs_for_common_users = recs_for_common_users.sort_values([\"user_id\", \"score\"], ascending=[True, False])\n",
    "\n",
    "    # оставляет только те item_id, которые были в events_train, \n",
    "    # т. к. модель не имела никакой возможности давать рекомендации для новых айтемов\n",
    "    events_for_common_users = events_for_common_users[events_for_common_users[\"item_id\"].isin(events_train[\"item_id\"].unique())]\n",
    "\n",
    "    if top_k is not None:\n",
    "        recs_for_common_users = recs_for_common_users.groupby(\"user_id\").head(top_k)\n",
    "    \n",
    "    events_recs_common = events_for_common_users[[\"user_id\", \"item_id\", \"gt\"]].merge(\n",
    "        recs_for_common_users[[\"user_id\", \"item_id\", \"score\"]], \n",
    "        on=[\"user_id\", \"item_id\"], how=\"outer\")    \n",
    "\n",
    "    events_recs_common[\"gt\"] = events_recs_common[\"gt\"].fillna(False)\n",
    "    events_recs_common[\"pr\"] = ~events_recs_common[\"score\"].isnull()\n",
    "    \n",
    "    events_recs_common[\"tp\"] = events_recs_common[\"gt\"] & events_recs_common[\"pr\"]\n",
    "    events_recs_common[\"fp\"] = ~events_recs_common[\"gt\"] & events_recs_common[\"pr\"]\n",
    "    events_recs_common[\"fn\"] = events_recs_common[\"gt\"] & ~events_recs_common[\"pr\"]\n",
    "\n",
    "    return events_recs_common"
   ]
  },
  {
   "cell_type": "code",
   "execution_count": 21,
   "id": "305ea2e6-48db-497c-bd68-e691880632a6",
   "metadata": {},
   "outputs": [],
   "source": [
    "def compute_cls_metrics(events_recs_for_binary_metric):\n",
    "    \n",
    "    groupper = events_recs_for_binary_metric.groupby(\"user_id\")\n",
    "\n",
    "    # precision = tp / (tp + fp)\n",
    "    precision = groupper[\"tp\"].sum()/(groupper[\"tp\"].sum()+groupper[\"fp\"].sum())\n",
    "    precision = precision.fillna(0).mean()\n",
    "    \n",
    "    # recall = tp / (tp + fn)\n",
    "    recall = groupper[\"tp\"].sum()/(groupper[\"tp\"].sum()+groupper[\"fn\"].sum())\n",
    "    recall = recall.fillna(0).mean()\n",
    "\n",
    "    return precision, recall"
   ]
  },
  {
   "cell_type": "code",
   "execution_count": 22,
   "id": "75eb0395-6429-4684-8112-3ee7b8cb49f6",
   "metadata": {},
   "outputs": [
    {
     "name": "stdout",
     "output_type": "stream",
     "text": [
      "Common users: 75194\n",
      "precision: 0.0063, recall: 0.0153\n"
     ]
    }
   ],
   "source": [
    "events_inference = pd.concat([events_train, events_labels])\n",
    "\n",
    "cb_events_recs_for_binary_metrics_5 = process_events_recs_for_binary_metrics(\n",
    "    events_inference,\n",
    "    events_test_2,\n",
    "    final_recommendations.rename(columns={\"cb_score\": \"score\"}), \n",
    "    top_k=5)\n",
    "\n",
    "cb_precision_5, cb_recall_5 = compute_cls_metrics(cb_events_recs_for_binary_metrics_5)\n",
    "\n",
    "print(f\"precision: {cb_precision_5:.4f}, recall: {cb_recall_5:.4f}\") "
   ]
  },
  {
   "cell_type": "code",
   "execution_count": 23,
   "id": "da0d514d-eaa5-4f9c-b05d-ba656ef57eff",
   "metadata": {},
   "outputs": [],
   "source": [
    "candidates_for_train.to_csv('candidates_for_train.csv', index=False)\n",
    "candidates_to_rank.to_csv('candidates_to_rank.csv', index=False)"
   ]
  },
  {
   "cell_type": "markdown",
   "id": "e61ef77b-ca26-457e-a6ad-99c16e29ddc4",
   "metadata": {},
   "source": [
    "# Как использовать признаки для улучшения рекомендаций"
   ]
  },
  {
   "cell_type": "markdown",
   "id": "3acb6f94-d399-4334-bcc6-d3277704d880",
   "metadata": {},
   "source": [
    "## Признаки объектов"
   ]
  },
  {
   "cell_type": "markdown",
   "id": "7a3d607c-a77c-4219-9f76-d98e9cdea9c9",
   "metadata": {},
   "source": [
    "**Задание 1 из 6**\n",
    "\n",
    "Посчитаем новый признак — «возраст» книги на основе года публикации. Назовём его `age`. \n",
    "\n",
    "Используя обновлённый справочник объектов `items`, добавьте признаки возраста `age` и средней популярности `average_rating` к кандидатам для тренировки модели `candidates_for_train` и к кандидатам для ранжирования `candidates_to_rank`."
   ]
  },
  {
   "cell_type": "code",
   "execution_count": 1,
   "id": "c29a3aab-f79e-4b6d-bfdd-84d1d47da2d7",
   "metadata": {},
   "outputs": [],
   "source": [
    "import numpy as np\n",
    "import pandas as pd\n",
    "items = pd.read_parquet(\"items.par\")\n",
    "candidates_for_train = pd.read_csv('candidates_for_train.csv')\n",
    "candidates_to_rank = pd.read_csv('candidates_to_rank.csv')"
   ]
  },
  {
   "cell_type": "code",
   "execution_count": 2,
   "id": "bf17d453-b098-41f9-9cc6-01530f522c3b",
   "metadata": {},
   "outputs": [],
   "source": [
    "items[\"genre_and_votes\"] = items[\"genre_and_votes\"].apply(eval)\n",
    "# items['genre_and_votes'] = (\n",
    "#     items['genre_and_votes']\n",
    "#     .apply(lambda x: eval(x) if str(x) == 'nan' else x)\n",
    "# )\n",
    "# items['genre_and_votes_dict'] = (\n",
    "#     items['genre_and_votes_dict']\n",
    "#     .apply(lambda x: eval(x) if str(x) == 'nan' else x)\n",
    "# )"
   ]
  },
  {
   "cell_type": "code",
   "execution_count": 3,
   "id": "3ff7d47d-4671-4ca1-be3c-0409dbdba8a8",
   "metadata": {},
   "outputs": [],
   "source": [
    "items[\"age\"] = 2018-items[\"publication_year\"]\n",
    "invalid_age_idx = items[\"age\"] < 0\n",
    "items.loc[invalid_age_idx, \"age\"] = np.nan\n",
    "items[\"age\"] = items[\"age\"].astype(\"float\")"
   ]
  },
  {
   "cell_type": "code",
   "execution_count": 4,
   "id": "f5b0d7a4-bd20-467d-9bb4-81797380a431",
   "metadata": {},
   "outputs": [],
   "source": [
    "candidates_for_train = candidates_for_train.merge(\n",
    "    items[['item_id', 'age', 'average_rating']], on='item_id', how='left'\n",
    ")\n",
    "candidates_to_rank = candidates_to_rank.merge(\n",
    "    items[['item_id', 'age', 'average_rating']], on='item_id', how='left'\n",
    ")"
   ]
  },
  {
   "cell_type": "code",
   "execution_count": 5,
   "id": "bc8721d5-1d2a-4dc2-a829-4c47bb3e534f",
   "metadata": {},
   "outputs": [
    {
     "data": {
      "text/plain": [
       "7.0"
      ]
     },
     "execution_count": 5,
     "metadata": {},
     "output_type": "execute_result"
    }
   ],
   "source": [
    "# Какой медианный возраст книги получился для candidates_to_rank?\n",
    "candidates_to_rank.age.median()"
   ]
  },
  {
   "cell_type": "markdown",
   "id": "c5e54ed3-32ae-4e55-beaa-3a5d5299b587",
   "metadata": {},
   "source": [
    "## Признаки пользователей"
   ]
  },
  {
   "cell_type": "code",
   "execution_count": 6,
   "id": "84c88279-a191-432b-ad15-a5f5dec526dd",
   "metadata": {},
   "outputs": [],
   "source": [
    "import pandas as pd\n",
    "events = pd.read_parquet(\"events.par\")\n",
    "\n",
    "train_test_global_time_split_date = pd.to_datetime(\"2017-08-01\")\n",
    "\n",
    "events['started_at'] = pd.to_datetime(events.started_at)\n",
    "events['read_at'] = pd.to_datetime(events.read_at)\n",
    "\n",
    "train_test_global_time_split_idx = events[\"started_at\"] < train_test_global_time_split_date\n",
    "events_train = events[train_test_global_time_split_idx]\n",
    "events_test = events[~train_test_global_time_split_idx]\n",
    "\n",
    "# задаём точку разбиения\n",
    "split_date_for_labels = pd.to_datetime(\"2017-09-15\").date()\n",
    "\n",
    "split_date_for_labels_idx = events_test[\"started_at\"].dt.date < split_date_for_labels\n",
    "events_labels = events_test[split_date_for_labels_idx].copy()\n",
    "events_test_2 = events_test[~split_date_for_labels_idx].copy()\n",
    "\n",
    "events_inference = pd.concat([events_train, events_labels])"
   ]
  },
  {
   "cell_type": "markdown",
   "id": "c9751a0a-04dc-4fbb-8416-bc05c7c9d39c",
   "metadata": {},
   "source": [
    "**Задание 2 из 6**\n",
    "\n",
    "Используя события в `events_train` и `events_inference`,\n",
    "посчитайте и добавьте признаки пользователей к кандидатам в\n",
    "`candidates_for_train` и `candidates_to_rank` соответственно:\n",
    "- `reading_years` — длительность истории пользователя,\n",
    "- `books_read` — количество книг, прочитанных за всё время,\n",
    "- `books_per_year` — среднее количество прочитанных книг в год,\n",
    "- `rating_avg` — средняя оценка,\n",
    "- `rating_std` — дисперсия оценок."
   ]
  },
  {
   "cell_type": "code",
   "execution_count": 7,
   "id": "fd6daae4-4e44-45ab-94b7-d17a826a3269",
   "metadata": {},
   "outputs": [],
   "source": [
    "def get_user_features(events):\n",
    "    \"\"\" считает пользовательские признаки \"\"\"\n",
    "    \n",
    "    user_features = events.groupby(\"user_id\").agg(\n",
    "        reading_years=(\"started_at\", lambda x: (x.max()-x.min()).days/365.25),\n",
    "        books_read=(\"rating\", \"count\"),\n",
    "        rating_avg=(\"rating\", \"mean\"),\n",
    "        rating_std=(\"rating\", \"std\"))\n",
    "    \n",
    "    user_features[\"books_per_year\"] = user_features[\"books_read\"] / user_features[\"reading_years\"]\n",
    "    \n",
    "    return user_features\n",
    "    \n",
    "user_features_for_train = get_user_features(events_train)\n",
    "candidates_for_train = candidates_for_train.merge(\n",
    "    user_features_for_train, on=\"user_id\", how=\"left\"\n",
    ")"
   ]
  },
  {
   "cell_type": "code",
   "execution_count": 8,
   "id": "1aaee88d-4c24-4a60-8927-db75a5aac986",
   "metadata": {},
   "outputs": [],
   "source": [
    "# оставим только тех пользователей, что есть в тесте, для экономии ресурсов\n",
    "events_inference = pd.concat([events_train, events_labels])\n",
    "events_inference = (\n",
    "    events_inference[events_inference[\"user_id\"].isin(events_test[\"user_id\"].drop_duplicates())]\n",
    ")"
   ]
  },
  {
   "cell_type": "code",
   "execution_count": 9,
   "id": "a358fab1-085c-4b2e-9ee2-6dbe13036cb6",
   "metadata": {},
   "outputs": [],
   "source": [
    "user_features_for_ranking = get_user_features(events_inference) # ваш код здесь #"
   ]
  },
  {
   "cell_type": "code",
   "execution_count": 10,
   "id": "266424e7-1d81-4ec3-b2e3-82cba8dff37b",
   "metadata": {},
   "outputs": [],
   "source": [
    "candidates_to_rank = candidates_to_rank.merge( # ваш код здесь #\n",
    "    user_features_for_ranking, on=\"user_id\", how=\"left\"\n",
    ")"
   ]
  },
  {
   "cell_type": "code",
   "execution_count": 11,
   "id": "a52c0397-c579-4363-b3a6-f6d3924efd2b",
   "metadata": {},
   "outputs": [
    {
     "data": {
      "text/plain": [
       "32.0"
      ]
     },
     "execution_count": 11,
     "metadata": {},
     "output_type": "execute_result"
    }
   ],
   "source": [
    "# Какой вышла медиана количества прочитанных книг по всем кандидатам в candidates_for_train?\n",
    "candidates_for_train.books_read.median()"
   ]
  },
  {
   "cell_type": "markdown",
   "id": "ec2639fa-9a4e-404f-b424-11bec77e494e",
   "metadata": {},
   "source": [
    "## Парные признаки"
   ]
  },
  {
   "cell_type": "code",
   "execution_count": 12,
   "id": "7d2dfc13-22f7-40b1-a3b1-c9e55eb52833",
   "metadata": {},
   "outputs": [],
   "source": [
    "def get_genres(items):\n",
    "\n",
    "    \"\"\" \n",
    "    извлекает список жанров по всем книгам, \n",
    "    подсчитывает долю голосов по каждому их них\n",
    "    \"\"\"\n",
    "    \n",
    "    genres_counter = {}\n",
    "    \n",
    "    for k, v, in items.iterrows():\n",
    "        genre_and_votes = v['genre_and_votes_dict'] # ваш код здесь #\n",
    "        if genre_and_votes is None or not isinstance(genre_and_votes, dict):\n",
    "            continue\n",
    "        for genre, votes in genre_and_votes.items():\n",
    "            # увеличиваем счётчик жанров\n",
    "            try:\n",
    "                genres_counter[genre] += votes if votes else 0 # ваш код здесь #\n",
    "            except KeyError:\n",
    "                genres_counter[genre] = 0\n",
    "\n",
    "    genres = pd.Series(genres_counter, name=\"votes\")\n",
    "    genres = genres.to_frame()\n",
    "    genres = genres.reset_index().rename(columns={\"index\": \"name\"})\n",
    "    genres.index.name = \"genre_id\"\n",
    "    \n",
    "    return genres"
   ]
  },
  {
   "cell_type": "code",
   "execution_count": 13,
   "id": "0e265429-0acc-4006-b9a5-9c3fd3cb8d71",
   "metadata": {},
   "outputs": [
    {
     "name": "stderr",
     "output_type": "stream",
     "text": [
      "/tmp/ipykernel_8229/1277147377.py:8: SettingWithCopyWarning: \n",
      "A value is trying to be set on a copy of a slice from a DataFrame.\n",
      "Try using .loc[row_indexer,col_indexer] = value instead\n",
      "\n",
      "See the caveats in the documentation: https://pandas.pydata.org/pandas-docs/stable/user_guide/indexing.html#returning-a-view-versus-a-copy\n",
      "  events_train[\"user_id_enc\"] = user_encoder.transform(events_train[\"user_id\"])\n",
      "/tmp/ipykernel_8229/1277147377.py:9: SettingWithCopyWarning: \n",
      "A value is trying to be set on a copy of a slice from a DataFrame.\n",
      "Try using .loc[row_indexer,col_indexer] = value instead\n",
      "\n",
      "See the caveats in the documentation: https://pandas.pydata.org/pandas-docs/stable/user_guide/indexing.html#returning-a-view-versus-a-copy\n",
      "  events_test[\"user_id_enc\"] =  user_encoder.transform(events_test[\"user_id\"])\n"
     ]
    }
   ],
   "source": [
    "import scipy\n",
    "import sklearn.preprocessing\n",
    "\n",
    "# перекодируем идентификаторы пользователей: \n",
    "# из имеющихся в последовательность 0, 1, 2, ...\n",
    "user_encoder = sklearn.preprocessing.LabelEncoder()\n",
    "user_encoder.fit(events[\"user_id\"])\n",
    "events_train[\"user_id_enc\"] = user_encoder.transform(events_train[\"user_id\"])\n",
    "events_test[\"user_id_enc\"] =  user_encoder.transform(events_test[\"user_id\"])\n",
    "\n",
    "# перекодируем идентификаторы объектов: \n",
    "# из имеющихся в последовательность 0, 1, 2, ...\n",
    "item_encoder = sklearn.preprocessing.LabelEncoder()\n",
    "item_encoder.fit(items[\"item_id\"])\n",
    "items[\"item_id_enc\"] = item_encoder.transform(items[\"item_id\"])"
   ]
  },
  {
   "cell_type": "code",
   "execution_count": 14,
   "id": "7e66e351-604b-4096-9e10-20d0c3dcb500",
   "metadata": {},
   "outputs": [],
   "source": [
    "def get_item2genre_matrix(genres, items):\n",
    "\n",
    "    genre_names_to_id = genres.reset_index().set_index(\"name\")[\"genre_id\"].to_dict()\n",
    "    \n",
    "    # list to build CSR matrix\n",
    "    genres_csr_data = []\n",
    "    genres_csr_row_idx = []\n",
    "    genres_csr_col_idx = []\n",
    "    \n",
    "    for item_idx, (k, v) in enumerate(items.iterrows()):\n",
    "        if v[\"genre_and_votes\"] is None:\n",
    "            continue\n",
    "        for genre_name, votes in v[\"genre_and_votes\"].items():\n",
    "            genre_idx = genre_names_to_id[genre_name]\n",
    "            genres_csr_data.append(int(votes))\n",
    "            genres_csr_row_idx.append(item_idx)\n",
    "            genres_csr_col_idx.append(genre_idx)\n",
    "\n",
    "    genres_csr = scipy.sparse.csr_matrix((genres_csr_data, (genres_csr_row_idx, genres_csr_col_idx)), shape=(len(items), len(genres)))\n",
    "    # нормализуем, чтобы сумма оценок принадлежности к жанру была равна 1\n",
    "    genres_csr = sklearn.preprocessing.normalize(genres_csr, norm='l1', axis=1)\n",
    "    \n",
    "    return genres_csr"
   ]
  },
  {
   "cell_type": "code",
   "execution_count": 15,
   "id": "c31caa65-cc27-486b-a1eb-791efb2dc72c",
   "metadata": {},
   "outputs": [],
   "source": [
    "items = items.sort_values(by=\"item_id_enc\")\n",
    "genres = get_genres(items)\n",
    "all_items_genres_csr = get_item2genre_matrix(genres, items)"
   ]
  },
  {
   "cell_type": "markdown",
   "id": "7c0ec6e4-9eee-4f3a-97d8-a8d6b99ca80f",
   "metadata": {},
   "source": [
    "**Задание 3 из 6**\n",
    "\n",
    "Используя истории `events_train` и `events_inference`, а также ранее полученные артефакты по жанрам книг — словарь жанров `genres`, оценки книг по жанрам `all_items_genres_csr` — добавьте парные признаки, по одному на каждый жанр, которые совместно показывают, какие жанры предпочитает пользователь.\n",
    "\n",
    "Жанровость в данном случае — численный коэффициент принадлежности книги к жанру. Например, если пользователь прочитал три книги, которые с весами 0.3, 0.2, 0.4 из  all_items_genres_csr относятся к Fantasy, то интерес пользователя к Fantasy составляет среднее этих трёх оценок — 0.3.\n",
    "\n",
    "Для экономии ресурсов возьмём не все жанры, а десять наиболее популярных. Все остальные отметим как не вошедшие в топ и обозначим как others. "
   ]
  },
  {
   "cell_type": "code",
   "execution_count": 16,
   "id": "d8864adf-985f-4915-9bca-758bbf14ba60",
   "metadata": {},
   "outputs": [],
   "source": [
    "# определяем индексы топ-10 жанров и всех остальных\n",
    "genres_top_k = 10\n",
    "genres_top_idx = genres.sort_values(\"votes\", ascending=False).head(genres_top_k).index\n",
    "genres_others_idx = list(set(genres.index) - set(genres_top_idx))\n",
    "\n",
    "genres_top_columns = [f\"genre_{id}\" for id in genres_top_idx]\n",
    "genres_others_column = \"genre_others\"\n",
    "genre_columns = genres_top_columns + [genres_others_column] # ваш код здесь #"
   ]
  },
  {
   "cell_type": "code",
   "execution_count": 17,
   "id": "5ca6b28c-9bad-4799-8f9b-e6a1d183ba0f",
   "metadata": {},
   "outputs": [
    {
     "data": {
      "text/html": [
       "<div>\n",
       "<style scoped>\n",
       "    .dataframe tbody tr th:only-of-type {\n",
       "        vertical-align: middle;\n",
       "    }\n",
       "\n",
       "    .dataframe tbody tr th {\n",
       "        vertical-align: top;\n",
       "    }\n",
       "\n",
       "    .dataframe thead th {\n",
       "        text-align: right;\n",
       "    }\n",
       "</style>\n",
       "<table border=\"1\" class=\"dataframe\">\n",
       "  <thead>\n",
       "    <tr style=\"text-align: right;\">\n",
       "      <th></th>\n",
       "      <th>item_id_enc</th>\n",
       "      <th>genre_285</th>\n",
       "      <th>genre_308</th>\n",
       "      <th>genre_132</th>\n",
       "      <th>genre_800</th>\n",
       "      <th>genre_640</th>\n",
       "      <th>genre_535</th>\n",
       "      <th>genre_378</th>\n",
       "      <th>genre_512</th>\n",
       "      <th>genre_665</th>\n",
       "      <th>genre_296</th>\n",
       "      <th>genre_others</th>\n",
       "    </tr>\n",
       "  </thead>\n",
       "  <tbody>\n",
       "    <tr>\n",
       "      <th>0</th>\n",
       "      <td>0</td>\n",
       "      <td>0.524988</td>\n",
       "      <td>0.148026</td>\n",
       "      <td>0.014064</td>\n",
       "      <td>0.170655</td>\n",
       "      <td>0.000000</td>\n",
       "      <td>0.0</td>\n",
       "      <td>0.000000</td>\n",
       "      <td>0.000000</td>\n",
       "      <td>0.0</td>\n",
       "      <td>0.0</td>\n",
       "      <td>0.142267</td>\n",
       "    </tr>\n",
       "    <tr>\n",
       "      <th>1</th>\n",
       "      <td>1</td>\n",
       "      <td>0.621931</td>\n",
       "      <td>0.174786</td>\n",
       "      <td>0.000000</td>\n",
       "      <td>0.203283</td>\n",
       "      <td>0.000000</td>\n",
       "      <td>0.0</td>\n",
       "      <td>0.000000</td>\n",
       "      <td>0.000000</td>\n",
       "      <td>0.0</td>\n",
       "      <td>0.0</td>\n",
       "      <td>0.000000</td>\n",
       "    </tr>\n",
       "    <tr>\n",
       "      <th>2</th>\n",
       "      <td>2</td>\n",
       "      <td>0.514586</td>\n",
       "      <td>0.154140</td>\n",
       "      <td>0.022797</td>\n",
       "      <td>0.153916</td>\n",
       "      <td>0.000000</td>\n",
       "      <td>0.0</td>\n",
       "      <td>0.000000</td>\n",
       "      <td>0.000000</td>\n",
       "      <td>0.0</td>\n",
       "      <td>0.0</td>\n",
       "      <td>0.154561</td>\n",
       "    </tr>\n",
       "    <tr>\n",
       "      <th>3</th>\n",
       "      <td>3</td>\n",
       "      <td>0.518708</td>\n",
       "      <td>0.148702</td>\n",
       "      <td>0.015347</td>\n",
       "      <td>0.160382</td>\n",
       "      <td>0.000000</td>\n",
       "      <td>0.0</td>\n",
       "      <td>0.000000</td>\n",
       "      <td>0.000000</td>\n",
       "      <td>0.0</td>\n",
       "      <td>0.0</td>\n",
       "      <td>0.156860</td>\n",
       "    </tr>\n",
       "    <tr>\n",
       "      <th>4</th>\n",
       "      <td>4</td>\n",
       "      <td>0.623564</td>\n",
       "      <td>0.176369</td>\n",
       "      <td>0.000000</td>\n",
       "      <td>0.200067</td>\n",
       "      <td>0.000000</td>\n",
       "      <td>0.0</td>\n",
       "      <td>0.000000</td>\n",
       "      <td>0.000000</td>\n",
       "      <td>0.0</td>\n",
       "      <td>0.0</td>\n",
       "      <td>0.000000</td>\n",
       "    </tr>\n",
       "    <tr>\n",
       "      <th>...</th>\n",
       "      <td>...</td>\n",
       "      <td>...</td>\n",
       "      <td>...</td>\n",
       "      <td>...</td>\n",
       "      <td>...</td>\n",
       "      <td>...</td>\n",
       "      <td>...</td>\n",
       "      <td>...</td>\n",
       "      <td>...</td>\n",
       "      <td>...</td>\n",
       "      <td>...</td>\n",
       "      <td>...</td>\n",
       "    </tr>\n",
       "    <tr>\n",
       "      <th>43307</th>\n",
       "      <td>43307</td>\n",
       "      <td>0.000000</td>\n",
       "      <td>0.000000</td>\n",
       "      <td>0.000000</td>\n",
       "      <td>0.000000</td>\n",
       "      <td>0.413043</td>\n",
       "      <td>0.0</td>\n",
       "      <td>0.000000</td>\n",
       "      <td>0.000000</td>\n",
       "      <td>0.0</td>\n",
       "      <td>0.0</td>\n",
       "      <td>0.586957</td>\n",
       "    </tr>\n",
       "    <tr>\n",
       "      <th>43308</th>\n",
       "      <td>43308</td>\n",
       "      <td>0.000000</td>\n",
       "      <td>0.000000</td>\n",
       "      <td>0.000000</td>\n",
       "      <td>0.000000</td>\n",
       "      <td>0.000000</td>\n",
       "      <td>0.0</td>\n",
       "      <td>0.000000</td>\n",
       "      <td>0.000000</td>\n",
       "      <td>0.0</td>\n",
       "      <td>0.0</td>\n",
       "      <td>1.000000</td>\n",
       "    </tr>\n",
       "    <tr>\n",
       "      <th>43309</th>\n",
       "      <td>43309</td>\n",
       "      <td>0.000000</td>\n",
       "      <td>0.444444</td>\n",
       "      <td>0.000000</td>\n",
       "      <td>0.000000</td>\n",
       "      <td>0.000000</td>\n",
       "      <td>0.0</td>\n",
       "      <td>0.000000</td>\n",
       "      <td>0.333333</td>\n",
       "      <td>0.0</td>\n",
       "      <td>0.0</td>\n",
       "      <td>0.222222</td>\n",
       "    </tr>\n",
       "    <tr>\n",
       "      <th>43310</th>\n",
       "      <td>43310</td>\n",
       "      <td>0.000000</td>\n",
       "      <td>0.000000</td>\n",
       "      <td>0.000000</td>\n",
       "      <td>0.000000</td>\n",
       "      <td>0.769231</td>\n",
       "      <td>0.0</td>\n",
       "      <td>0.000000</td>\n",
       "      <td>0.000000</td>\n",
       "      <td>0.0</td>\n",
       "      <td>0.0</td>\n",
       "      <td>0.230769</td>\n",
       "    </tr>\n",
       "    <tr>\n",
       "      <th>43311</th>\n",
       "      <td>43311</td>\n",
       "      <td>0.469046</td>\n",
       "      <td>0.000000</td>\n",
       "      <td>0.000000</td>\n",
       "      <td>0.243726</td>\n",
       "      <td>0.000000</td>\n",
       "      <td>0.0</td>\n",
       "      <td>0.088678</td>\n",
       "      <td>0.000000</td>\n",
       "      <td>0.0</td>\n",
       "      <td>0.0</td>\n",
       "      <td>0.198550</td>\n",
       "    </tr>\n",
       "  </tbody>\n",
       "</table>\n",
       "<p>43312 rows × 12 columns</p>\n",
       "</div>"
      ],
      "text/plain": [
       "       item_id_enc  genre_285  genre_308  genre_132  genre_800  genre_640  \\\n",
       "0                0   0.524988   0.148026   0.014064   0.170655   0.000000   \n",
       "1                1   0.621931   0.174786   0.000000   0.203283   0.000000   \n",
       "2                2   0.514586   0.154140   0.022797   0.153916   0.000000   \n",
       "3                3   0.518708   0.148702   0.015347   0.160382   0.000000   \n",
       "4                4   0.623564   0.176369   0.000000   0.200067   0.000000   \n",
       "...            ...        ...        ...        ...        ...        ...   \n",
       "43307        43307   0.000000   0.000000   0.000000   0.000000   0.413043   \n",
       "43308        43308   0.000000   0.000000   0.000000   0.000000   0.000000   \n",
       "43309        43309   0.000000   0.444444   0.000000   0.000000   0.000000   \n",
       "43310        43310   0.000000   0.000000   0.000000   0.000000   0.769231   \n",
       "43311        43311   0.469046   0.000000   0.000000   0.243726   0.000000   \n",
       "\n",
       "       genre_535  genre_378  genre_512  genre_665  genre_296  genre_others  \n",
       "0            0.0   0.000000   0.000000        0.0        0.0      0.142267  \n",
       "1            0.0   0.000000   0.000000        0.0        0.0      0.000000  \n",
       "2            0.0   0.000000   0.000000        0.0        0.0      0.154561  \n",
       "3            0.0   0.000000   0.000000        0.0        0.0      0.156860  \n",
       "4            0.0   0.000000   0.000000        0.0        0.0      0.000000  \n",
       "...          ...        ...        ...        ...        ...           ...  \n",
       "43307        0.0   0.000000   0.000000        0.0        0.0      0.586957  \n",
       "43308        0.0   0.000000   0.000000        0.0        0.0      1.000000  \n",
       "43309        0.0   0.000000   0.333333        0.0        0.0      0.222222  \n",
       "43310        0.0   0.000000   0.000000        0.0        0.0      0.230769  \n",
       "43311        0.0   0.088678   0.000000        0.0        0.0      0.198550  \n",
       "\n",
       "[43312 rows x 12 columns]"
      ]
     },
     "execution_count": 17,
     "metadata": {},
     "output_type": "execute_result"
    }
   ],
   "source": [
    "# составляем таблицу принадлежности книг к жанрам\n",
    "item_genres = (\n",
    "    pd.concat([\n",
    "        # топ жанров\n",
    "            pd.DataFrame(all_items_genres_csr[:, i].toarray(), columns=[c])\n",
    "            for i, c in zip(genres_top_idx, genres_top_columns)\n",
    "        ] + [\n",
    "        #, все остальные жанры\n",
    "        pd.DataFrame(all_items_genres_csr[:, genres_others_idx].sum(axis=1), columns=[genres_others_column])\n",
    "        ],\n",
    "        axis=1)\n",
    "    .reset_index()\n",
    "    .rename(columns={\"index\": \"item_id_enc\"})\n",
    ")\n",
    "item_genres"
   ]
  },
  {
   "cell_type": "code",
   "execution_count": 18,
   "id": "db373522-8311-46b7-a61a-a8721b829f2d",
   "metadata": {},
   "outputs": [],
   "source": [
    "# объединяем информацию принадлежности книг к жанрам с основной информацией о книгах\n",
    "items = items.merge(item_genres, on=\"item_id_enc\", how=\"left\")\n",
    "\n",
    "def get_user_genres(events, items, item_genre_columns):\n",
    "    user_genres = (\n",
    "        events\n",
    "        .merge(items[[\"item_id\"] + item_genre_columns], on=\"item_id\", how=\"left\")\n",
    "        .groupby(\"user_id\")[item_genre_columns].mean()\n",
    "    )\n",
    "    return user_genres\n",
    "    \n",
    "user_genres_for_train = get_user_genres(events_train, items, genre_columns) # ваш код здесь #\n",
    "candidates_for_train = candidates_for_train.merge(user_genres_for_train, on=\"user_id\", how=\"left\")\n",
    "\n",
    "user_genres_for_ranking = get_user_genres(events_inference, items, genre_columns)\n",
    "candidates_to_rank = candidates_to_rank.merge(user_genres_for_ranking, on=\"user_id\", how=\"left\")"
   ]
  },
  {
   "cell_type": "markdown",
   "id": "1ddd03e3-ed04-4808-a0f6-26d72e9337b4",
   "metadata": {},
   "source": [
    "Какой получилось медиана жанровости книг в candidates_for_train для жанра “Romance”? Ответ округлите до сотых."
   ]
  },
  {
   "cell_type": "code",
   "execution_count": 19,
   "id": "42a9945d-d367-40b4-ab61-53c301af22f7",
   "metadata": {
    "scrolled": true
   },
   "outputs": [
    {
     "data": {
      "text/html": [
       "<div>\n",
       "<style scoped>\n",
       "    .dataframe tbody tr th:only-of-type {\n",
       "        vertical-align: middle;\n",
       "    }\n",
       "\n",
       "    .dataframe tbody tr th {\n",
       "        vertical-align: top;\n",
       "    }\n",
       "\n",
       "    .dataframe thead th {\n",
       "        text-align: right;\n",
       "    }\n",
       "</style>\n",
       "<table border=\"1\" class=\"dataframe\">\n",
       "  <thead>\n",
       "    <tr style=\"text-align: right;\">\n",
       "      <th></th>\n",
       "      <th>name</th>\n",
       "      <th>votes</th>\n",
       "    </tr>\n",
       "    <tr>\n",
       "      <th>genre_id</th>\n",
       "      <th></th>\n",
       "      <th></th>\n",
       "    </tr>\n",
       "  </thead>\n",
       "  <tbody>\n",
       "    <tr>\n",
       "      <th>92</th>\n",
       "      <td>Category Romance-Harlequin</td>\n",
       "      <td>472.0</td>\n",
       "    </tr>\n",
       "    <tr>\n",
       "      <th>93</th>\n",
       "      <td>Category Romance-Love Inspired</td>\n",
       "      <td>113.0</td>\n",
       "    </tr>\n",
       "    <tr>\n",
       "      <th>94</th>\n",
       "      <td>Category Romance-Loveswept</td>\n",
       "      <td>3.0</td>\n",
       "    </tr>\n",
       "    <tr>\n",
       "      <th>95</th>\n",
       "      <td>Category Romance-Mills and Boon</td>\n",
       "      <td>4.0</td>\n",
       "    </tr>\n",
       "    <tr>\n",
       "      <th>96</th>\n",
       "      <td>Category Romance-Silhouette</td>\n",
       "      <td>2.0</td>\n",
       "    </tr>\n",
       "    <tr>\n",
       "      <th>97</th>\n",
       "      <td>Category Romance-Traditional Regency</td>\n",
       "      <td>4.0</td>\n",
       "    </tr>\n",
       "    <tr>\n",
       "      <th>152</th>\n",
       "      <td>Contemporary Romance-Sports Romance</td>\n",
       "      <td>11467.0</td>\n",
       "    </tr>\n",
       "    <tr>\n",
       "      <th>348</th>\n",
       "      <td>Gothic-Gothic Romance</td>\n",
       "      <td>161.0</td>\n",
       "    </tr>\n",
       "    <tr>\n",
       "      <th>358</th>\n",
       "      <td>Harlequin-Harlequin Romance</td>\n",
       "      <td>2.0</td>\n",
       "    </tr>\n",
       "    <tr>\n",
       "      <th>373</th>\n",
       "      <td>Historical Romance-Medieval Romance</td>\n",
       "      <td>515.0</td>\n",
       "    </tr>\n",
       "    <tr>\n",
       "      <th>374</th>\n",
       "      <td>Historical Romance-Regency Romance</td>\n",
       "      <td>3751.0</td>\n",
       "    </tr>\n",
       "    <tr>\n",
       "      <th>375</th>\n",
       "      <td>Historical Romance-Victorian Romance</td>\n",
       "      <td>5.0</td>\n",
       "    </tr>\n",
       "    <tr>\n",
       "      <th>376</th>\n",
       "      <td>Historical Romance-Western Historical Romance</td>\n",
       "      <td>29.0</td>\n",
       "    </tr>\n",
       "    <tr>\n",
       "      <th>459</th>\n",
       "      <td>M M Romance-M M Fantasy</td>\n",
       "      <td>55.0</td>\n",
       "    </tr>\n",
       "    <tr>\n",
       "      <th>460</th>\n",
       "      <td>M M Romance-M M Historical Romance</td>\n",
       "      <td>2.0</td>\n",
       "    </tr>\n",
       "    <tr>\n",
       "      <th>461</th>\n",
       "      <td>M M Romance-M M Mystery</td>\n",
       "      <td>2.0</td>\n",
       "    </tr>\n",
       "    <tr>\n",
       "      <th>462</th>\n",
       "      <td>M M Romance-M M Paranormal</td>\n",
       "      <td>4.0</td>\n",
       "    </tr>\n",
       "    <tr>\n",
       "      <th>463</th>\n",
       "      <td>M M Romance-M M Science Fiction</td>\n",
       "      <td>2.0</td>\n",
       "    </tr>\n",
       "    <tr>\n",
       "      <th>467</th>\n",
       "      <td>Manga-Manga Romance</td>\n",
       "      <td>21.0</td>\n",
       "    </tr>\n",
       "    <tr>\n",
       "      <th>494</th>\n",
       "      <td>Military Fiction-Military Romance</td>\n",
       "      <td>300.0</td>\n",
       "    </tr>\n",
       "    <tr>\n",
       "      <th>532</th>\n",
       "      <td>New Adult-New Adult Romance</td>\n",
       "      <td>67.0</td>\n",
       "    </tr>\n",
       "    <tr>\n",
       "      <th>640</th>\n",
       "      <td>Romance</td>\n",
       "      <td>2422690.0</td>\n",
       "    </tr>\n",
       "    <tr>\n",
       "      <th>641</th>\n",
       "      <td>Romance-African American Romance</td>\n",
       "      <td>25.0</td>\n",
       "    </tr>\n",
       "    <tr>\n",
       "      <th>642</th>\n",
       "      <td>Romance-Category Romance</td>\n",
       "      <td>28.0</td>\n",
       "    </tr>\n",
       "    <tr>\n",
       "      <th>643</th>\n",
       "      <td>Romance-Christian Romance</td>\n",
       "      <td>2077.0</td>\n",
       "    </tr>\n",
       "    <tr>\n",
       "      <th>644</th>\n",
       "      <td>Romance-Clean Romance</td>\n",
       "      <td>739.0</td>\n",
       "    </tr>\n",
       "    <tr>\n",
       "      <th>645</th>\n",
       "      <td>Romance-Contemporary Romance</td>\n",
       "      <td>194459.0</td>\n",
       "    </tr>\n",
       "    <tr>\n",
       "      <th>646</th>\n",
       "      <td>Romance-Erotic Romance</td>\n",
       "      <td>14367.0</td>\n",
       "    </tr>\n",
       "    <tr>\n",
       "      <th>647</th>\n",
       "      <td>Romance-Fantasy Romance</td>\n",
       "      <td>4123.0</td>\n",
       "    </tr>\n",
       "    <tr>\n",
       "      <th>648</th>\n",
       "      <td>Romance-Historical Romance</td>\n",
       "      <td>215815.0</td>\n",
       "    </tr>\n",
       "    <tr>\n",
       "      <th>649</th>\n",
       "      <td>Romance-Interracial Romance</td>\n",
       "      <td>287.0</td>\n",
       "    </tr>\n",
       "    <tr>\n",
       "      <th>650</th>\n",
       "      <td>Romance-Love Story</td>\n",
       "      <td>173.0</td>\n",
       "    </tr>\n",
       "    <tr>\n",
       "      <th>651</th>\n",
       "      <td>Romance-M F Romance</td>\n",
       "      <td>431.0</td>\n",
       "    </tr>\n",
       "    <tr>\n",
       "      <th>652</th>\n",
       "      <td>Romance-M M Romance</td>\n",
       "      <td>46428.0</td>\n",
       "    </tr>\n",
       "    <tr>\n",
       "      <th>653</th>\n",
       "      <td>Romance-Paranormal Romance</td>\n",
       "      <td>311324.0</td>\n",
       "    </tr>\n",
       "    <tr>\n",
       "      <th>654</th>\n",
       "      <td>Romance-Romantic Suspense</td>\n",
       "      <td>42177.0</td>\n",
       "    </tr>\n",
       "    <tr>\n",
       "      <th>655</th>\n",
       "      <td>Romance-Science Fiction Romance</td>\n",
       "      <td>708.0</td>\n",
       "    </tr>\n",
       "    <tr>\n",
       "      <th>656</th>\n",
       "      <td>Romance-Time Travel Romance</td>\n",
       "      <td>231.0</td>\n",
       "    </tr>\n",
       "    <tr>\n",
       "      <th>657</th>\n",
       "      <td>Romance-Western Romance</td>\n",
       "      <td>1110.0</td>\n",
       "    </tr>\n",
       "    <tr>\n",
       "      <th>667</th>\n",
       "      <td>Science Fiction R...-Futuristic Romance</td>\n",
       "      <td>4.0</td>\n",
       "    </tr>\n",
       "    <tr>\n",
       "      <th>808</th>\n",
       "      <td>Young Adult-Young Adult Romance</td>\n",
       "      <td>2360.0</td>\n",
       "    </tr>\n",
       "  </tbody>\n",
       "</table>\n",
       "</div>"
      ],
      "text/plain": [
       "                                                   name      votes\n",
       "genre_id                                                          \n",
       "92                           Category Romance-Harlequin      472.0\n",
       "93                       Category Romance-Love Inspired      113.0\n",
       "94                           Category Romance-Loveswept        3.0\n",
       "95                      Category Romance-Mills and Boon        4.0\n",
       "96                          Category Romance-Silhouette        2.0\n",
       "97                 Category Romance-Traditional Regency        4.0\n",
       "152                 Contemporary Romance-Sports Romance    11467.0\n",
       "348                               Gothic-Gothic Romance      161.0\n",
       "358                         Harlequin-Harlequin Romance        2.0\n",
       "373                 Historical Romance-Medieval Romance      515.0\n",
       "374                  Historical Romance-Regency Romance     3751.0\n",
       "375                Historical Romance-Victorian Romance        5.0\n",
       "376       Historical Romance-Western Historical Romance       29.0\n",
       "459                             M M Romance-M M Fantasy       55.0\n",
       "460                  M M Romance-M M Historical Romance        2.0\n",
       "461                             M M Romance-M M Mystery        2.0\n",
       "462                          M M Romance-M M Paranormal        4.0\n",
       "463                     M M Romance-M M Science Fiction        2.0\n",
       "467                                 Manga-Manga Romance       21.0\n",
       "494                   Military Fiction-Military Romance      300.0\n",
       "532                         New Adult-New Adult Romance       67.0\n",
       "640                                             Romance  2422690.0\n",
       "641                    Romance-African American Romance       25.0\n",
       "642                            Romance-Category Romance       28.0\n",
       "643                           Romance-Christian Romance     2077.0\n",
       "644                               Romance-Clean Romance      739.0\n",
       "645                        Romance-Contemporary Romance   194459.0\n",
       "646                              Romance-Erotic Romance    14367.0\n",
       "647                             Romance-Fantasy Romance     4123.0\n",
       "648                          Romance-Historical Romance   215815.0\n",
       "649                         Romance-Interracial Romance      287.0\n",
       "650                                  Romance-Love Story      173.0\n",
       "651                                 Romance-M F Romance      431.0\n",
       "652                                 Romance-M M Romance    46428.0\n",
       "653                          Romance-Paranormal Romance   311324.0\n",
       "654                           Romance-Romantic Suspense    42177.0\n",
       "655                     Romance-Science Fiction Romance      708.0\n",
       "656                         Romance-Time Travel Romance      231.0\n",
       "657                             Romance-Western Romance     1110.0\n",
       "667             Science Fiction R...-Futuristic Romance        4.0\n",
       "808                     Young Adult-Young Adult Romance     2360.0"
      ]
     },
     "execution_count": 19,
     "metadata": {},
     "output_type": "execute_result"
    }
   ],
   "source": [
    "genres[genres.name.str.contains('Romance')]"
   ]
  },
  {
   "cell_type": "code",
   "execution_count": 20,
   "id": "5fd235d7-0cb9-432c-a96e-ac0a50bfe058",
   "metadata": {},
   "outputs": [
    {
     "data": {
      "text/plain": [
       "0.04"
      ]
     },
     "execution_count": 20,
     "metadata": {},
     "output_type": "execute_result"
    }
   ],
   "source": [
    "round(candidates_for_train.genre_640.median(), 2)"
   ]
  },
  {
   "cell_type": "markdown",
   "id": "88e08fc1-8610-4e5f-8fd5-f7ba1bd585f6",
   "metadata": {},
   "source": [
    "## Обучение и получение рекомендаций"
   ]
  },
  {
   "cell_type": "markdown",
   "id": "d2715e66-cd8f-43d5-ba2d-f3526da40a81",
   "metadata": {},
   "source": [
    "Вы добавили в candidates_for_train и candidates_to_rank различные признаки. Обучите новую ранжирующую модель, которая их будет учитывать.\n"
   ]
  },
  {
   "cell_type": "markdown",
   "id": "7a04982b-7633-41b7-bd0a-912f102e3486",
   "metadata": {},
   "source": [
    "**Задание 4 из 6**"
   ]
  },
  {
   "cell_type": "markdown",
   "id": "23eaba99-926c-4332-a7a5-be488f39b900",
   "metadata": {},
   "source": [
    "Обучите модель, выполнив код ниже:"
   ]
  },
  {
   "cell_type": "code",
   "execution_count": 21,
   "id": "22c97987-f34c-4e9e-a0fa-08f980d68305",
   "metadata": {},
   "outputs": [
    {
     "name": "stdout",
     "output_type": "stream",
     "text": [
      "0:\tlearn: 0.6485043\ttotal: 73.1ms\tremaining: 1m 13s\n",
      "100:\tlearn: 0.4665268\ttotal: 2.52s\tremaining: 22.4s\n",
      "200:\tlearn: 0.4578610\ttotal: 4.95s\tremaining: 19.7s\n",
      "300:\tlearn: 0.4518428\ttotal: 7.37s\tremaining: 17.1s\n",
      "400:\tlearn: 0.4471687\ttotal: 9.8s\tremaining: 14.6s\n",
      "500:\tlearn: 0.4429055\ttotal: 12.3s\tremaining: 12.2s\n",
      "600:\tlearn: 0.4390647\ttotal: 14.7s\tremaining: 9.79s\n",
      "700:\tlearn: 0.4355651\ttotal: 17.1s\tremaining: 7.31s\n",
      "800:\tlearn: 0.4321506\ttotal: 19.5s\tremaining: 4.85s\n",
      "900:\tlearn: 0.4288350\ttotal: 22s\tremaining: 2.41s\n",
      "999:\tlearn: 0.4257325\ttotal: 24.4s\tremaining: 0us\n"
     ]
    },
    {
     "data": {
      "text/plain": [
       "<catboost.core.CatBoostClassifier at 0x7fea40fea650>"
      ]
     },
     "execution_count": 21,
     "metadata": {},
     "output_type": "execute_result"
    }
   ],
   "source": [
    "from catboost import CatBoostClassifier, Pool\n",
    "\n",
    "# задаём имена колонок признаков и таргета\n",
    "features = ['als_score', 'cnt_score', \n",
    "    'age', 'average_rating', 'reading_years', 'books_read', \n",
    "    'rating_avg', 'rating_std', \n",
    "    'books_per_year'] + genre_columns\n",
    "target = 'target'\n",
    "\n",
    "# создаём Pool\n",
    "train_data = Pool(\n",
    "    data=candidates_for_train[features], \n",
    "    label=candidates_for_train[target])\n",
    "\n",
    "# инициализируем модель CatBoostClassifier\n",
    "cb_model = CatBoostClassifier(\n",
    "    iterations=1000,\n",
    "    learning_rate=0.1,\n",
    "    depth=6,\n",
    "    loss_function='Logloss',\n",
    "    verbose=100,\n",
    "    random_seed=0,\n",
    ")\n",
    "\n",
    "# тренируем модель\n",
    "cb_model.fit(train_data)"
   ]
  },
  {
   "cell_type": "markdown",
   "id": "575d0664-8528-4cba-9d5a-f48f68af38fd",
   "metadata": {},
   "source": [
    "Получите топ-100 самых релевантных рекомендация для каждого пользователя, используя обученную модель."
   ]
  },
  {
   "cell_type": "code",
   "execution_count": 23,
   "id": "28f6dc3e-68fa-40b9-9c85-5e8e08030ba5",
   "metadata": {},
   "outputs": [],
   "source": [
    "inference_data = Pool(data=candidates_to_rank[features])\n",
    "predictions = cb_model.predict_proba(inference_data)"
   ]
  },
  {
   "cell_type": "code",
   "execution_count": null,
   "id": "168f7843-4404-4243-8df8-f6a2bcd87596",
   "metadata": {},
   "outputs": [],
   "source": [
    "candidates_to_rank[\"cb_score\"] = predictions[:, 1] # ваш код здесь #"
   ]
  },
  {
   "cell_type": "code",
   "execution_count": 25,
   "id": "72d43320-1f08-4669-8619-b896052ca6cc",
   "metadata": {},
   "outputs": [],
   "source": [
    "# для каждого пользователя проставим rank, начиная с 1 — это максимальный cb_score\n",
    "candidates_to_rank = candidates_to_rank.sort_values([\"user_id\", \"cb_score\"], ascending=[True, False])\n",
    "candidates_to_rank[\"rank\"] = (candidates_to_rank.groupby(\"user_id\").cumcount() + 1) # ваш код здесь #"
   ]
  },
  {
   "cell_type": "code",
   "execution_count": 26,
   "id": "337caba7-c3df-4f5c-b0f1-660dad369546",
   "metadata": {},
   "outputs": [],
   "source": [
    "max_recommendations_per_user = 100\n",
    "final_recommendations = candidates_to_rank.query('rank <= @max_recommendations_per_user')"
   ]
  },
  {
   "cell_type": "code",
   "execution_count": 30,
   "id": "474d5db2-95f5-47bc-adef-ed960dd7319a",
   "metadata": {},
   "outputs": [
    {
     "data": {
      "text/plain": [
       "75194"
      ]
     },
     "execution_count": 30,
     "metadata": {},
     "output_type": "execute_result"
    }
   ],
   "source": [
    "# Сколько пользователей попало в final_recommendations?\n",
    "final_recommendations.user_id.nunique()"
   ]
  },
  {
   "cell_type": "markdown",
   "id": "854c7380-0000-4c7b-8da3-82a53d7c88bb",
   "metadata": {},
   "source": [
    "**Задание 5 из 6**"
   ]
  },
  {
   "cell_type": "markdown",
   "id": "b71e9568-9786-41ea-8405-2ff62dce3042",
   "metadata": {},
   "source": [
    "Используя отложенную тестовую выборку `events_test_2`, посчитайте метрики `recall` и `precision` для полученных рекомендаций."
   ]
  },
  {
   "cell_type": "code",
   "execution_count": 31,
   "id": "59923722-4c37-4d5e-a397-d609a027b1fb",
   "metadata": {},
   "outputs": [],
   "source": [
    "def process_events_recs_for_binary_metrics(events_train, events_test, recs, top_k=None):\n",
    "\n",
    "    \"\"\"\n",
    "    размечает пары <user_id, item_id> для общего множества пользователей признаками\n",
    "    - gt (ground truth)\n",
    "    - pr (prediction)\n",
    "    top_k: расчёт ведётся только для top k-рекомендаций\n",
    "    \"\"\"\n",
    "\n",
    "    events_test[\"gt\"] = True\n",
    "    common_users = set(events_test[\"user_id\"]) & set(recs[\"user_id\"])\n",
    "\n",
    "    print(f\"Common users: {len(common_users)}\")\n",
    "    \n",
    "    events_for_common_users = events_test[events_test[\"user_id\"].isin(common_users)].copy()\n",
    "    recs_for_common_users = recs[recs[\"user_id\"].isin(common_users)].copy()\n",
    "\n",
    "    recs_for_common_users = recs_for_common_users.sort_values([\"user_id\", \"score\"], ascending=[True, False])\n",
    "\n",
    "    # оставляет только те item_id, которые были в events_train, \n",
    "    # т. к. модель не имела никакой возможности давать рекомендации для новых айтемов\n",
    "    events_for_common_users = events_for_common_users[events_for_common_users[\"item_id\"].isin(events_train[\"item_id\"].unique())]\n",
    "\n",
    "    if top_k is not None:\n",
    "        recs_for_common_users = recs_for_common_users.groupby(\"user_id\").head(top_k)\n",
    "    \n",
    "    events_recs_common = events_for_common_users[[\"user_id\", \"item_id\", \"gt\"]].merge(\n",
    "        recs_for_common_users[[\"user_id\", \"item_id\", \"score\"]], \n",
    "        on=[\"user_id\", \"item_id\"], how=\"outer\")    \n",
    "\n",
    "    events_recs_common[\"gt\"] = events_recs_common[\"gt\"].fillna(False)\n",
    "    events_recs_common[\"pr\"] = ~events_recs_common[\"score\"].isnull()\n",
    "    \n",
    "    events_recs_common[\"tp\"] = events_recs_common[\"gt\"] & events_recs_common[\"pr\"]\n",
    "    events_recs_common[\"fp\"] = ~events_recs_common[\"gt\"] & events_recs_common[\"pr\"]\n",
    "    events_recs_common[\"fn\"] = events_recs_common[\"gt\"] & ~events_recs_common[\"pr\"]\n",
    "\n",
    "    return events_recs_common"
   ]
  },
  {
   "cell_type": "code",
   "execution_count": 32,
   "id": "63c3ef5d-3619-4ec6-8c62-f1c7459a0317",
   "metadata": {},
   "outputs": [],
   "source": [
    "def compute_cls_metrics(events_recs_for_binary_metric):\n",
    "    \n",
    "    groupper = events_recs_for_binary_metric.groupby(\"user_id\")\n",
    "\n",
    "    # precision = tp / (tp + fp)\n",
    "    precision = groupper[\"tp\"].sum()/(groupper[\"tp\"].sum()+groupper[\"fp\"].sum())\n",
    "    precision = precision.fillna(0).mean()\n",
    "    \n",
    "    # recall = tp / (tp + fn)\n",
    "    recall = groupper[\"tp\"].sum()/(groupper[\"tp\"].sum()+groupper[\"fn\"].sum())\n",
    "    recall = recall.fillna(0).mean()\n",
    "\n",
    "    return precision, recall"
   ]
  },
  {
   "cell_type": "code",
   "execution_count": 34,
   "id": "c5022c38-bc72-49f0-878b-72e35dee8e91",
   "metadata": {},
   "outputs": [
    {
     "name": "stdout",
     "output_type": "stream",
     "text": [
      "Common users: 75194\n",
      "precision: 0.011, recall: 0.0295\n"
     ]
    }
   ],
   "source": [
    "# для экономии ресурсов оставим события только тех пользователей, \n",
    "# для которых следует оценить рекомендации\n",
    "events_inference = pd.concat([events_train, events_labels])\n",
    "events_inference = events_inference[events_inference[\"user_id\"].isin(events_test_2[\"user_id\"].drop_duplicates())]\n",
    "\n",
    "cb_events_recs_for_binary_metrics_5 = process_events_recs_for_binary_metrics(\n",
    "    events_inference,\n",
    "    events_test_2,\n",
    "    final_recommendations.rename(columns={\"cb_score\": \"score\"}), \n",
    "    top_k=5)\n",
    "\n",
    "cb_precision_5, cb_recall_5 = compute_cls_metrics(cb_events_recs_for_binary_metrics_5)\n",
    "\n",
    "print(f\"precision: {cb_precision_5:.4f}, recall: {cb_recall_5:.4f}\")"
   ]
  },
  {
   "cell_type": "markdown",
   "id": "fe2c9901-53d7-46e2-965b-e388d091176b",
   "metadata": {},
   "source": [
    "## Проверка важности признаков"
   ]
  },
  {
   "cell_type": "markdown",
   "id": "3cdaaaf7-a9e5-4c86-a0b8-e9e9726eaf28",
   "metadata": {},
   "source": [
    "Любопытно понять, какие признаки вносят наибольший вклад в ранжирование. Алгоритм CatBoost позволяет получить такую информацию (англ. feature importance), которая генерируется во время тренировки модели. Для этого используйте метод get_feature_importance(). "
   ]
  },
  {
   "cell_type": "markdown",
   "id": "6b29ccf7-e854-4682-bb44-d1ba8e9bd407",
   "metadata": {},
   "source": [
    "**Задание 6**\n",
    "\n",
    "Выполните код для получения информации о важности признаков. Выведите список признаков feature_importance в порядке убывания их важности."
   ]
  },
  {
   "cell_type": "code",
   "execution_count": 37,
   "id": "0e27b872-dc4f-49e3-bffb-d4125cd4f455",
   "metadata": {},
   "outputs": [
    {
     "name": "stdout",
     "output_type": "stream",
     "text": [
      "                       fi\n",
      "als_score       30.043771\n",
      "age             18.356837\n",
      "average_rating  13.889881\n",
      "books_read       7.140439\n",
      "cnt_score        2.887655\n",
      "reading_years    2.599439\n",
      "genre_800        2.558679\n",
      "genre_others     2.522204\n",
      "genre_308        2.519999\n",
      "genre_285        2.444803\n",
      "genre_640        2.211371\n",
      "books_per_year   1.740982\n",
      "genre_132        1.588057\n",
      "genre_512        1.582231\n",
      "rating_avg       1.570182\n",
      "genre_296        1.507410\n",
      "genre_378        1.425483\n",
      "genre_665        1.334677\n",
      "genre_535        1.077762\n",
      "rating_std       0.998138\n"
     ]
    }
   ],
   "source": [
    "feature_importance = pd.DataFrame(cb_model.get_feature_importance(), \n",
    "    index=features, \n",
    "    columns=[\"fi\"])\n",
    "feature_importance = feature_importance.sort_values('fi', ascending=False) # ваш код здесь #\n",
    "\n",
    "print(feature_importance )"
   ]
  },
  {
   "cell_type": "markdown",
   "id": "84eac51e-59ca-4fd2-8df2-c76b58fe9483",
   "metadata": {},
   "source": [
    "Вы научились ранжировать рекомендации от кандидатогенераторов, используя не только оценки от них, но и произвольные признаки.\n",
    "Так ML-инженер получает большую свободу для полезного творчества, чтобы построить более качественные рекомендации.\n",
    "Не забывайте, что конструирование признаков — это итеративный и исследовательский процесс.\n",
    "Чем лучше разработчик рекомендательной системы понимает пользователей и их взаимодействие с объектами, тем точнее удастся определить, какие признаки стоит создать и протестировать."
   ]
  },
  {
   "cell_type": "code",
   "execution_count": null,
   "id": "e3afaf68-bf5e-43d9-b76f-7ef2b8f70858",
   "metadata": {},
   "outputs": [],
   "source": []
  }
 ],
 "metadata": {
  "kernelspec": {
   "display_name": "Python 3 (ipykernel)",
   "language": "python",
   "name": "python3"
  },
  "language_info": {
   "codemirror_mode": {
    "name": "ipython",
    "version": 3
   },
   "file_extension": ".py",
   "mimetype": "text/x-python",
   "name": "python",
   "nbconvert_exporter": "python",
   "pygments_lexer": "ipython3",
   "version": "3.10.12"
  }
 },
 "nbformat": 4,
 "nbformat_minor": 5
}
